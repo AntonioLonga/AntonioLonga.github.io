{
 "cells": [
  {
   "cell_type": "markdown",
   "metadata": {},
   "source": [
    "# Module 1, Exams \n",
    "## Exams and Simulation\n",
    "\n",
    "1. Sim. [3 11 23](exams_partA/sim/Simulation_3_Nov_23_Part_A_DS.zip)\n",
    "2. Mid term [7 11 23](exams_partA/mid_term/First_mid_term.zip)\n",
    "3. Exam 1 [22 01 24](exams_partA/Exam1/Esame1_22_01_24.zip)\n"
   ]
  },
  {
   "cell_type": "markdown",
   "metadata": {},
   "source": []
  }
 ],
 "metadata": {
  "celltoolbar": "Edit Metadata",
  "interpreter": {
   "hash": "11275e423c76d0a0e201506d98996a0e29f00e2374f373c1ba4dd1e488736b32"
  },
  "kernelspec": {
   "display_name": "Python 3 (ipykernel)",
   "language": "python",
   "name": "python3"
  },
  "language_info": {
   "codemirror_mode": {
    "name": "ipython",
    "version": 3
   },
   "file_extension": ".py",
   "mimetype": "text/x-python",
   "name": "python",
   "nbconvert_exporter": "python",
   "pygments_lexer": "ipython3",
   "version": "3.10.13"
  }
 },
 "nbformat": 4,
 "nbformat_minor": 2
}
