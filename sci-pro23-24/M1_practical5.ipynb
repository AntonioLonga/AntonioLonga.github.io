{
 "cells": [
  {
   "cell_type": "markdown",
   "metadata": {},
   "source": [
    "# Module 1, Practical 5\n",
    "\n",
    "In this practical we will add some information on loops and introduce dictionaries.\n",
    "\n",
    "## More on loops\n",
    "As seen in the previous practical and in the lecture, there are three different ways of execution flow:\n",
    "\n",
    "![i1](img/pract4/structured_programming.png)\n",
    "\n",
    "We have already seen the *if*, *for* and *while* loops and their variants. Please remember that the code block of each of these statements is defined by the *indentation* (i.e. spacing). \n",
    "\n",
    "\n",
    "### Ternary operator\n",
    "In some cases it is handy to be able to initialize a variable depending on the value of another one.\n",
    "\n",
    "**Example**:\n",
    "The discount rate applied to a purchase depends on the amount of the sale. Create a variable *discount* setting its value to 0 if the variable *amount* is lower than 100 euros, to 10% if it is higher."
   ]
  },
  {
   "cell_type": "code",
   "execution_count": 1,
   "metadata": {},
   "outputs": [
    {
     "name": "stdout",
     "output_type": "stream",
     "text": [
      "Total amount: 110 discount: 0.1\n"
     ]
    }
   ],
   "source": [
    "amount = 110\n",
    "discount = 0\n",
    "\n",
    "if amount >100:\n",
    "    discount = 0.1\n",
    "else:\n",
    "    discount = 0 # not necessary\n",
    "\n",
    "print(\"Total amount:\", amount, \"discount:\", discount)\n"
   ]
  },
  {
   "cell_type": "markdown",
   "metadata": {},
   "source": [
    "The previous code can be written more coincisely as:"
   ]
  },
  {
   "cell_type": "code",
   "execution_count": 2,
   "metadata": {},
   "outputs": [
    {
     "name": "stdout",
     "output_type": "stream",
     "text": [
      "Total amount: 110 discount: 0.1\n"
     ]
    }
   ],
   "source": [
    "amount = 110\n",
    "discount = 0.1 if amount > 100 else 0\n",
    "print(\"Total amount:\", amount, \"discount:\", discount)"
   ]
  },
  {
   "cell_type": "markdown",
   "metadata": {},
   "source": [
    "The basic syntax of the ternary operator is:"
   ]
  },
  {
   "cell_type": "markdown",
   "metadata": {},
   "source": [
    "```\n",
    "variable = value if condition else other_value\n",
    "```"
   ]
  },
  {
   "cell_type": "markdown",
   "metadata": {},
   "source": [
    "meaning that the *variable* is initialized to *value* if the *condition* holds, otherwise to *other_value*.\n",
    "\n",
    "Python also allows in line operations separated by a \";\". This is a compact way of specifying several instructions on a single line, but it makes the code more difficult to read."
   ]
  },
  {
   "cell_type": "code",
   "execution_count": 3,
   "metadata": {},
   "outputs": [
    {
     "name": "stdout",
     "output_type": "stream",
     "text": [
      "10 11 13\n"
     ]
    }
   ],
   "source": [
    "a = 10; b = a + 1; c = b +2\n",
    "print(a,b,c)"
   ]
  },
  {
   "cell_type": "markdown",
   "metadata": {},
   "source": [
    "<div class=\"alert alert-warning\">\n",
    "\n",
    "**Note:** Although the ternary operator and in line operations are sometimes useful and less verbose than the explicit definition, they are considered \"non-pythonic\" and advised against.\n",
    "\n",
    "</div>"
   ]
  },
  {
   "cell_type": "markdown",
   "metadata": {},
   "source": [
    "### Break and continue\n",
    "\n",
    "Sometimes it is useful to skip an entire iteration of a loop or end the loop before its supposed end.\n",
    "This can be achieved with two different statements:  **continue** and **break**.\n",
    "\n",
    "#### Continue statement\n",
    "Within a **for** or **while** loop, **continue** makes the interpreter skip that iteration and move on to the next. \n",
    "\n",
    "**Example:**\n",
    "Print all the odd numbers from 1 to 20."
   ]
  },
  {
   "cell_type": "code",
   "execution_count": 4,
   "metadata": {},
   "outputs": [
    {
     "name": "stdout",
     "output_type": "stream",
     "text": [
      "1 3 5 7 9 11 13 15 17 19 \n",
      "1 3 5 7 9 11 13 15 17 19 "
     ]
    }
   ],
   "source": [
    "#Two equivalent ways\n",
    "#1. Testing remainder == 1\n",
    "for i in range(21):\n",
    "    if i % 2 == 1:\n",
    "        print(i, end = \" \")\n",
    "\n",
    "print(\"\")\n",
    "\n",
    "#2. Skipping if remainder == 0 in for\n",
    "for i in range(21):\n",
    "    if i % 2 == 0:\n",
    "        continue\n",
    "    print(i, end = \" \")"
   ]
  },
  {
   "cell_type": "markdown",
   "metadata": {},
   "source": [
    "Continue can be used also within while loops but we need to be careful to update the value of the variable before reaching the continue statement or we will get stuck in never-ending loops.\n",
    "**Example:**\n",
    "Print all the odd numbers from 1 to 20."
   ]
  },
  {
   "cell_type": "code",
   "execution_count": null,
   "metadata": {},
   "outputs": [],
   "source": [
    "#Wrong code:\n",
    "i = 0\n",
    "while i < 21:\n",
    "    if i % 2 == 0:\n",
    "        continue\n",
    "    print(i, end = \" \")\n",
    "    i = i + 1 # NEVER EXECUTED IF i % 2 == 0!!!!"
   ]
  },
  {
   "cell_type": "markdown",
   "metadata": {},
   "source": [
    "a possible correct solution using while:"
   ]
  },
  {
   "cell_type": "code",
   "execution_count": 5,
   "metadata": {},
   "outputs": [
    {
     "name": "stdout",
     "output_type": "stream",
     "text": [
      "1 3 5 7 9 11 13 15 17 19 "
     ]
    }
   ],
   "source": [
    "i = -1\n",
    "while i< 20:       #i is incremented in the loop, so 20!!!\n",
    "    i = i + 1        #the variable is updated no matter what\n",
    "    if i % 2 == 0:\n",
    "        continue\n",
    "    print(i, end = \" \")"
   ]
  },
  {
   "cell_type": "markdown",
   "metadata": {},
   "source": [
    "#### Break statement\n",
    "Within a **for** or **while** loop, **break** makes the interpreter exit the loop and continue with the sequential execution. Sometimes it is useful to get out of the loop if to complete our task we do not need to get to the end of it.\n",
    "\n",
    "**Example:**\n",
    "Given the following list of integers [1,5,6,4,7,1,2,3,7] print them until a number already printed is found. "
   ]
  },
  {
   "cell_type": "code",
   "execution_count": 6,
   "metadata": {},
   "outputs": [
    {
     "name": "stdout",
     "output_type": "stream",
     "text": [
      "1 5 6 4 7 "
     ]
    }
   ],
   "source": [
    "L = [1,5,6,4,7,1,2,3,7]\n",
    "found = []\n",
    "for i in L:\n",
    "    if i in found:\n",
    "        break\n",
    "        \n",
    "    found.append(i)\n",
    "    print(i, end = \" \")"
   ]
  },
  {
   "cell_type": "markdown",
   "metadata": {},
   "source": [
    "**Example:**\n",
    "Pick a random number from 1 and 50 and count how many times it takes to randomly choose number 27. Limit the number of random picks to 40 (i.e. if more than 40 picks have been done and 27 has not been found exit anyway with a message)."
   ]
  },
  {
   "cell_type": "code",
   "execution_count": 7,
   "metadata": {},
   "outputs": [
    {
     "name": "stdout",
     "output_type": "stream",
     "text": [
      "27 found in  9 iterations\n",
      "[9, 16, 8, 37, 42, 7, 14, 28, 27]\n"
     ]
    }
   ],
   "source": [
    "import random\n",
    "\n",
    "iterations = 1\n",
    "picks = []\n",
    "while iterations <= 40:\n",
    "    pick = random.randint(1,50)\n",
    "    picks.append(pick)\n",
    "\n",
    "    if pick == 27:\n",
    "        break\n",
    "    iterations += 1   #equal to: iterations = iterations + 1 \n",
    "\n",
    "if iterations == 41:\n",
    "    print(\"Sorry number 27 was never found!\")\n",
    "else:\n",
    "    print(\"27 found in \", iterations, \"iterations\")\n",
    "\n",
    "print(picks)"
   ]
  },
  {
   "cell_type": "markdown",
   "metadata": {},
   "source": [
    "An alternative way without using the break statement makes use of a *flag* variable (that when changes value will make the loop end):"
   ]
  },
  {
   "cell_type": "code",
   "execution_count": 8,
   "metadata": {},
   "outputs": [
    {
     "name": "stdout",
     "output_type": "stream",
     "text": [
      "Sorry number 27 was never found!\n",
      "[14, 32, 28, 25, 49, 28, 31, 6, 11, 17, 21, 13, 35, 15, 3, 30, 34, 19, 38, 20, 47, 38, 14, 42, 32, 19, 23, 49, 40, 21, 17, 35, 47, 1, 39, 41, 31, 33, 21, 35]\n"
     ]
    }
   ],
   "source": [
    "import random\n",
    "found = False # This is called flag\n",
    "iterations = 1\n",
    "picks = []\n",
    "while iterations <= 40 and found == False: #the flag is used to exit \n",
    "    pick = random.randint(1,50)\n",
    "    picks.append(pick)\n",
    "    if pick == 27:\n",
    "        found = True     #update the flag, will exit at next iteration\n",
    "    iterations += 1\n",
    "\n",
    "if iterations == 41 and not found:\n",
    "    print(\"Sorry number 27 was never found!\")\n",
    "else:\n",
    "    print(\"27 found in \", iterations -1, \"iterations\")\n",
    "    \n",
    "print(picks)"
   ]
  },
  {
   "cell_type": "markdown",
   "metadata": {},
   "source": [
    "### List comprehension\n",
    "List comprehension is a quick way of creating a list. The resulting list is normally obtained by applying a function or a method to the elements of another list that **remains unchanged**.\n",
    "\n",
    "The basic syntax is:"
   ]
  },
  {
   "cell_type": "markdown",
   "metadata": {},
   "source": [
    "```\n",
    "new_list = [ some_function (x) for x in start_list]\n",
    "```\n",
    "or\n",
    "```\n",
    "new_list = [ x.some_method() for x in start_list]\n",
    "```"
   ]
  },
  {
   "cell_type": "markdown",
   "metadata": {},
   "source": [
    "List comprehension can also be used to filter elements of a list and produce another list as sublist of the first one (**remember that the original list is not changed**).\n",
    "\n",
    "In this case the syntax is:"
   ]
  },
  {
   "cell_type": "markdown",
   "metadata": {},
   "source": [
    "```\n",
    "new_list = [ some_function (x) for x in start_list if condition]\n",
    "```\n",
    "or\n",
    "```\n",
    "new_list = [ x.some_method() for x in start_list if condition]\n",
    "```"
   ]
  },
  {
   "cell_type": "markdown",
   "metadata": {},
   "source": [
    "where the element x in start_list becomes part of new_list if and only if the condition holds True.\n",
    "\n",
    "Let's see some examples:\n",
    "\n",
    "**Example:**\n",
    "Given a list of strings [\"hi\", \"there\", \"from\", \"python\"] create a list with the length of the corresponding element (i.e. the one with the same index)."
   ]
  },
  {
   "cell_type": "code",
   "execution_count": 9,
   "metadata": {},
   "outputs": [
    {
     "name": "stdout",
     "output_type": "stream",
     "text": [
      "hi  has length  2\n",
      "there  has length  5\n",
      "from  has length  4\n",
      "python  has length  6\n"
     ]
    }
   ],
   "source": [
    "elems = [\"hi\", \"there\", \"from\", \"python\"]\n",
    "\n",
    "newList = [len(x) for x in elems]\n",
    "\n",
    "for i in range(0,len(elems)):\n",
    "    print(elems[i], \" has length \", newList[i])"
   ]
  },
  {
   "cell_type": "markdown",
   "metadata": {},
   "source": [
    "**Example:**\n",
    "Given a list of strings [\"dog\", \"cat\", \"rabbit\", \"guinea pig\", \"hamster\", \"canary\", \"goldfish\"] create a list with the elements starting with a \"c\" or \"g\"."
   ]
  },
  {
   "cell_type": "code",
   "execution_count": 10,
   "metadata": {},
   "outputs": [
    {
     "name": "stdout",
     "output_type": "stream",
     "text": [
      "Original:\n",
      "['dog', 'cat', 'rabbit', 'guinea pig', 'hamster', 'canary', 'goldfish']\n",
      "Filtered:\n",
      "['cat', 'guinea pig', 'canary', 'goldfish']\n"
     ]
    }
   ],
   "source": [
    "pets = [\"dog\", \"cat\", \"rabbit\", \"guinea pig\", \"hamster\", \"canary\", \"goldfish\"]\n",
    "\n",
    "cg_pets = [x for x in pets if x.startswith(\"c\") or x.startswith(\"g\")]\n",
    "\n",
    "print(\"Original:\")\n",
    "print(pets)\n",
    "print(\"Filtered:\")\n",
    "print(cg_pets)"
   ]
  },
  {
   "cell_type": "markdown",
   "metadata": {},
   "source": [
    "**Example:**\n",
    "Create a list with all the numbers divisible by 17 from 1 to 200."
   ]
  },
  {
   "cell_type": "code",
   "execution_count": 11,
   "metadata": {
    "scrolled": true
   },
   "outputs": [
    {
     "name": "stdout",
     "output_type": "stream",
     "text": [
      "[17, 34, 51, 68, 85, 102, 119, 136, 153, 170, 187]\n"
     ]
    }
   ],
   "source": [
    "values = [ x for x in range(1,200) if x % 17 == 0]\n",
    "print(values)"
   ]
  },
  {
   "cell_type": "markdown",
   "metadata": {},
   "source": [
    "**Example:**\n",
    "Transpose the matrix $\\begin{bmatrix}1 & 10\\\\2 & 20\\\\3 & 30\\\\4 & 40\\end{bmatrix}$ stored as a list of lists (i.e. matrix = [[1, 10], [2,20], [3,30], [4,40]]). The output matrix should be: $\\begin{bmatrix}1 & 2 & 3 & 4\\\\10 & 20 & 30 & 40\\end{bmatrix}$, represented as [[1, 2, 3, 4], [10, 20, 30, 40]]  "
   ]
  },
  {
   "cell_type": "code",
   "execution_count": 12,
   "metadata": {},
   "outputs": [
    {
     "name": "stdout",
     "output_type": "stream",
     "text": [
      "[[1, 10], [2, 20], [3, 30], [4, 40]]\n",
      "[[1, 2, 3, 4], [10, 20, 30, 40]]\n"
     ]
    }
   ],
   "source": [
    "matrix = [[1, 10], [2,20], [3,30], [4,40]]\n",
    "print(matrix)\n",
    "transpose = [[row[i] for row in matrix] for i in range(2)]\n",
    "print (transpose)"
   ]
  },
  {
   "cell_type": "markdown",
   "metadata": {},
   "source": [
    "**Example:**\n",
    "Given the list: [\"Hotel\", \"Icon\",\" Bus\",\"Train\", \"Hotel\", \"Eye\", \"Rain\", \"Elephant\"] create a list with all the first letters."
   ]
  },
  {
   "cell_type": "code",
   "execution_count": 13,
   "metadata": {},
   "outputs": [
    {
     "name": "stdout",
     "output_type": "stream",
     "text": [
      "['Hotel', 'Icon', ' Bus', 'Train', 'Hotel', 'Eye', 'Rain', 'Elephant']\n",
      "['H', 'I', ' ', 'T', 'H', 'E', 'R', 'E']\n",
      "HI THERE\n"
     ]
    }
   ],
   "source": [
    "myList = [\"Hotel\", \"Icon\",\" Bus\",\"Train\", \"Hotel\", \"Eye\", \"Rain\", \"Elephant\"]\n",
    "initials = [x[0] for x in myList]\n",
    "\n",
    "print(myList)\n",
    "print(initials)\n",
    "print(\"\".join(initials))"
   ]
  },
  {
   "cell_type": "markdown",
   "metadata": {},
   "source": [
    "With list comprehension we can copy a list into another one, but this is a shallow copy:"
   ]
  },
  {
   "cell_type": "code",
   "execution_count": 10,
   "metadata": {},
   "outputs": [
    {
     "name": "stdout",
     "output_type": "stream",
     "text": [
      "B: [[1, 2, 3], [[[1, 2, 3]]]]\n",
      "C: [[1, 2, 3], [[[1, 2, 3]]]]\n",
      "B now: [[1, 2, 3, 4], [[[1, 2, 3, 4]]]]\n",
      "C now: [[1, 2, 3, 4], [[[1, 2, 3, 4]]]]\n"
     ]
    }
   ],
   "source": [
    "a = [1,2,3]\n",
    "b = [a, [[a]]]\n",
    "print(\"B:\", b)\n",
    "c = [x for x in b]\n",
    "print(\"C:\", c)\n",
    "a.append(4)\n",
    "print(\"B now:\" , b)\n",
    "print(\"C now:\", c)"
   ]
  },
  {
   "cell_type": "markdown",
   "metadata": {},
   "source": [
    "## Dictionaries\n",
    "\n",
    "A **dictionary** is a map between one object, the **key**, and another object, the **value**. Dictionaries are **mutable objects** and contain sequences of mappings *key* --> *object* but there is not specific ordering among them. \n",
    "Dictionaries are defined using the curly braces **{key1 : value1, key2 : value2}** and **:** to separate keys from values.\n",
    "\n",
    "Some examples on how to define dictionaries follow:"
   ]
  },
  {
   "cell_type": "code",
   "execution_count": 14,
   "metadata": {},
   "outputs": [
    {
     "name": "stdout",
     "output_type": "stream",
     "text": [
      "First: {'one': 1, 'two': 2, 'three': 3, 'four': 4}\n",
      "Empty: {}\n",
      "{1: 'one', 2: 'two', 'three': 3}\n",
      "{'one': 1, 'two': 2, 'three': 3, 'four': 4}\n",
      "True\n"
     ]
    }
   ],
   "source": [
    "first_dict = {\"one\" : 1, \"two\": 2, \"three\" : 3, \"four\" : 4} \n",
    "print(\"First:\", first_dict)\n",
    "\n",
    "empty_dict = dict()\n",
    "print(\"Empty:\",empty_dict)\n",
    "\n",
    "second_dict = {1 : \"one\", 2 : \"two\", \"three\" :3 } #BAD IDEA BUT POSSIBLE!!!\n",
    "print(second_dict)\n",
    "\n",
    "third_dict = dict(zip([\"one\",\"two\",\"three\",\"four\"],[1,2,3,4]))\n",
    "print(third_dict)\n",
    "print(first_dict == third_dict)"
   ]
  },
  {
   "cell_type": "markdown",
   "metadata": {},
   "source": [
    "Note that there is no ordering of the keys, and that the order in which they have been inserted is not preserved. Moreover, keys and values can be dishomogeneous (e.g. keys can be strings and values integers). \n",
    "An interesting case is *third_dict* where the function *zip* followed by *dict* is used to map the keys of the first list into the values present in the second.\n",
    "\n",
    "Note that keys can be **dishomogeneous**, even though this is a bad idea normally.  The only requirement for the **keys** is that they **must be immutable objects**. Trying to use a mutable object as a key will make the interpreter crash with the error: **unhashable type**. Finally, keys must be unique. We cannot associate more than one value to the same key."
   ]
  },
  {
   "cell_type": "code",
   "execution_count": 15,
   "metadata": {},
   "outputs": [
    {
     "name": "stdout",
     "output_type": "stream",
     "text": [
      "{(1, 2, 3): 6, (1, 3, 5): 9}\n"
     ]
    },
    {
     "ename": "TypeError",
     "evalue": "unhashable type: 'list'",
     "output_type": "error",
     "traceback": [
      "\u001b[0;31m---------------------------------------------------------------------------\u001b[0m",
      "\u001b[0;31mTypeError\u001b[0m                                 Traceback (most recent call last)",
      "\u001b[0;32m<ipython-input-15-0fe98c7f5acd>\u001b[0m in \u001b[0;36m<module>\u001b[0;34m\u001b[0m\n\u001b[1;32m      8\u001b[0m \u001b[0md\u001b[0m \u001b[0;34m=\u001b[0m \u001b[0;34m[\u001b[0m\u001b[0;36m1\u001b[0m\u001b[0;34m,\u001b[0m\u001b[0;36m3\u001b[0m\u001b[0;34m,\u001b[0m\u001b[0;36m5\u001b[0m\u001b[0;34m]\u001b[0m\u001b[0;34m\u001b[0m\u001b[0;34m\u001b[0m\u001b[0m\n\u001b[1;32m      9\u001b[0m \u001b[0;34m\u001b[0m\u001b[0m\n\u001b[0;32m---> 10\u001b[0;31m \u001b[0mdict2\u001b[0m \u001b[0;34m=\u001b[0m \u001b[0;34m{\u001b[0m\u001b[0mc\u001b[0m \u001b[0;34m:\u001b[0m \u001b[0;36m6\u001b[0m\u001b[0;34m,\u001b[0m \u001b[0md\u001b[0m \u001b[0;34m:\u001b[0m \u001b[0;36m9\u001b[0m\u001b[0;34m}\u001b[0m\u001b[0;34m\u001b[0m\u001b[0;34m\u001b[0m\u001b[0m\n\u001b[0m\u001b[1;32m     11\u001b[0m \u001b[0mprint\u001b[0m\u001b[0;34m(\u001b[0m\u001b[0mdict2\u001b[0m\u001b[0;34m)\u001b[0m\u001b[0;34m\u001b[0m\u001b[0;34m\u001b[0m\u001b[0m\n",
      "\u001b[0;31mTypeError\u001b[0m: unhashable type: 'list'"
     ]
    }
   ],
   "source": [
    "a = (1,2,3) #a,b are tuples: hence immutable\n",
    "b = (1,3,5)\n",
    "\n",
    "my_dict = {a : 6, b : 9 }\n",
    "print(my_dict)\n",
    "\n",
    "c = [1,2,3] #c,d are lists: hence mutable\n",
    "d = [1,3,5]\n",
    "\n",
    "dict2 = {c : 6, d : 9}\n",
    "print(dict2)"
   ]
  },
  {
   "cell_type": "markdown",
   "metadata": {},
   "source": [
    "### Functions working on dictionaries\n",
    "\n",
    "As for the other data types, python provides several operators that can be applied to dictionaries. The following operators are available and they basically work as in lists. The only exception being that the operator **in** checks whether the specified object is present among the **keys**.\n",
    "\n",
    "![i2](img/pract5/operators.png)\n",
    "\n",
    "Some usage examples follow:"
   ]
  },
  {
   "cell_type": "code",
   "execution_count": 16,
   "metadata": {},
   "outputs": [
    {
     "name": "stdout",
     "output_type": "stream",
     "text": [
      "{'one': 1, 'two': 2, 'twentyfive': 25}\n",
      "{'one': 1, 'two': 2, 'twentyfive': 25, 'ten': 10, 'twenty': 20}\n",
      "{'one': 1, 'two': 2, 'twentyfive': 25, 'ten': '10-again', 'twenty': 20}\n",
      "The dictionary has  5  elements\n",
      "The value of \"ten\" is: 10-again\n",
      "The value of \"two\" is: 2\n",
      "Is \"twentyfive\" in dictionary? True\n",
      "Is \"seven\" in dictionary? False\n"
     ]
    }
   ],
   "source": [
    "myDict = {\"one\" : 1, \"two\" : 2, \"twentyfive\" : 25}\n",
    "\n",
    "print(myDict)\n",
    "myDict[\"ten\"] = 10\n",
    "myDict[\"twenty\"] = 20\n",
    "print(myDict)\n",
    "myDict[\"ten\"] = \"10-again\"\n",
    "print(myDict)\n",
    "print(\"The dictionary has \", len(myDict), \" elements\")\n",
    "print(\"The value of \\\"ten\\\" is:\", myDict[\"ten\"])\n",
    "print(\"The value of \\\"two\\\" is:\", myDict[\"two\"])\n",
    "\n",
    "print(\"Is \\\"twentyfive\\\" in dictionary?\", \"twentyfive\" in myDict)\n",
    "print(\"Is \\\"seven\\\" in dictionary?\", \"seven\" in myDict)"
   ]
  },
  {
   "cell_type": "markdown",
   "metadata": {},
   "source": [
    "### Dictionary methods \n",
    "\n",
    "Recall what seen in the lecture, the following methods are available for dictionaries:\n",
    "\n",
    "![i3](img/pract5/methods.png)\n",
    "\n",
    "These methods are new to dictionaries and can be used to loop through the elements in them.\n",
    "\n",
    "<div class=\"alert alert-warning\">\n",
    "\n",
    "**ERRATUM:** ```dict.keys()``` returns a ```dict_keys``` object not a list. To cast it to list, we need to call ```list(dict.keys())```. The same applies to ```dict.values()``` that returns a ```dict_values``` object that needs conversion to a list with ```list(dict.values())```. \n",
    "\n",
    "</div>"
   ]
  },
  {
   "cell_type": "code",
   "execution_count": 17,
   "metadata": {},
   "outputs": [
    {
     "name": "stdout",
     "output_type": "stream",
     "text": [
      "keys: dict_keys(['k1', 'k2', 'k3']) values: dict_values([1, 2, 3])\n",
      "\n",
      "keys: ['k1', 'k2', 'k3'] values: [1, 2, 3]\n"
     ]
    }
   ],
   "source": [
    "D = {\"k1\" : 1, \"k2\" : 2 , \"k3\" : 3}\n",
    "\n",
    "print(\"keys:\" , D.keys(), \"values:\", D.values())\n",
    "print(\"\")\n",
    "print(\"keys:\", list(D.keys()), \"values:\", list(D.values()))\n"
   ]
  },
  {
   "cell_type": "markdown",
   "metadata": {},
   "source": [
    "**Let s try**\n",
    "Given the sequence below, store in a dictionary all the characters and count how many times they appear. Finally print out the stats (e.g. how many amino-acids are present, the most frequent, the least frequent and the frequency of all of them **in alphabetical order**)."
   ]
  },
  {
   "cell_type": "markdown",
   "metadata": {},
   "source": [
    "```\n",
    ">sp|P00517|KAPCA_BOVIN cAMP-dependent protein kinase catalytic subunit alpha\n",
    "MGNAAAAKKGSEQESVKEFLAKAKEDFLKKWENPAQNTAHLDQFERIKTLGTGSFGRVML\n",
    "VKHMETGNHYAMKILDKQKVVKLKQIEHTLNEKRILQAVNFPFLVKLEFSFKDNSNLYMV\n",
    "MEYVPGGEMFSHLRRIGRFSEPHARFYAAQIVLTFEYLHSLDLIYRDLKPENLLIDQQGY\n",
    "IQVTDFGFAKRVKGRTWTLCGTPEYLAPEIILSKGYNKAVDWWALGVLIYEMAAGYPPFF\n",
    "ADQPIQIYEKIVSGKVRFPSHFSSDLKDLLRNLLQVDLTKRFGNLKNGVNDIKNHKWFAT\n",
    "TDWIAIYQRKVEAPFIPKFKGPGDTSNFDDYEEEEIRVSINEKCGKEFSEF\n",
    "```"
   ]
  },
  {
   "cell_type": "code",
   "execution_count": 1,
   "metadata": {},
   "outputs": [
    {
     "name": "stdout",
     "output_type": "stream",
     "text": [
      "MGNAAAAKKGSEQESVKEFLAKAKEDFLKKWENPAQNTAHLDQFERIKTLGTGSFGRVMLVKHMETGNHYAMKILDKQKVVKLKQIEHTLNEKRILQAVNFPFLVKLEFSFKDNSNLYMVMEYVPGGEMFSHLRRIGRFSEPHARFYAAQIVLTFEYLHSLDLIYRDLKPENLLIDQQGYIQVTDFGFAKRVKGRTWTLCGTPEYLAPEIILSKGYNKAVDWWALGVLIYEMAAGYPPFFADQPIQIYEKIVSGKVRFPSHFSSDLKDLLRNLLQVDLTKRFGNLKNGVNDIKNHKWFATTDWIAIYQRKVEAPFIPKFKGPGDTSNFDDYEEEEIRVSINEKCGKEFSEF\n",
      "The number of amino-acids present is  20\n",
      "A  is present 23 times\n",
      "C  is present 2 times\n",
      "D  is present 18 times\n",
      "E  is present 27 times\n",
      "F  is present 25 times\n",
      "G  is present 22 times\n",
      "H  is present 9 times\n",
      "I  is present 21 times\n",
      "K  is present 34 times\n",
      "L  is present 32 times\n",
      "M  is present 8 times\n",
      "N  is present 17 times\n",
      "P  is present 14 times\n",
      "Q  is present 14 times\n",
      "R  is present 15 times\n",
      "S  is present 16 times\n",
      "T  is present 14 times\n",
      "V  is present 20 times\n",
      "W  is present 6 times\n",
      "Y  is present 14 times\n",
      "Amino C has the lowest freq. ( 2 )\n",
      "Amino K has the highest freq. ( 34 )\n"
     ]
    }
   ],
   "source": [
    "protein = \"\"\"MGNAAAAKKGSEQESVKEFLAKAKEDFLKKWENPAQNTAHLDQFERIKTLGTGSFGRVML\n",
    "VKHMETGNHYAMKILDKQKVVKLKQIEHTLNEKRILQAVNFPFLVKLEFSFKDNSNLYMV\n",
    "MEYVPGGEMFSHLRRIGRFSEPHARFYAAQIVLTFEYLHSLDLIYRDLKPENLLIDQQGY\n",
    "IQVTDFGFAKRVKGRTWTLCGTPEYLAPEIILSKGYNKAVDWWALGVLIYEMAAGYPPFF\n",
    "ADQPIQIYEKIVSGKVRFPSHFSSDLKDLLRNLLQVDLTKRFGNLKNGVNDIKNHKWFAT\n",
    "TDWIAIYQRKVEAPFIPKFKGPGDTSNFDDYEEEEIRVSINEKCGKEFSEF\"\"\"\n",
    "\n",
    "protein = protein.replace(\"\\n\",\"\")\n",
    "\n",
    "print(protein)\n",
    "\n",
    "amino_acids = dict()\n",
    "\n",
    "for a in protein:\n",
    "    if a in amino_acids:\n",
    "        amino_acids[a] = amino_acids[a] + 1 # amino_acids[a] += 1\n",
    "    else:\n",
    "        amino_acids[a] = 1\n",
    "\n",
    "\n",
    "num_aminos = len(amino_acids)\n",
    "\n",
    "print(\"The number of amino-acids present is \", num_aminos)\n",
    "#let's get all aminoacids\n",
    "#and sort them alphabetically\n",
    "a_keys = list(amino_acids.keys())\n",
    "\n",
    "a_keys.sort()\n",
    "\n",
    "# Another example of dictionaries\n",
    "mostF = {\"frequency\" : -1, \"aminoacid\" : \"-\"}\n",
    "leastF = {\"frequency\" : len(protein), \"aminoacid\" : \"-\"}\n",
    "\n",
    "for a in a_keys:\n",
    "    freq = amino_acids[a]\n",
    "    if(mostF[\"frequency\"] < freq):\n",
    "        mostF[\"frequency\"] = freq\n",
    "        mostF[\"aminoacid\"] = a\n",
    "        \n",
    "    if(leastF[\"frequency\"] > freq):\n",
    "        leastF[\"frequency\"] = freq\n",
    "        leastF[\"aminoacid\"] = a    \n",
    "    print(a, \" is present\", freq, \"times\")\n",
    "\n",
    "print(\"Amino\", leastF[\"aminoacid\"], \"has the lowest freq. (\",leastF[\"frequency\"],\")\")\n",
    "print(\"Amino\", mostF[\"aminoacid\"], \"has the highest freq. (\",mostF[\"frequency\"],\")\")"
   ]
  },
  {
   "cell_type": "markdown",
   "metadata": {},
   "source": [
    "**Important NOTE**. Accessing a value through the key of a dictionary requires that the pair key-value one searches for is present in the dictionary. If the searched key is not present the interpreter crashes out throwing a KeyError as follows:"
   ]
  },
  {
   "cell_type": "code",
   "execution_count": 2,
   "metadata": {},
   "outputs": [
    {
     "name": "stdout",
     "output_type": "stream",
     "text": [
      "1\n"
     ]
    },
    {
     "ename": "KeyError",
     "evalue": "'seven'",
     "output_type": "error",
     "traceback": [
      "\u001b[0;31m---------------------------------------------------------------------------\u001b[0m",
      "\u001b[0;31mKeyError\u001b[0m                                  Traceback (most recent call last)",
      "Input \u001b[0;32mIn [2]\u001b[0m, in \u001b[0;36m<cell line: 4>\u001b[0;34m()\u001b[0m\n\u001b[1;32m      1\u001b[0m myDict \u001b[38;5;241m=\u001b[39m {\u001b[38;5;124m\"\u001b[39m\u001b[38;5;124mone\u001b[39m\u001b[38;5;124m\"\u001b[39m : \u001b[38;5;241m1\u001b[39m, \u001b[38;5;124m\"\u001b[39m\u001b[38;5;124mtwo\u001b[39m\u001b[38;5;124m\"\u001b[39m : \u001b[38;5;241m2\u001b[39m, \u001b[38;5;124m\"\u001b[39m\u001b[38;5;124mthree\u001b[39m\u001b[38;5;124m\"\u001b[39m : \u001b[38;5;241m3\u001b[39m}\n\u001b[1;32m      3\u001b[0m \u001b[38;5;28mprint\u001b[39m(myDict[\u001b[38;5;124m\"\u001b[39m\u001b[38;5;124mone\u001b[39m\u001b[38;5;124m\"\u001b[39m])\n\u001b[0;32m----> 4\u001b[0m \u001b[38;5;28mprint\u001b[39m(\u001b[43mmyDict\u001b[49m\u001b[43m[\u001b[49m\u001b[38;5;124;43m\"\u001b[39;49m\u001b[38;5;124;43mseven\u001b[39;49m\u001b[38;5;124;43m\"\u001b[39;49m\u001b[43m]\u001b[49m)\n",
      "\u001b[0;31mKeyError\u001b[0m: 'seven'"
     ]
    }
   ],
   "source": [
    "myDict = {\"one\" : 1, \"two\" : 2, \"three\" : 3}\n",
    "\n",
    "print(myDict[\"one\"])\n",
    "print(myDict[\"seven\"])\n"
   ]
  },
  {
   "cell_type": "markdown",
   "metadata": {},
   "source": [
    "This could be avoided by checking that the key is present in the dictionary beforehand:"
   ]
  },
  {
   "cell_type": "code",
   "execution_count": 3,
   "metadata": {},
   "outputs": [
    {
     "name": "stdout",
     "output_type": "stream",
     "text": [
      "key: one value: 1\n",
      "key seven not found in dictionary\n"
     ]
    }
   ],
   "source": [
    "myDict = {\"one\" : 1, \"two\" : 2, \"three\" : 3}\n",
    "\n",
    "search_keys = [\"one\", \"seven\"]\n",
    "\n",
    "for s in search_keys:\n",
    "    if s in myDict:\n",
    "        print(\"key:\", s, \"value:\", myDict[s])\n",
    "    else:\n",
    "        print(\"key\", s, \"not found in dictionary\")\n",
    "        "
   ]
  },
  {
   "cell_type": "markdown",
   "metadata": {},
   "source": [
    "or by using the dictionary method **get** that has two inputs: the key and a default value to return in case key is not present in the dictionary:"
   ]
  },
  {
   "cell_type": "code",
   "execution_count": 21,
   "metadata": {},
   "outputs": [
    {
     "name": "stdout",
     "output_type": "stream",
     "text": [
      "key: one value: 1\n",
      "key: seven value: not found\n"
     ]
    }
   ],
   "source": [
    "myDict = {\"one\" : 1, \"two\" : 2, \"three\" : 3}\n",
    "\n",
    "search_keys = [\"one\", \"seven\"]\n",
    "\n",
    "for s in search_keys:\n",
    "    print(\"key:\", s, \"value:\", myDict.get(s, \"not found\"))"
   ]
  },
  {
   "cell_type": "markdown",
   "metadata": {},
   "source": [
    "## Exercises\n",
    "\n",
    "1. Given the following two lists of integers: \n",
    "[1, 13, 22, 7, 43, 81, 77, 12, 15,21, 84,100] and [44,32,7, 100, 81, 13, 1, 21, 71]:\n",
    "    1. Sort the two lists\n",
    "    2. Create a third list as intersection of the two lists (i.e. an element is in the intersection if it is present in both lists).  \n",
    "    3. Print the three lists.\n",
    "\n",
    "<div class=\"tggle\" onclick=\"toggleVisibility('ex1');\">Show/Hide Solution</div>\n",
    "<div id=\"ex1\" style=\"display:none;\">"
   ]
  },
  {
   "cell_type": "code",
   "execution_count": 23,
   "metadata": {},
   "outputs": [
    {
     "name": "stdout",
     "output_type": "stream",
     "text": [
      "L1:     [1, 7, 12, 13, 15, 21, 22, 43, 77, 81, 84, 100]\n",
      "L2:     [1, 7, 13, 21, 32, 44, 71, 81, 100]\n",
      "inters: [1, 7, 13, 21, 81, 100]\n",
      "\n",
      "--------------------------\n",
      "L1:     [1, 1, 7, 9, 9, 9, 9, 12, 15, 21, 44, 77, 81, 84, 100]\n",
      "L2:     [1, 7, 9, 13, 21, 21, 32, 44, 71, 81, 100]\n",
      "inters: [1, 1, 7, 9, 9, 9, 9, 21, 44, 81, 100]\n",
      "\n",
      "\n",
      " ------ Second solution --------\n",
      "L1:     [1, 1, 7, 9, 9, 9, 9, 12, 15, 21, 44, 77, 81, 84, 100]\n",
      "L2:     [1, 7, 9, 13, 21, 21, 32, 44, 71, 81, 100]\n",
      "inters: [1, 7, 9, 21, 44, 81, 100]\n"
     ]
    }
   ],
   "source": [
    "\"\"\"First solution, prints multiple times repeated elements in L1\"\"\"\n",
    "\n",
    "L1 = [1, 13, 22, 7, 43, 81, 77, 12, 15,21, 84,100]\n",
    "L2 = [44,32,7, 100, 81, 13, 1, 21, 71]\n",
    "\n",
    "L1.sort()\n",
    "L2.sort()\n",
    "intersection = [x for x in L1 if x in L2]\n",
    "\n",
    "print(\"L1:    \", L1)\n",
    "print(\"L2:    \", L2)\n",
    "print(\"inters:\", intersection)\n",
    "\n",
    "L1 = [1, 9, 1, 7, 44, 9, 9, 9, 81, 77, 12, 15,21, 84,100]\n",
    "L2 = [44, 32, 21, 7, 100, 81, 13, 9, 1, 21, 71]\n",
    "\n",
    "print(\"\\n--------------------------\")\n",
    "L1.sort()\n",
    "L2.sort()\n",
    "intersection = [x for x in L1 if x in L2]\n",
    "print(\"L1:    \", L1)\n",
    "print(\"L2:    \", L2)\n",
    "print(\"inters:\", intersection)\n",
    "\n",
    "print(\"\\n\\n ------ Second solution --------\")\n",
    "\"\"\"Second solution, does not print multiple times repeated elements in L1\"\"\"\n",
    "print(\"L1:    \", L1)\n",
    "print(\"L2:    \", L2)\n",
    "\n",
    "intersection2 = [L1[x] for x in range(len(L1)) if L1[x] in L2 and L1[x] not in  L1[x+1:]]\n",
    "print(\"inters:\", intersection2)\n",
    "\n"
   ]
  },
  {
   "cell_type": "markdown",
   "metadata": {},
   "source": [
    "</div>"
   ]
  },
  {
   "cell_type": "markdown",
   "metadata": {},
   "source": [
    "2. The sequence below is the Sars-Cov2 ORF1a polyprotein. \n",
    "     1. Count and print how many aminoacids(characters) it is composed of (1 aminoacid = 1 letter in the sequence)\n",
    "     2. Put in a dictionary all the indexes of the occurrences of the following three sequences of four characters: ```TTTL, GFAV, KMLL``` (i.e. the key of the dictionary is the sequence and the value is the list of all positions at which the four-mers appear).\n",
    "\n",
    "\n",
    "```\n",
    "ORF1a = \"\"\"MESLVPGFNEKTHVQLSLPVLQVRDVLVRGFGDSVEEVLSEARQHLKDGTCGLVEVEKGVLPQLEQPYVF\n",
    "IKRSDARTAPHGHVMVELVAELEGIQYGRSGETLGVLVPHVGEIPVAYRKVLLRKNGNKGAGGHSYGADL\n",
    "KSFDLGDELGTDPYEDFQENWNTKHSSGVTRELMRELNGGAYTRYVDNNFCGPDGYPLECIKDLLARAGK\n",
    "ASCTLSEQLDFIDTKRGVYCCREHEHEIAWYTERSEKSYELQTPFEIKLAKKFDTFNGECPNFVFPLNSI\n",
    "IKTIQPRVEKKKLDGFMGRIRSVYPVASPNECNQMCLSTLMKCDHCGETSWQTGDFVKATCEFCGTENLT\n",
    "KEGATTCGYLPQNAVVKIYCPACHNSEVGPEHSLAEYHNESGLKTILRKGGRTIAFGGCVFSYVGCHNKC\n",
    "AYWVPRASANIGCNHTGVVGEGSEGLNDNLLEILQKEKVNINIVGDFKLNEEIAIILASFSASTSAFVET\n",
    "VKGLDYKAFKQIVESCGNFKVTKGKAKKGAWNIGEQKSILSPLYAFASEAARVVRSIFSRTLETAQNSVR\n",
    "VLQKAAITILDGISQYSLRLIDAMMFTSDLATNNLVVMAYITGGVVQLTSQWLTNIFGTVYEKLKPVLDW\n",
    "LEEKFKEGVEFLRDGWEIVKFISTCACEIVGGQIVTCAKEIKESVQTFFKLVNKFLALCADSIIIGGAKL\n",
    "KALNLGETFVTHSKGLYRKCVKSREETGLLMPLKAPKEIIFLEGETLPTEVLTEEVVLKTGDLQPLEQPT\n",
    "SEAVEAPLVGTPVCINGLMLLEIKDTEKYCALAPNMMVTNNTFTLKGGAPTKVTFGDDTVIEVQGYKSVN\n",
    "ITFELDERIDKVLNEKCSAYTVELGTEVNEFACVVADAVIKTLQPVSELLTPLGIDLDEWSMATYYLFDE\n",
    "SGEFKLASHMYCSFYPPDEDEEEGDCEEEEFEPSTQYEYGTEDDYQGKPLEFGATSAALQPEEEQEEDWL\n",
    "DDDSQQTVGQQDGSEDNQTTTIQTIVEVQPQLEMELTPVVQTIEVNSFSGYLKLTDNVYIKNADIVEEAK\n",
    "KVKPTVVVNAANVYLKHGGGVAGALNKATNNAMQVESDDYIATNGPLKVGGSCVLSGHNLAKHCLHVVGP\n",
    "NVNKGEDIQLLKSAYENFNQHEVLLAPLLSAGIFGADPIHSLRVCVDTVRTNVYLAVFDKNLYDKLVSSF\n",
    "LEMKSEKQVEQKIAEIPKEEVKPFITESKPSVEQRKQDDKKIKACVEEVTTTLEETKFLTENLLLYIDIN\n",
    "GNLHPDSATLVSDIDITFLKKDAPYIVGDVVQEGVLTAVVIPTKKAGGTTEMLAKALRKVPTDNYITTYP\n",
    "GQGLNGYTVEEAKTVLKKCKSAFYILPSIISNEKQEILGTVSWNLREMLAHAEETRKLMPVCVETKAIVS\n",
    "TIQRKYKGIKIQEGVVDYGARFYFYTSKTTVASLINTLNDLNETLVTMPLGYVTHGLNLEEAARYMRSLK\n",
    "VPATVSVSSPDAVTAYNGYLTSSSKTPEEHFIETISLAGSYKDWSYSGQSTQLGIEFLKRGDKSVYYTSN\n",
    "PTTFHLDGEVITFDNLKTLLSLREVRTIKVFTTVDNINLHTQVVDMSMTYGQQFGPTYLDGADVTKIKPH\n",
    "NSHEGKTFYVLPNDDTLRVEAFEYYHTTDPSFLGRYMSALNHTKKWKYPQVNGLTSIKWADNNCYLATAL\n",
    "LTLQQIELKFNPPALQDAYYRARAGEAANFCALILAYCNKTVGELGDVRETMSYLFQHANLDSCKRVLNV\n",
    "VCKTCGQQQTTLKGVEAVMYMGTLSYEQFKKGVQIPCTCGKQATKYLVQQESPFVMMSAPPAQYELKHGT\n",
    "FTCASEYTGNYQCGHYKHITSKETLYCIDGALLTKSSEYKGPITDVFYKENSYTTTIKPVTYKLDGVVCT\n",
    "EIDPKLDNYYKKDNSYFTEQPIDLVPNQPYPNASFDNFKFVCDNIKFADDLNQLTGYKKPASRELKVTFF\n",
    "PDLNGDVVAIDYKHYTPSFKKGAKLLHKPIVWHVNNATNKATYKPNTWCIRCLWSTKPVETSNSFDVLKS\n",
    "EDAQGMDNLACEDLKPVSEEVVENPTIQKDVLECNVKTTEVVGDIILKPANNSLKIIEEVGHTDLMAAYV\n",
    "DNSSLTIKKPNELSRVLGLKTLATHGLAAVNSVPWDTIANYAKPFLNKVVSTTTNIVTRCLNRVCTNYMP\n",
    "YFFTLLLQLCTFTRSTNSRIKASMPTTIAKNTVKSVGKFCLEASFNYLKSPNFSKLINIIIWFLLLSVCL\n",
    "GSLIYSTAALGVLMSNLGMPSYCTGYREGYLNSTNVTIATYCTGSIPCSVCLSGLDSLDTYPSLETIQIT\n",
    "ISSFKWDLTAFGLVAEWFLAYILFTRFFYVLGLAAIMQLFFSYFAVHFISNSWLMWLIINLVQMAPISAM\n",
    "VRMYIFFASFYYVWKSYVHVVDGCNSSTCMMCYKRNRATRVECTTIVNGVRRSFYVYANGGKGFCKLHNW\n",
    "NCVNCDTFCAGSTFISDEVARDLSLQFKRPINPTDQSSYIVDSVTVKNGSIHLYFDKAGQKTYERHSLSH\n",
    "FVNLDNLRANNTKGSLPINVIVFDGKSKCEESSAKSASVYYSQLMCQPILLLDQALVSDVGDSAEVAVKM\n",
    "FDAYVNTFSSTFNVPMEKLKTLVATAEAELAKNVSLDNVLSTFISAARQGFVDSDVETKDVVECLKLSHQ\n",
    "SDIEVTGDSCNNYMLTYNKVENMTPRDLGACIDCSARHINAQVAKSHNIALIWNVKDFMSLSEQLRKQIR\n",
    "SAAKKNNLPFKLTCATTRQVVNVVTTKIALKGGKIVNNWLKQLIKVTLVFLFVAAIFYLITPVHVMSKHT\n",
    "DFSSEIIGYKAIDGGVTRDIASTDTCFANKHADFDTWFSQRGGSYTNDKACPLIAAVITREVGFVVPGLP\n",
    "GTILRTTNGDFLHFLPRVFSAVGNICYTPSKLIEYTDFATSACVLAAECTIFKDASGKPVPYCYDTNVLE\n",
    "GSVAYESLRPDTRYVLMDGSIIQFPNTYLEGSVRVVTTFDSEYCRHGTCERSEAGVCVSTSGRWVLNNDY\n",
    "YRSLPGVFCGVDAVNLLTNMFTPLIQPIGALDISASIVAGGIVAIVVTCLAYYFMRFRRAFGEYSHVVAF\n",
    "NTLLFLMSFTVLCLTPVYSFLPGVYSVIYLYLTFYLTNDVSFLAHIQWMVMFTPLVPFWITIAYIICIST\n",
    "KHFYWFFSNYLKRRVVFNGVSFSTFEEAALCTFLLNKEMYLKLRSDVLLPLTQYNRYLALYNKYKYFSGA\n",
    "MDTTSYREAACCHLAKALNDFSNSGSDVLYQPPQTSITSAVLQSGFRKMAFPSGKVEGCMVQVTCGTTTL\n",
    "NGLWLDDVVYCPRHVICTSEDMLNPNYEDLLIRKSNHNFLVQAGNVQLRVIGHSMQNCVLKLKVDTANPK\n",
    "TPKYKFVRIQPGQTFSVLACYNGSPSGVYQCAMRPNFTIKGSFLNGSCGSVGFNIDYDCVSFCYMHHMEL\n",
    "PTGVHAGTDLEGNFYGPFVDRQTAQAAGTDTTITVNVLAWLYAAVINGDRWFLNRFTTTLNDFNLVAMKY\n",
    "NYEPLTQDHVDILGPLSAQTGIAVLDMCASLKELLQNGMNGRTILGSALLEDEFTPFDVVRQCSGVTFQS\n",
    "AVKRTIKGTHHWLLLTILTSLLVLVQSTQWSLFFFLYENAFLPFAMGIIAMSAFAMMFVKHKHAFLCLFL\n",
    "LPSLATVAYFNMVYMPASWVMRIMTWLDMVDTSLSGFKLKDCVMYASAVVLLILMTARTVYDDGARRVWT\n",
    "LMNVLTLVYKVYYGNALDQAISMWALIISVTSNYSGVVTTVMFLARGIVFMCVEYCPIFFITGNTLQCIM\n",
    "LVYCFLGYFCTCYFGLFCLLNRYFRLTLGVYDYLVSTQEFRYMNSQGLLPPKNSIDAFKLNIKLLGVGGK\n",
    "PCIKVATVQSKMSDVKCTSVVLLSVLQQLRVESSSKLWAQCVQLHNDILLAKDTTEAFEKMVSLLSVLLS\n",
    "MQGAVDINKLCEEMLDNRATLQAIASEFSSLPSYAAFATAQEAYEQAVANGDSEVVLKKLKKSLNVAKSE\n",
    "FDRDAAMQRKLEKMADQAMTQMYKQARSEDKRAKVTSAMQTMLFTMLRKLDNDALNNIINNARDGCVPLN\n",
    "IIPLTTAAKLMVVIPDYNTYKNTCDGTTFTYASALWEIQQVVDADSKIVQLSEISMDNSPNLAWPLIVTA\n",
    "LRANSAVKLQNNELSPVALRQMSCAAGTTQTACTDDNALAYYNTTKGGRFVLALLSDLQDLKWARFPKSD\n",
    "GTGTIYTELEPPCRFVTDTPKGPKVKYLYFIKGLNNLNRGMVLGSLAATVRLQAGNATEVPANSTVLSFC\n",
    "AFAVDAAKAYKDYLASGGQPITNCVKMLCTHTGTGQAITVTPEANMDQESFGGASCCLYCRCHIDHPNPK\n",
    "GFCDLKGKYVQIPTTCANDPVGFTLKNTVCTVCGMWKGYGCSCDQLREPMLQSADAQSFLNGFAV\"\"\"\n",
    "```\n",
    "output\n",
    "\n",
    "```\n",
    "{\n",
    "     TTTL: [1239, 3286, 3486],\n",
    "     GFAV: [...],\n",
    "     KMLL [...]\n",
    "```"
   ]
  },
  {
   "cell_type": "markdown",
   "metadata": {},
   "source": [
    "<div class=\"tggle\" onclick=\"toggleVisibility('ex2-sc2');\">Show/Hide Solution</div>\n",
    "<div id=\"ex2-sc2\" style=\"display:none;\">"
   ]
  },
  {
   "cell_type": "code",
   "execution_count": 1,
   "metadata": {},
   "outputs": [
    {
     "name": "stdout",
     "output_type": "stream",
     "text": [
      "ORF1a protein has  4405  aminoacids\n",
      "TTTL  is present at positions:  [1239, 3286, 3486]\n",
      "GFAV  is present at positions:  [4401]\n",
      "KMLL  is present at positions:  []\n"
     ]
    }
   ],
   "source": [
    "ORF1a = \"\"\"MESLVPGFNEKTHVQLSLPVLQVRDVLVRGFGDSVEEVLSEARQHLKDGTCGLVEVEKGVLPQLEQPYVF\n",
    "IKRSDARTAPHGHVMVELVAELEGIQYGRSGETLGVLVPHVGEIPVAYRKVLLRKNGNKGAGGHSYGADL\n",
    "KSFDLGDELGTDPYEDFQENWNTKHSSGVTRELMRELNGGAYTRYVDNNFCGPDGYPLECIKDLLARAGK\n",
    "ASCTLSEQLDFIDTKRGVYCCREHEHEIAWYTERSEKSYELQTPFEIKLAKKFDTFNGECPNFVFPLNSI\n",
    "IKTIQPRVEKKKLDGFMGRIRSVYPVASPNECNQMCLSTLMKCDHCGETSWQTGDFVKATCEFCGTENLT\n",
    "KEGATTCGYLPQNAVVKIYCPACHNSEVGPEHSLAEYHNESGLKTILRKGGRTIAFGGCVFSYVGCHNKC\n",
    "AYWVPRASANIGCNHTGVVGEGSEGLNDNLLEILQKEKVNINIVGDFKLNEEIAIILASFSASTSAFVET\n",
    "VKGLDYKAFKQIVESCGNFKVTKGKAKKGAWNIGEQKSILSPLYAFASEAARVVRSIFSRTLETAQNSVR\n",
    "VLQKAAITILDGISQYSLRLIDAMMFTSDLATNNLVVMAYITGGVVQLTSQWLTNIFGTVYEKLKPVLDW\n",
    "LEEKFKEGVEFLRDGWEIVKFISTCACEIVGGQIVTCAKEIKESVQTFFKLVNKFLALCADSIIIGGAKL\n",
    "KALNLGETFVTHSKGLYRKCVKSREETGLLMPLKAPKEIIFLEGETLPTEVLTEEVVLKTGDLQPLEQPT\n",
    "SEAVEAPLVGTPVCINGLMLLEIKDTEKYCALAPNMMVTNNTFTLKGGAPTKVTFGDDTVIEVQGYKSVN\n",
    "ITFELDERIDKVLNEKCSAYTVELGTEVNEFACVVADAVIKTLQPVSELLTPLGIDLDEWSMATYYLFDE\n",
    "SGEFKLASHMYCSFYPPDEDEEEGDCEEEEFEPSTQYEYGTEDDYQGKPLEFGATSAALQPEEEQEEDWL\n",
    "DDDSQQTVGQQDGSEDNQTTTIQTIVEVQPQLEMELTPVVQTIEVNSFSGYLKLTDNVYIKNADIVEEAK\n",
    "KVKPTVVVNAANVYLKHGGGVAGALNKATNNAMQVESDDYIATNGPLKVGGSCVLSGHNLAKHCLHVVGP\n",
    "NVNKGEDIQLLKSAYENFNQHEVLLAPLLSAGIFGADPIHSLRVCVDTVRTNVYLAVFDKNLYDKLVSSF\n",
    "LEMKSEKQVEQKIAEIPKEEVKPFITESKPSVEQRKQDDKKIKACVEEVTTTLEETKFLTENLLLYIDIN\n",
    "GNLHPDSATLVSDIDITFLKKDAPYIVGDVVQEGVLTAVVIPTKKAGGTTEMLAKALRKVPTDNYITTYP\n",
    "GQGLNGYTVEEAKTVLKKCKSAFYILPSIISNEKQEILGTVSWNLREMLAHAEETRKLMPVCVETKAIVS\n",
    "TIQRKYKGIKIQEGVVDYGARFYFYTSKTTVASLINTLNDLNETLVTMPLGYVTHGLNLEEAARYMRSLK\n",
    "VPATVSVSSPDAVTAYNGYLTSSSKTPEEHFIETISLAGSYKDWSYSGQSTQLGIEFLKRGDKSVYYTSN\n",
    "PTTFHLDGEVITFDNLKTLLSLREVRTIKVFTTVDNINLHTQVVDMSMTYGQQFGPTYLDGADVTKIKPH\n",
    "NSHEGKTFYVLPNDDTLRVEAFEYYHTTDPSFLGRYMSALNHTKKWKYPQVNGLTSIKWADNNCYLATAL\n",
    "LTLQQIELKFNPPALQDAYYRARAGEAANFCALILAYCNKTVGELGDVRETMSYLFQHANLDSCKRVLNV\n",
    "VCKTCGQQQTTLKGVEAVMYMGTLSYEQFKKGVQIPCTCGKQATKYLVQQESPFVMMSAPPAQYELKHGT\n",
    "FTCASEYTGNYQCGHYKHITSKETLYCIDGALLTKSSEYKGPITDVFYKENSYTTTIKPVTYKLDGVVCT\n",
    "EIDPKLDNYYKKDNSYFTEQPIDLVPNQPYPNASFDNFKFVCDNIKFADDLNQLTGYKKPASRELKVTFF\n",
    "PDLNGDVVAIDYKHYTPSFKKGAKLLHKPIVWHVNNATNKATYKPNTWCIRCLWSTKPVETSNSFDVLKS\n",
    "EDAQGMDNLACEDLKPVSEEVVENPTIQKDVLECNVKTTEVVGDIILKPANNSLKIIEEVGHTDLMAAYV\n",
    "DNSSLTIKKPNELSRVLGLKTLATHGLAAVNSVPWDTIANYAKPFLNKVVSTTTNIVTRCLNRVCTNYMP\n",
    "YFFTLLLQLCTFTRSTNSRIKASMPTTIAKNTVKSVGKFCLEASFNYLKSPNFSKLINIIIWFLLLSVCL\n",
    "GSLIYSTAALGVLMSNLGMPSYCTGYREGYLNSTNVTIATYCTGSIPCSVCLSGLDSLDTYPSLETIQIT\n",
    "ISSFKWDLTAFGLVAEWFLAYILFTRFFYVLGLAAIMQLFFSYFAVHFISNSWLMWLIINLVQMAPISAM\n",
    "VRMYIFFASFYYVWKSYVHVVDGCNSSTCMMCYKRNRATRVECTTIVNGVRRSFYVYANGGKGFCKLHNW\n",
    "NCVNCDTFCAGSTFISDEVARDLSLQFKRPINPTDQSSYIVDSVTVKNGSIHLYFDKAGQKTYERHSLSH\n",
    "FVNLDNLRANNTKGSLPINVIVFDGKSKCEESSAKSASVYYSQLMCQPILLLDQALVSDVGDSAEVAVKM\n",
    "FDAYVNTFSSTFNVPMEKLKTLVATAEAELAKNVSLDNVLSTFISAARQGFVDSDVETKDVVECLKLSHQ\n",
    "SDIEVTGDSCNNYMLTYNKVENMTPRDLGACIDCSARHINAQVAKSHNIALIWNVKDFMSLSEQLRKQIR\n",
    "SAAKKNNLPFKLTCATTRQVVNVVTTKIALKGGKIVNNWLKQLIKVTLVFLFVAAIFYLITPVHVMSKHT\n",
    "DFSSEIIGYKAIDGGVTRDIASTDTCFANKHADFDTWFSQRGGSYTNDKACPLIAAVITREVGFVVPGLP\n",
    "GTILRTTNGDFLHFLPRVFSAVGNICYTPSKLIEYTDFATSACVLAAECTIFKDASGKPVPYCYDTNVLE\n",
    "GSVAYESLRPDTRYVLMDGSIIQFPNTYLEGSVRVVTTFDSEYCRHGTCERSEAGVCVSTSGRWVLNNDY\n",
    "YRSLPGVFCGVDAVNLLTNMFTPLIQPIGALDISASIVAGGIVAIVVTCLAYYFMRFRRAFGEYSHVVAF\n",
    "NTLLFLMSFTVLCLTPVYSFLPGVYSVIYLYLTFYLTNDVSFLAHIQWMVMFTPLVPFWITIAYIICIST\n",
    "KHFYWFFSNYLKRRVVFNGVSFSTFEEAALCTFLLNKEMYLKLRSDVLLPLTQYNRYLALYNKYKYFSGA\n",
    "MDTTSYREAACCHLAKALNDFSNSGSDVLYQPPQTSITSAVLQSGFRKMAFPSGKVEGCMVQVTCGTTTL\n",
    "NGLWLDDVVYCPRHVICTSEDMLNPNYEDLLIRKSNHNFLVQAGNVQLRVIGHSMQNCVLKLKVDTANPK\n",
    "TPKYKFVRIQPGQTFSVLACYNGSPSGVYQCAMRPNFTIKGSFLNGSCGSVGFNIDYDCVSFCYMHHMEL\n",
    "PTGVHAGTDLEGNFYGPFVDRQTAQAAGTDTTITVNVLAWLYAAVINGDRWFLNRFTTTLNDFNLVAMKY\n",
    "NYEPLTQDHVDILGPLSAQTGIAVLDMCASLKELLQNGMNGRTILGSALLEDEFTPFDVVRQCSGVTFQS\n",
    "AVKRTIKGTHHWLLLTILTSLLVLVQSTQWSLFFFLYENAFLPFAMGIIAMSAFAMMFVKHKHAFLCLFL\n",
    "LPSLATVAYFNMVYMPASWVMRIMTWLDMVDTSLSGFKLKDCVMYASAVVLLILMTARTVYDDGARRVWT\n",
    "LMNVLTLVYKVYYGNALDQAISMWALIISVTSNYSGVVTTVMFLARGIVFMCVEYCPIFFITGNTLQCIM\n",
    "LVYCFLGYFCTCYFGLFCLLNRYFRLTLGVYDYLVSTQEFRYMNSQGLLPPKNSIDAFKLNIKLLGVGGK\n",
    "PCIKVATVQSKMSDVKCTSVVLLSVLQQLRVESSSKLWAQCVQLHNDILLAKDTTEAFEKMVSLLSVLLS\n",
    "MQGAVDINKLCEEMLDNRATLQAIASEFSSLPSYAAFATAQEAYEQAVANGDSEVVLKKLKKSLNVAKSE\n",
    "FDRDAAMQRKLEKMADQAMTQMYKQARSEDKRAKVTSAMQTMLFTMLRKLDNDALNNIINNARDGCVPLN\n",
    "IIPLTTAAKLMVVIPDYNTYKNTCDGTTFTYASALWEIQQVVDADSKIVQLSEISMDNSPNLAWPLIVTA\n",
    "LRANSAVKLQNNELSPVALRQMSCAAGTTQTACTDDNALAYYNTTKGGRFVLALLSDLQDLKWARFPKSD\n",
    "GTGTIYTELEPPCRFVTDTPKGPKVKYLYFIKGLNNLNRGMVLGSLAATVRLQAGNATEVPANSTVLSFC\n",
    "AFAVDAAKAYKDYLASGGQPITNCVKMLCTHTGTGQAITVTPEANMDQESFGGASCCLYCRCHIDHPNPK\n",
    "GFCDLKGKYVQIPTTCANDPVGFTLKNTVCTVCGMWKGYGCSCDQLREPMLQSADAQSFLNGFAV\"\"\"\n",
    "\n",
    "\n",
    "ORF1a = ORF1a.replace(\"\\n\",\"\")\n",
    "print(\"ORF1a protein has \", len(ORF1a), \" aminoacids\")\n",
    "\n",
    "seqs = {\"TTTL\" : [], \"GFAV\": [], \"KMLL\": []}\n",
    "\n",
    "for i in range(len(ORF1a)-3):\n",
    "    fourmer = ORF1a[i:i+4]\n",
    "    if fourmer in seqs:  #remember it tests the presence in the keys\n",
    "        seqs[fourmer].append(i)\n",
    "    \n",
    "for s in seqs:\n",
    "    print(s, \" is present at positions: \", seqs[s])\n",
    "    "
   ]
  },
  {
   "cell_type": "code",
   "execution_count": null,
   "metadata": {},
   "outputs": [],
   "source": []
  },
  {
   "cell_type": "markdown",
   "metadata": {},
   "source": [
    "</div>\n",
    "\n",
    "\n",
    "\n",
    "3. Given the string \"nOBody Said iT was eAsy, No oNe Ever saId it WoulD be tHis hArd…\"\n",
    "    1. Create a list with all the letters that are capitalized (use str.isupper)\n",
    "    2. Print the list\n",
    "    3. Use the string method **join** to concatenate all the letters in a string, using \"\\*\" as separator.\n",
    "    The syntax of join is str.join(list) and it outputs a string with all the elements in list joined with the character in str (es. \"+\".join([1,2,3]) returns \"1+2+3\"). \n",
    "    \n",
    "The expected output:\n"
   ]
  },
  {
   "cell_type": "markdown",
   "metadata": {},
   "source": [
    "```\n",
    "['O', 'B', 'S', 'T', 'A', 'N', 'N', 'E', 'I', 'W', 'D', 'H', 'A']\n",
    "O*B*S*T*A*N*N*E*I*W*D*H*A\n",
    "```"
   ]
  },
  {
   "cell_type": "markdown",
   "metadata": {},
   "source": [
    "<div class=\"tggle\" onclick=\"toggleVisibility('ex2');\">Show/Hide Solution</div>\n",
    "<div id=\"ex2\" style=\"display:none;\">"
   ]
  },
  {
   "cell_type": "code",
   "execution_count": 5,
   "metadata": {},
   "outputs": [
    {
     "name": "stdout",
     "output_type": "stream",
     "text": [
      "['O', 'B', 'S', 'T', 'A', 'N', 'N', 'E', 'I', 'W', 'D', 'H', 'A']\n",
      "O*B*S*T*A*N*N*E*I*W*D*H*A\n"
     ]
    }
   ],
   "source": [
    "text = \"nOBody Said iT was eAsy, No oNe Ever saId it WoulD be tHis hArd…\"\n",
    "initials = [x for x in text if x.isupper()]\n",
    "\n",
    "print(initials)\n",
    "print(\"*\".join(initials))"
   ]
  },
  {
   "cell_type": "markdown",
   "metadata": {},
   "source": [
    "</div>\n",
    "\n",
    "5. Given the following list of gene correlations:\n",
    "```\n",
    "geneCorr = [[\"G1C2W9\", \"G1C2Q7\", 0.2], [\"G1C2W9\", \"G1C2Q4\", 0.9], \n",
    "[\"Q6NMS1\", \"G1C2W9\", 0.8],[\"G1C2W9\", \"Q6NMS1\",0.4], [\"G1C2Q7\", \"G1C2Q4\",0.76]]\n",
    "```\n",
    "where each sublist [\"gene1\", \"gene2\", corr] represents a correlation between *gene1* and *gene2* with correlation *corr*, create another list containing only the elements having an high correlation (i.e. > 0.75). Print this list."
   ]
  },
  {
   "cell_type": "markdown",
   "metadata": {},
   "source": [
    "Expected result:\n",
    "```\n",
    "[['G1C2W9', 'G1C2Q4', 0.9], ['Q6NMS1', 'G1C2W9', 0.8], ['G1C2Q7', 'G1C2Q4', 0.76]]\n",
    "```"
   ]
  },
  {
   "cell_type": "markdown",
   "metadata": {},
   "source": [
    "<div class=\"tggle\" onclick=\"toggleVisibility('ex3');\">Show/Hide Solution</div>\n",
    "<div id=\"ex3\" style=\"display:none;\">"
   ]
  },
  {
   "cell_type": "code",
   "execution_count": 7,
   "metadata": {},
   "outputs": [
    {
     "name": "stdout",
     "output_type": "stream",
     "text": [
      "[['G1C2W9', 'G1C2Q7', 0.2], ['G1C2W9', 'G1C2Q4', 0.9], ['Q6NMS1', 'G1C2W9', 0.8], ['G1C2W9', 'Q6NMS1', 0.4], ['G1C2Q7', 'G1C2Q4', 0.76]] \n",
      "\n",
      "[['G1C2W9', 'G1C2Q4', 0.9], ['Q6NMS1', 'G1C2W9', 0.8], ['G1C2Q7', 'G1C2Q4', 0.76]]\n"
     ]
    }
   ],
   "source": [
    "geneCorr = [[\"G1C2W9\", \"G1C2Q7\", 0.2], [\"G1C2W9\", \"G1C2Q4\", 0.9], [\"Q6NMS1\", \"G1C2W9\", 0.8],\n",
    "            [\"G1C2W9\", \"Q6NMS1\",0.4], [\"G1C2Q7\", \"G1C2Q4\",0.76]]\n",
    "\n",
    "highlyCorr = [x for x in geneCorr if x[2] > 0.75]\n",
    "\n",
    "print(geneCorr, \"\\n\")\n",
    "print(highlyCorr)"
   ]
  },
  {
   "cell_type": "markdown",
   "metadata": {},
   "source": [
    "</div>\n",
    "6. You are given a list of covid deaths and cases for some countries, download the [file here](https://drive.google.com/file/d/1gXYblEtUd2rCdyeG4oVfpEyCZi6x7Tt0/view?usp=sharing):\n",
    "\n",
    "load it with:\n",
    "\n",
    "```\n",
    "data = []\n",
    "f = open(\"Covid_simple.csv\", \"r\")\n",
    "data = f.readlines()\n",
    "f.close()\n",
    "```\n",
    "In the first row you have the header, other lines are the data, like:\n",
    "\n",
    "```\n",
    "Country,Total_cases,Total_Deaths,Population\n",
    "USA,\"98,166,904\",\"1,084,282\",\"334,805,269\"\n",
    "India,\"44,587,307\",\"528,629\",\"1,406,631,776\"\n",
    "France,\"35,342,950\",\"155,078\",\"65,584,518\"\n",
    "Brazil,\"34,706,757\",\"686,027\",\"215,353,593\"\n",
    "Germany,\"33,312,373\",\"149,948\",\"83,883,596\"\n",
    "S. Korea,\"24,769,101\",\"28,406\",\"51,329,899\"\n",
    "UK,\"23,621,952\",\"189,919\",\"68,497,907\"\n",
    "......\n",
    "```\n",
    "Create a dictionary with key the country, and as values a list containing total_cases, total deaths and the population.  \n",
    "**pay attention, numbers are not in a good format (there is a , in the number, fix it before converting it into a integer)**\n",
    "\n",
    "Qurery the number of deaths in Italy, and print it.  \n",
    "Print the percentage of total cases over the population for 5 random countries.  \n",
    "Print the precentage of total deaths over the population for 5 random countires.\n",
    "\n",
    "\n",
    "<div class=\"tggle\" onclick=\"toggleVisibility('ex6');\">Show/Hide Solution</div>\n",
    "<div id=\"ex6\" style=\"display:none;\">"
   ]
  },
  {
   "cell_type": "code",
   "execution_count": 72,
   "metadata": {},
   "outputs": [
    {
     "name": "stdout",
     "output_type": "stream",
     "text": [
      "Italy [22432803, 177054, 60262770]\n",
      "Kazakhstan 0.07255740067856135 0.0007128336031322607\n",
      "Finland 0.23275415124501347 0.0010766954217492114\n",
      "Morocco 0.03348802507288587 0.00043094552062867745\n",
      "Bulgaria 0.18389249213649833 0.005510039524606051\n",
      "Lithuania 0.46929790946264577 0.003501511059815727\n"
     ]
    }
   ],
   "source": [
    "data = []\n",
    "f = open(\"Covid_simple.csv\", \"r\")\n",
    "data = f.readlines()\n",
    "f.close()\n",
    "\n",
    "\n",
    "data_dict = dict()\n",
    "for row in data[1:]:\n",
    "    row_clean = row.rstrip(\"\\n\").split(\"\\\"\")\n",
    "    tmp = [row_clean[0][:-1],row_clean[1],row_clean[3],row_clean[5]]\n",
    "    tot_cases = int(tmp[1].replace(\",\",\"\"))\n",
    "    tot_deaths = int(tmp[2].replace(\",\",\"\"))\n",
    "    pop = int(tmp[3].replace(\",\",\"\"))\n",
    "    data_dict[tmp[0]] = [tot_cases,tot_deaths,pop]   \n",
    "\n",
    "print(\"Italy\",data_dict[\"Italy\"])\n",
    "\n",
    "countries = ['Kazakhstan', 'Finland', 'Morocco', 'Bulgaria', 'Lithuania']\n",
    "for key in countries:\n",
    "    print(key, data_dict[key][0]/data_dict[key][-1],data_dict[key][1]/data_dict[key][-1])"
   ]
  },
  {
   "cell_type": "markdown",
   "metadata": {},
   "source": [
    "</div>"
   ]
  }
 ],
 "metadata": {
  "celltoolbar": "Edit Metadata",
  "interpreter": {
   "hash": "11275e423c76d0a0e201506d98996a0e29f00e2374f373c1ba4dd1e488736b32"
  },
  "kernelspec": {
   "display_name": "Python 3.10.4 64-bit",
   "name": "python3"
  },
  "language_info": {
   "codemirror_mode": {
    "name": "ipython",
    "version": 3
   },
   "file_extension": ".py",
   "mimetype": "text/x-python",
   "name": "python",
   "nbconvert_exporter": "python",
   "pygments_lexer": "ipython3",
   "version": "3.10.4"
  }
 },
 "nbformat": 4,
 "nbformat_minor": 2
}
