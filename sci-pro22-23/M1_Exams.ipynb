{
 "cells": [
  {
   "cell_type": "markdown",
   "metadata": {},
   "source": [
    "# Module 1, Exams \n",
    "## Simulation\n",
    "\n",
    "1. Sim. [8 11 22](exams_partA/sim/Simulation_8_11_22.zip) with [solution](exams_partA/sim/Simulation_8_11_22_sol.zip)\n",
    "\n",
    "## Exams\n",
    "1. Exam Part A [11 11 22](exams_partA/Exams/Exam_11_Nov_22_Part_A_DS.zip)"
   ]
  },
  {
   "cell_type": "markdown",
   "metadata": {},
   "source": []
  }
 ],
 "metadata": {
  "celltoolbar": "Edit Metadata",
  "interpreter": {
   "hash": "11275e423c76d0a0e201506d98996a0e29f00e2374f373c1ba4dd1e488736b32"
  },
  "kernelspec": {
   "display_name": "Python 3.10.4 64-bit",
   "name": "python3"
  },
  "language_info": {
   "codemirror_mode": {
    "name": "ipython",
    "version": 3
   },
   "file_extension": ".py",
   "mimetype": "text/x-python",
   "name": "python",
   "nbconvert_exporter": "python",
   "pygments_lexer": "ipython3",
   "version": "3.10.4"
  }
 },
 "nbformat": 4,
 "nbformat_minor": 2
}
