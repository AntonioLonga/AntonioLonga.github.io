{
 "cells": [
  {
   "cell_type": "markdown",
   "source": [
    "# Scientific Programming for Data Science"
   ],
   "metadata": {}
  },
  {
   "cell_type": "markdown",
   "source": [
    "# General Info\n",
    "\n",
    "For any additional information you can write an email: \n",
    "\n",
    "- for technical support and for help with the exercises to the tutors:\n",
    "    - **Antonio Longa: antonio.longa at unitn dot it**\n",
    "\n",
    "## Timetable and lecture rooms\n",
    "\n",
    "Practicals will be held on **TBD** and on **TBD**.\n",
    "\n",
    "The teaching will be divided in **two modules** according to the theoretical part provided by Prof. Passerini (1st module) and Prof. Dassi (2nd module). Each module will be composed of **12 lessons (6 weeks)** that also comprehend **2 mid-term exams**, one between the two modules (beginning of november) and one at the end (mid december).\n",
    "\n",
    "## Equipment\n",
    "\n",
    "Even if the lessons are provided in a standard room, we will try to keep the form of practical lessons held in a computer science lab. For this reason, **students are highly encouraged to bring their personal laptop to work independently in solving the exercises**.\n",
    "\n",
    "## Acknowledgements\n",
    "\n",
    "I would also like to thank **Luca Marchetti, David Leoni, Stefano Teso, Luca Bianco, and Erik Dassi** for allowing me to use their material to prepare the course.\n"
   ],
   "metadata": {}
  },
  {
   "cell_type": "markdown",
   "source": [],
   "metadata": {}
  }
 ],
 "metadata": {
  "celltoolbar": "Edit Metadata",
  "kernelspec": {
   "display_name": "Python 3",
   "language": "python",
   "name": "python3"
  },
  "language_info": {
   "codemirror_mode": {
    "name": "ipython",
    "version": 3
   },
   "file_extension": ".py",
   "mimetype": "text/x-python",
   "name": "python",
   "nbconvert_exporter": "python",
   "pygments_lexer": "ipython3",
   "version": "3.6.9"
  },
  "toc": {
   "base_numbering": 1,
   "nav_menu": {},
   "number_sections": false,
   "sideBar": true,
   "skip_h1_title": false,
   "title_cell": "Table of Contents",
   "title_sidebar": "Contents",
   "toc_cell": false,
   "toc_position": {},
   "toc_section_display": true,
   "toc_window_display": false
  }
 },
 "nbformat": 4,
 "nbformat_minor": 2
}