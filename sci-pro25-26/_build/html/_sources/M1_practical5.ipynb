{
 "cells": [
  {
   "cell_type": "markdown",
   "metadata": {},
   "source": [
    "# Module 1, Practical 5\n",
    "\n",
    "In this practical we will add some information on loops and introduce dictionaries.\n",
    "\n",
    "## More on loops\n",
    "As seen in the previous practical and in the lecture, there are three different ways of execution flow:\n",
    "\n",
    "![i1](img/pract4/structured_programming.png)\n",
    "\n",
    "We have already seen the *if*, *for* and *while* loops and their variants. Please remember that the code block of each of these statements is defined by the *indentation* (i.e. spacing). \n",
    "\n",
    "\n",
    "### Ternary operator\n",
    "In some cases it is handy to be able to initialize a variable depending on the value of another one.\n",
    "\n",
    "**Example**:\n",
    "The discount rate applied to a purchase depends on the amount of the sale. Create a variable *discount* setting its value to 0 if the variable *amount* is lower than 100 euros, to 10% if it is higher."
   ]
  },
  {
   "cell_type": "code",
   "execution_count": 1,
   "metadata": {},
   "outputs": [
    {
     "name": "stdout",
     "output_type": "stream",
     "text": [
      "Total amount: 110 discount: 0.1\n"
     ]
    }
   ],
   "source": [
    "amount = 110\n",
    "discount = 0\n",
    "\n",
    "if amount >100:\n",
    "    discount = 0.1\n",
    "else:\n",
    "    discount = 0 # not necessary\n",
    "\n",
    "print(\"Total amount:\", amount, \"discount:\", discount)\n"
   ]
  },
  {
   "cell_type": "markdown",
   "metadata": {},
   "source": [
    "The previous code can be written more coincisely as:"
   ]
  },
  {
   "cell_type": "code",
   "execution_count": 2,
   "metadata": {},
   "outputs": [
    {
     "name": "stdout",
     "output_type": "stream",
     "text": [
      "Total amount: 110 discount: 0.1\n"
     ]
    }
   ],
   "source": [
    "amount = 110\n",
    "discount = 0.1 if amount > 100 else 0\n",
    "print(\"Total amount:\", amount, \"discount:\", discount)"
   ]
  },
  {
   "cell_type": "markdown",
   "metadata": {},
   "source": [
    "The basic syntax of the ternary operator is:"
   ]
  },
  {
   "cell_type": "markdown",
   "metadata": {},
   "source": [
    "```\n",
    "variable = value if condition else other_value\n",
    "```"
   ]
  },
  {
   "cell_type": "markdown",
   "metadata": {},
   "source": [
    "meaning that the *variable* is initialized to *value* if the *condition* holds, otherwise to *other_value*.\n",
    "\n",
    "Python also allows in line operations separated by a \";\". This is a compact way of specifying several instructions on a single line, but it makes the code more difficult to read."
   ]
  },
  {
   "cell_type": "code",
   "execution_count": 3,
   "metadata": {},
   "outputs": [
    {
     "name": "stdout",
     "output_type": "stream",
     "text": [
      "10 11 13\n"
     ]
    }
   ],
   "source": [
    "a = 10; b = a + 1; c = b +2\n",
    "print(a,b,c)"
   ]
  },
  {
   "cell_type": "markdown",
   "metadata": {},
   "source": [
    "<div class=\"alert alert-warning\">\n",
    "\n",
    "**Note:** Although the ternary operator and in line operations are sometimes useful and less verbose than the explicit definition, they are considered \"non-pythonic\" and advised against.\n",
    "\n",
    "</div>"
   ]
  },
  {
   "cell_type": "markdown",
   "metadata": {},
   "source": [
    "### Break and continue\n",
    "\n",
    "Sometimes it is useful to skip an entire iteration of a loop or end the loop before its supposed end.\n",
    "This can be achieved with two different statements:  **continue** and **break**.\n",
    "\n",
    "#### Continue statement\n",
    "Within a **for** or **while** loop, **continue** makes the interpreter skip that iteration and move on to the next. \n",
    "\n",
    "**Example:**\n",
    "Print all the odd numbers from 1 to 20."
   ]
  },
  {
   "cell_type": "code",
   "execution_count": 4,
   "metadata": {},
   "outputs": [
    {
     "name": "stdout",
     "output_type": "stream",
     "text": [
      "1 3 5 7 9 11 13 15 17 19 \n",
      "1 3 5 7 9 11 13 15 17 19 "
     ]
    }
   ],
   "source": [
    "#Two equivalent ways\n",
    "#1. Testing remainder == 1\n",
    "for i in range(21):\n",
    "    if i % 2 == 1:\n",
    "        print(i, end = \" \")\n",
    "\n",
    "print(\"\")\n",
    "\n",
    "#2. Skipping if remainder == 0 in for\n",
    "for i in range(21):\n",
    "    if i % 2 == 0:\n",
    "        continue\n",
    "    print(i, end = \" \")"
   ]
  },
  {
   "cell_type": "markdown",
   "metadata": {},
   "source": [
    "Continue can be used also within while loops but we need to be careful to update the value of the variable before reaching the continue statement or we will get stuck in never-ending loops.\n",
    "**Example:**\n",
    "Print all the odd numbers from 1 to 20."
   ]
  },
  {
   "cell_type": "code",
   "execution_count": 5,
   "metadata": {},
   "outputs": [
    {
     "ename": "KeyboardInterrupt",
     "evalue": "",
     "output_type": "error",
     "traceback": [
      "\u001b[0;31m---------------------------------------------------------------------------\u001b[0m",
      "\u001b[0;31mKeyboardInterrupt\u001b[0m                         Traceback (most recent call last)",
      "Input \u001b[0;32mIn [5]\u001b[0m, in \u001b[0;36m<cell line: 3>\u001b[0;34m()\u001b[0m\n\u001b[1;32m      1\u001b[0m \u001b[38;5;66;03m#Wrong code:\u001b[39;00m\n\u001b[1;32m      2\u001b[0m i \u001b[38;5;241m=\u001b[39m \u001b[38;5;241m0\u001b[39m\n\u001b[0;32m----> 3\u001b[0m \u001b[38;5;28;01mwhile\u001b[39;00m \u001b[43mi\u001b[49m \u001b[38;5;241m<\u001b[39m \u001b[38;5;241m21\u001b[39m:\n\u001b[1;32m      4\u001b[0m     \u001b[38;5;28;01mif\u001b[39;00m i \u001b[38;5;241m%\u001b[39m \u001b[38;5;241m2\u001b[39m \u001b[38;5;241m==\u001b[39m \u001b[38;5;241m0\u001b[39m:\n\u001b[1;32m      5\u001b[0m         \u001b[38;5;28;01mcontinue\u001b[39;00m\n",
      "\u001b[0;31mKeyboardInterrupt\u001b[0m: "
     ]
    }
   ],
   "source": [
    "#Wrong code:\n",
    "i = 0\n",
    "while i < 21:\n",
    "    if i % 2 == 0:\n",
    "        continue\n",
    "    print(i, end = \" \")\n",
    "    i = i + 1 # NEVER EXECUTED IF i % 2 == 0!!!!"
   ]
  },
  {
   "cell_type": "markdown",
   "metadata": {},
   "source": [
    "a possible correct solution using while:"
   ]
  },
  {
   "cell_type": "code",
   "execution_count": 6,
   "metadata": {},
   "outputs": [
    {
     "name": "stdout",
     "output_type": "stream",
     "text": [
      "1 3 5 7 9 11 13 15 17 19 "
     ]
    }
   ],
   "source": [
    "i = -1\n",
    "while i< 20:       #i is incremented in the loop, so 20!!!\n",
    "    i = i + 1        #the variable is updated no matter what\n",
    "    if i % 2 == 0:\n",
    "        continue\n",
    "    print(i, end = \" \")"
   ]
  },
  {
   "cell_type": "markdown",
   "metadata": {},
   "source": [
    "#### Break statement\n",
    "Within a **for** or **while** loop, **break** makes the interpreter exit the loop and continue with the sequential execution. Sometimes it is useful to get out of the loop if to complete our task we do not need to get to the end of it.\n",
    "\n",
    "**Example:**\n",
    "Given the following list of integers [1,5,6,4,7,1,2,3,7] print them until a number already printed is found. "
   ]
  },
  {
   "cell_type": "code",
   "execution_count": 7,
   "metadata": {},
   "outputs": [
    {
     "name": "stdout",
     "output_type": "stream",
     "text": [
      "1 5 6 4 7 "
     ]
    }
   ],
   "source": [
    "L = [1,5,6,4,7,1,2,3,7]\n",
    "found = []\n",
    "for i in L:\n",
    "    if i in found:\n",
    "        break\n",
    "        \n",
    "    found.append(i)\n",
    "    print(i, end = \" \")"
   ]
  },
  {
   "cell_type": "markdown",
   "metadata": {},
   "source": [
    "**Example:**\n",
    "Pick a random number from 1 and 50 and count how many times it takes to randomly choose number 27. Limit the number of random picks to 40 (i.e. if more than 40 picks have been done and 27 has not been found exit anyway with a message)."
   ]
  },
  {
   "cell_type": "code",
   "execution_count": 8,
   "metadata": {},
   "outputs": [
    {
     "name": "stdout",
     "output_type": "stream",
     "text": [
      "Sorry number 27 was never found!\n",
      "[17, 49, 50, 42, 42, 23, 24, 40, 1, 13, 12, 22, 14, 41, 30, 33, 11, 43, 17, 20, 16, 15, 31, 32, 23, 45, 8, 20, 50, 13, 44, 23, 2, 8, 4, 11, 32, 28, 17, 49]\n"
     ]
    }
   ],
   "source": [
    "import random\n",
    "\n",
    "iterations = 1\n",
    "picks = []\n",
    "while iterations <= 40:\n",
    "    pick = random.randint(1,50)\n",
    "    picks.append(pick)\n",
    "\n",
    "    if pick == 27:\n",
    "        break\n",
    "    iterations += 1   #equal to: iterations = iterations + 1 \n",
    "\n",
    "if iterations == 41:\n",
    "    print(\"Sorry number 27 was never found!\")\n",
    "else:\n",
    "    print(\"27 found in \", iterations, \"iterations\")\n",
    "\n",
    "print(picks)"
   ]
  },
  {
   "cell_type": "markdown",
   "metadata": {},
   "source": [
    "An alternative way without using the break statement makes use of a *flag* variable (that when changes value will make the loop end):"
   ]
  },
  {
   "cell_type": "code",
   "execution_count": 8,
   "metadata": {},
   "outputs": [
    {
     "name": "stdout",
     "output_type": "stream",
     "text": [
      "Sorry number 27 was never found!\n",
      "[14, 32, 28, 25, 49, 28, 31, 6, 11, 17, 21, 13, 35, 15, 3, 30, 34, 19, 38, 20, 47, 38, 14, 42, 32, 19, 23, 49, 40, 21, 17, 35, 47, 1, 39, 41, 31, 33, 21, 35]\n"
     ]
    }
   ],
   "source": [
    "import random\n",
    "found = False # This is called flag\n",
    "iterations = 1\n",
    "picks = []\n",
    "while iterations <= 40 and found == False: #the flag is used to exit \n",
    "    pick = random.randint(1,50)\n",
    "    picks.append(pick)\n",
    "    if pick == 27:\n",
    "        found = True     #update the flag, will exit at next iteration\n",
    "    iterations += 1\n",
    "\n",
    "if iterations == 41 and not found:\n",
    "    print(\"Sorry number 27 was never found!\")\n",
    "else:\n",
    "    print(\"27 found in \", iterations -1, \"iterations\")\n",
    "    \n",
    "print(picks)"
   ]
  },
  {
   "cell_type": "markdown",
   "metadata": {},
   "source": [
    "### List comprehension\n",
    "List comprehension is a quick way of creating a list. The resulting list is normally obtained by applying a function or a method to the elements of another list that **remains unchanged**.\n",
    "\n",
    "The basic syntax is:"
   ]
  },
  {
   "cell_type": "markdown",
   "metadata": {},
   "source": [
    "```\n",
    "new_list = [ some_function (x) for x in start_list]\n",
    "```\n",
    "or\n",
    "```\n",
    "new_list = [ x.some_method() for x in start_list]\n",
    "```"
   ]
  },
  {
   "cell_type": "markdown",
   "metadata": {},
   "source": [
    "List comprehension can also be used to filter elements of a list and produce another list as sublist of the first one (**remember that the original list is not changed**).\n",
    "\n",
    "In this case the syntax is:"
   ]
  },
  {
   "cell_type": "markdown",
   "metadata": {},
   "source": [
    "```\n",
    "new_list = [ some_function (x) for x in start_list if condition]\n",
    "```\n",
    "or\n",
    "```\n",
    "new_list = [ x.some_method() for x in start_list if condition]\n",
    "```"
   ]
  },
  {
   "cell_type": "markdown",
   "metadata": {},
   "source": [
    "where the element x in start_list becomes part of new_list if and only if the condition holds True.\n",
    "\n",
    "Let's see some examples:\n",
    "\n",
    "**Example:**\n",
    "Given a list of strings [\"hi\", \"there\", \"from\", \"python\"] create a list with the length of the corresponding element (i.e. the one with the same index)."
   ]
  },
  {
   "cell_type": "code",
   "execution_count": 9,
   "metadata": {},
   "outputs": [
    {
     "name": "stdout",
     "output_type": "stream",
     "text": [
      "hi  has length  2\n",
      "there  has length  5\n",
      "from  has length  4\n",
      "python  has length  6\n"
     ]
    }
   ],
   "source": [
    "elems = [\"hi\", \"there\", \"from\", \"python\"]\n",
    "\n",
    "newList = [len(x) for x in elems]\n",
    "\n",
    "for i in range(0,len(elems)):\n",
    "    print(elems[i], \" has length \", newList[i])"
   ]
  },
  {
   "cell_type": "markdown",
   "metadata": {},
   "source": [
    "**Example:**\n",
    "Given a list of strings [\"dog\", \"cat\", \"rabbit\", \"guinea pig\", \"hamster\", \"canary\", \"goldfish\"] create a list with the elements starting with a \"c\" or \"g\"."
   ]
  },
  {
   "cell_type": "code",
   "execution_count": 10,
   "metadata": {},
   "outputs": [
    {
     "name": "stdout",
     "output_type": "stream",
     "text": [
      "Original:\n",
      "['dog', 'cat', 'rabbit', 'guinea pig', 'hamster', 'canary', 'goldfish']\n",
      "Filtered:\n",
      "['cat', 'guinea pig', 'canary', 'goldfish']\n"
     ]
    }
   ],
   "source": [
    "pets = [\"dog\", \"cat\", \"rabbit\", \"guinea pig\", \"hamster\", \"canary\", \"goldfish\"]\n",
    "\n",
    "cg_pets = [x for x in pets if x.startswith(\"c\") or x.startswith(\"g\")]\n",
    "\n",
    "print(\"Original:\")\n",
    "print(pets)\n",
    "print(\"Filtered:\")\n",
    "print(cg_pets)"
   ]
  },
  {
   "cell_type": "markdown",
   "metadata": {},
   "source": [
    "**Example:**\n",
    "Create a list with all the numbers divisible by 17 from 1 to 200."
   ]
  },
  {
   "cell_type": "code",
   "execution_count": 11,
   "metadata": {
    "scrolled": true
   },
   "outputs": [
    {
     "name": "stdout",
     "output_type": "stream",
     "text": [
      "[17, 34, 51, 68, 85, 102, 119, 136, 153, 170, 187]\n"
     ]
    }
   ],
   "source": [
    "values = [ x for x in range(1,200) if x % 17 == 0]\n",
    "print(values)"
   ]
  },
  {
   "cell_type": "markdown",
   "metadata": {},
   "source": [
    "**Example:**\n",
    "Transpose the matrix $\\begin{bmatrix}1 & 10\\\\2 & 20\\\\3 & 30\\\\4 & 40\\end{bmatrix}$ stored as a list of lists (i.e. matrix = [[1, 10], [2,20], [3,30], [4,40]]). The output matrix should be: $\\begin{bmatrix}1 & 2 & 3 & 4\\\\10 & 20 & 30 & 40\\end{bmatrix}$, represented as [[1, 2, 3, 4], [10, 20, 30, 40]]  "
   ]
  },
  {
   "cell_type": "code",
   "execution_count": 12,
   "metadata": {},
   "outputs": [
    {
     "name": "stdout",
     "output_type": "stream",
     "text": [
      "[[1, 10], [2, 20], [3, 30], [4, 40]]\n",
      "[[1, 2, 3, 4], [10, 20, 30, 40]]\n"
     ]
    }
   ],
   "source": [
    "matrix = [[1, 10], [2,20], [3,30], [4,40]]\n",
    "print(matrix)\n",
    "transpose = [[row[i] for row in matrix] for i in range(2)]\n",
    "print (transpose)"
   ]
  },
  {
   "cell_type": "markdown",
   "metadata": {},
   "source": [
    "**Example:**\n",
    "Given the list: [\"Hotel\", \"Icon\",\" Bus\",\"Train\", \"Hotel\", \"Eye\", \"Rain\", \"Elephant\"] create a list with all the first letters."
   ]
  },
  {
   "cell_type": "code",
   "execution_count": 13,
   "metadata": {},
   "outputs": [
    {
     "name": "stdout",
     "output_type": "stream",
     "text": [
      "['Hotel', 'Icon', ' Bus', 'Train', 'Hotel', 'Eye', 'Rain', 'Elephant']\n",
      "['H', 'I', ' ', 'T', 'H', 'E', 'R', 'E']\n",
      "HI THERE\n"
     ]
    }
   ],
   "source": [
    "myList = [\"Hotel\", \"Icon\",\" Bus\",\"Train\", \"Hotel\", \"Eye\", \"Rain\", \"Elephant\"]\n",
    "initials = [x[0] for x in myList]\n",
    "\n",
    "print(myList)\n",
    "print(initials)\n",
    "print(\"\".join(initials))"
   ]
  },
  {
   "cell_type": "markdown",
   "metadata": {},
   "source": [
    "With list comprehension we can copy a list into another one, but this is a shallow copy:"
   ]
  },
  {
   "cell_type": "code",
   "execution_count": 10,
   "metadata": {},
   "outputs": [
    {
     "name": "stdout",
     "output_type": "stream",
     "text": [
      "B: [[1, 2, 3], [[[1, 2, 3]]]]\n",
      "C: [[1, 2, 3], [[[1, 2, 3]]]]\n",
      "B now: [[1, 2, 3, 4], [[[1, 2, 3, 4]]]]\n",
      "C now: [[1, 2, 3, 4], [[[1, 2, 3, 4]]]]\n"
     ]
    }
   ],
   "source": [
    "a = [1,2,3]\n",
    "b = [a, [[a]]]\n",
    "print(\"B:\", b)\n",
    "c = [x for x in b]\n",
    "print(\"C:\", c)\n",
    "a.append(4)\n",
    "print(\"B now:\" , b)\n",
    "print(\"C now:\", c)"
   ]
  },
  {
   "cell_type": "markdown",
   "metadata": {},
   "source": [
    "## Dictionaries\n",
    "\n",
    "A **dictionary** is a map between one object, the **key**, and another object, the **value**. Dictionaries are **mutable objects** and contain sequences of mappings *key* --> *object* but there is not specific ordering among them. \n",
    "Dictionaries are defined using the curly braces **{key1 : value1, key2 : value2}** and **:** to separate keys from values.\n",
    "\n",
    "Some examples on how to define dictionaries follow:"
   ]
  },
  {
   "cell_type": "code",
   "execution_count": 14,
   "metadata": {},
   "outputs": [
    {
     "name": "stdout",
     "output_type": "stream",
     "text": [
      "First: {'one': 1, 'two': 2, 'three': 3, 'four': 4}\n",
      "Empty: {}\n",
      "{1: 'one', 2: 'two', 'three': 3}\n",
      "{'one': 1, 'two': 2, 'three': 3, 'four': 4}\n",
      "True\n"
     ]
    }
   ],
   "source": [
    "first_dict = {\"one\" : 1, \"two\": 2, \"three\" : 3, \"four\" : 4} \n",
    "print(\"First:\", first_dict)\n",
    "\n",
    "empty_dict = dict()\n",
    "print(\"Empty:\",empty_dict)\n",
    "\n",
    "second_dict = {1 : \"one\", 2 : \"two\", \"three\" :3 } #BAD IDEA BUT POSSIBLE!!!\n",
    "print(second_dict)\n",
    "\n",
    "third_dict = dict(zip([\"one\",\"two\",\"three\",\"four\"],[1,2,3,4]))\n",
    "print(third_dict)\n",
    "print(first_dict == third_dict)"
   ]
  },
  {
   "cell_type": "markdown",
   "metadata": {},
   "source": [
    "Note that there is no ordering of the keys, and that the order in which they have been inserted is not preserved. Moreover, keys and values can be dishomogeneous (e.g. keys can be strings and values integers). \n",
    "An interesting case is *third_dict* where the function *zip* followed by *dict* is used to map the keys of the first list into the values present in the second.\n",
    "\n",
    "Note that keys can be **dishomogeneous**, even though this is a bad idea normally.  The only requirement for the **keys** is that they **must be immutable objects**. Trying to use a mutable object as a key will make the interpreter crash with the error: **unhashable type**. Finally, keys must be unique. We cannot associate more than one value to the same key."
   ]
  },
  {
   "cell_type": "code",
   "execution_count": 15,
   "metadata": {},
   "outputs": [
    {
     "name": "stdout",
     "output_type": "stream",
     "text": [
      "{(1, 2, 3): 6, (1, 3, 5): 9}\n"
     ]
    },
    {
     "ename": "TypeError",
     "evalue": "unhashable type: 'list'",
     "output_type": "error",
     "traceback": [
      "\u001b[0;31m---------------------------------------------------------------------------\u001b[0m",
      "\u001b[0;31mTypeError\u001b[0m                                 Traceback (most recent call last)",
      "\u001b[0;32m<ipython-input-15-0fe98c7f5acd>\u001b[0m in \u001b[0;36m<module>\u001b[0;34m\u001b[0m\n\u001b[1;32m      8\u001b[0m \u001b[0md\u001b[0m \u001b[0;34m=\u001b[0m \u001b[0;34m[\u001b[0m\u001b[0;36m1\u001b[0m\u001b[0;34m,\u001b[0m\u001b[0;36m3\u001b[0m\u001b[0;34m,\u001b[0m\u001b[0;36m5\u001b[0m\u001b[0;34m]\u001b[0m\u001b[0;34m\u001b[0m\u001b[0;34m\u001b[0m\u001b[0m\n\u001b[1;32m      9\u001b[0m \u001b[0;34m\u001b[0m\u001b[0m\n\u001b[0;32m---> 10\u001b[0;31m \u001b[0mdict2\u001b[0m \u001b[0;34m=\u001b[0m \u001b[0;34m{\u001b[0m\u001b[0mc\u001b[0m \u001b[0;34m:\u001b[0m \u001b[0;36m6\u001b[0m\u001b[0;34m,\u001b[0m \u001b[0md\u001b[0m \u001b[0;34m:\u001b[0m \u001b[0;36m9\u001b[0m\u001b[0;34m}\u001b[0m\u001b[0;34m\u001b[0m\u001b[0;34m\u001b[0m\u001b[0m\n\u001b[0m\u001b[1;32m     11\u001b[0m \u001b[0mprint\u001b[0m\u001b[0;34m(\u001b[0m\u001b[0mdict2\u001b[0m\u001b[0;34m)\u001b[0m\u001b[0;34m\u001b[0m\u001b[0;34m\u001b[0m\u001b[0m\n",
      "\u001b[0;31mTypeError\u001b[0m: unhashable type: 'list'"
     ]
    }
   ],
   "source": [
    "a = (1,2,3) #a,b are tuples: hence immutable\n",
    "b = (1,3,5)\n",
    "\n",
    "my_dict = {a : 6, b : 9 }\n",
    "print(my_dict)\n",
    "\n",
    "c = [1,2,3] #c,d are lists: hence mutable\n",
    "d = [1,3,5]\n",
    "\n",
    "dict2 = {c : 6, d : 9}\n",
    "print(dict2)"
   ]
  },
  {
   "cell_type": "markdown",
   "metadata": {},
   "source": [
    "### Functions working on dictionaries\n",
    "\n",
    "As for the other data types, python provides several operators that can be applied to dictionaries. The following operators are available and they basically work as in lists. The only exception being that the operator **in** checks whether the specified object is present among the **keys**.\n",
    "\n",
    "![i2](img/pract5/operators.png)\n",
    "\n",
    "Some usage examples follow:"
   ]
  },
  {
   "cell_type": "code",
   "execution_count": 16,
   "metadata": {},
   "outputs": [
    {
     "name": "stdout",
     "output_type": "stream",
     "text": [
      "{'one': 1, 'two': 2, 'twentyfive': 25}\n",
      "{'one': 1, 'two': 2, 'twentyfive': 25, 'ten': 10, 'twenty': 20}\n",
      "{'one': 1, 'two': 2, 'twentyfive': 25, 'ten': '10-again', 'twenty': 20}\n",
      "The dictionary has  5  elements\n",
      "The value of \"ten\" is: 10-again\n",
      "The value of \"two\" is: 2\n",
      "Is \"twentyfive\" in dictionary? True\n",
      "Is \"seven\" in dictionary? False\n"
     ]
    }
   ],
   "source": [
    "myDict = {\"one\" : 1, \"two\" : 2, \"twentyfive\" : 25}\n",
    "\n",
    "print(myDict)\n",
    "myDict[\"ten\"] = 10\n",
    "myDict[\"twenty\"] = 20\n",
    "print(myDict)\n",
    "myDict[\"ten\"] = \"10-again\"\n",
    "print(myDict)\n",
    "print(\"The dictionary has \", len(myDict), \" elements\")\n",
    "print(\"The value of \\\"ten\\\" is:\", myDict[\"ten\"])\n",
    "print(\"The value of \\\"two\\\" is:\", myDict[\"two\"])\n",
    "\n",
    "print(\"Is \\\"twentyfive\\\" in dictionary?\", \"twentyfive\" in myDict)\n",
    "print(\"Is \\\"seven\\\" in dictionary?\", \"seven\" in myDict)"
   ]
  },
  {
   "cell_type": "markdown",
   "metadata": {},
   "source": [
    "### Dictionary methods \n",
    "\n",
    "Recall what seen in the lecture, the following methods are available for dictionaries:\n",
    "\n",
    "![i3](img/pract5/methods.png)\n",
    "\n",
    "These methods are new to dictionaries and can be used to loop through the elements in them.\n",
    "\n",
    "<div class=\"alert alert-warning\">\n",
    "\n",
    "**ERRATUM:** ```dict.keys()``` returns a ```dict_keys``` object not a list. To cast it to list, we need to call ```list(dict.keys())```. The same applies to ```dict.values()``` that returns a ```dict_values``` object that needs conversion to a list with ```list(dict.values())```. \n",
    "\n",
    "</div>"
   ]
  },
  {
   "cell_type": "code",
   "execution_count": 17,
   "metadata": {},
   "outputs": [
    {
     "name": "stdout",
     "output_type": "stream",
     "text": [
      "keys: dict_keys(['k1', 'k2', 'k3']) values: dict_values([1, 2, 3])\n",
      "\n",
      "keys: ['k1', 'k2', 'k3'] values: [1, 2, 3]\n"
     ]
    }
   ],
   "source": [
    "D = {\"k1\" : 1, \"k2\" : 2 , \"k3\" : 3}\n",
    "\n",
    "print(\"keys:\" , D.keys(), \"values:\", D.values())\n",
    "print(\"\")\n",
    "print(\"keys:\", list(D.keys()), \"values:\", list(D.values()))\n"
   ]
  },
  {
   "cell_type": "markdown",
   "metadata": {},
   "source": [
    "**Let s try**\n",
    "Given the sequence below, store in a dictionary all the characters and count how many times they appear. Finally print out the stats (e.g. how many amino-acids are present, the most frequent, the least frequent and the frequency of all of them **in alphabetical order**)."
   ]
  },
  {
   "cell_type": "markdown",
   "metadata": {},
   "source": [
    "```\n",
    ">sp|P00517|KAPCA_BOVIN cAMP-dependent protein kinase catalytic subunit alpha\n",
    "MGNAAAAKKGSEQESVKEFLAKAKEDFLKKWENPAQNTAHLDQFERIKTLGTGSFGRVML\n",
    "VKHMETGNHYAMKILDKQKVVKLKQIEHTLNEKRILQAVNFPFLVKLEFSFKDNSNLYMV\n",
    "MEYVPGGEMFSHLRRIGRFSEPHARFYAAQIVLTFEYLHSLDLIYRDLKPENLLIDQQGY\n",
    "IQVTDFGFAKRVKGRTWTLCGTPEYLAPEIILSKGYNKAVDWWALGVLIYEMAAGYPPFF\n",
    "ADQPIQIYEKIVSGKVRFPSHFSSDLKDLLRNLLQVDLTKRFGNLKNGVNDIKNHKWFAT\n",
    "TDWIAIYQRKVEAPFIPKFKGPGDTSNFDDYEEEEIRVSINEKCGKEFSEF\n",
    "```"
   ]
  },
  {
   "cell_type": "code",
   "execution_count": 1,
   "metadata": {},
   "outputs": [
    {
     "name": "stdout",
     "output_type": "stream",
     "text": [
      "MGNAAAAKKGSEQESVKEFLAKAKEDFLKKWENPAQNTAHLDQFERIKTLGTGSFGRVMLVKHMETGNHYAMKILDKQKVVKLKQIEHTLNEKRILQAVNFPFLVKLEFSFKDNSNLYMVMEYVPGGEMFSHLRRIGRFSEPHARFYAAQIVLTFEYLHSLDLIYRDLKPENLLIDQQGYIQVTDFGFAKRVKGRTWTLCGTPEYLAPEIILSKGYNKAVDWWALGVLIYEMAAGYPPFFADQPIQIYEKIVSGKVRFPSHFSSDLKDLLRNLLQVDLTKRFGNLKNGVNDIKNHKWFATTDWIAIYQRKVEAPFIPKFKGPGDTSNFDDYEEEEIRVSINEKCGKEFSEF\n",
      "The number of amino-acids present is  20\n",
      "A  is present 23 times\n",
      "C  is present 2 times\n",
      "D  is present 18 times\n",
      "E  is present 27 times\n",
      "F  is present 25 times\n",
      "G  is present 22 times\n",
      "H  is present 9 times\n",
      "I  is present 21 times\n",
      "K  is present 34 times\n",
      "L  is present 32 times\n",
      "M  is present 8 times\n",
      "N  is present 17 times\n",
      "P  is present 14 times\n",
      "Q  is present 14 times\n",
      "R  is present 15 times\n",
      "S  is present 16 times\n",
      "T  is present 14 times\n",
      "V  is present 20 times\n",
      "W  is present 6 times\n",
      "Y  is present 14 times\n",
      "Amino C has the lowest freq. ( 2 )\n",
      "Amino K has the highest freq. ( 34 )\n"
     ]
    }
   ],
   "source": [
    "protein = \"\"\"MGNAAAAKKGSEQESVKEFLAKAKEDFLKKWENPAQNTAHLDQFERIKTLGTGSFGRVML\n",
    "VKHMETGNHYAMKILDKQKVVKLKQIEHTLNEKRILQAVNFPFLVKLEFSFKDNSNLYMV\n",
    "MEYVPGGEMFSHLRRIGRFSEPHARFYAAQIVLTFEYLHSLDLIYRDLKPENLLIDQQGY\n",
    "IQVTDFGFAKRVKGRTWTLCGTPEYLAPEIILSKGYNKAVDWWALGVLIYEMAAGYPPFF\n",
    "ADQPIQIYEKIVSGKVRFPSHFSSDLKDLLRNLLQVDLTKRFGNLKNGVNDIKNHKWFAT\n",
    "TDWIAIYQRKVEAPFIPKFKGPGDTSNFDDYEEEEIRVSINEKCGKEFSEF\"\"\"\n",
    "\n",
    "protein = protein.replace(\"\\n\",\"\")\n",
    "\n",
    "print(protein)\n",
    "\n",
    "amino_acids = dict()\n",
    "\n",
    "for a in protein:\n",
    "    if a in amino_acids:\n",
    "        amino_acids[a] = amino_acids[a] + 1 # amino_acids[a] += 1\n",
    "    else:\n",
    "        amino_acids[a] = 1\n",
    "\n",
    "\n",
    "num_aminos = len(amino_acids)\n",
    "\n",
    "print(\"The number of amino-acids present is \", num_aminos)\n",
    "#let's get all aminoacids\n",
    "#and sort them alphabetically\n",
    "a_keys = list(amino_acids.keys())\n",
    "\n",
    "a_keys.sort()\n",
    "\n",
    "# Another example of dictionaries\n",
    "mostF = {\"frequency\" : -1, \"aminoacid\" : \"-\"}\n",
    "leastF = {\"frequency\" : len(protein), \"aminoacid\" : \"-\"}\n",
    "\n",
    "for a in a_keys:\n",
    "    freq = amino_acids[a]\n",
    "    if(mostF[\"frequency\"] < freq):\n",
    "        mostF[\"frequency\"] = freq\n",
    "        mostF[\"aminoacid\"] = a\n",
    "        \n",
    "    if(leastF[\"frequency\"] > freq):\n",
    "        leastF[\"frequency\"] = freq\n",
    "        leastF[\"aminoacid\"] = a    \n",
    "    print(a, \" is present\", freq, \"times\")\n",
    "\n",
    "print(\"Amino\", leastF[\"aminoacid\"], \"has the lowest freq. (\",leastF[\"frequency\"],\")\")\n",
    "print(\"Amino\", mostF[\"aminoacid\"], \"has the highest freq. (\",mostF[\"frequency\"],\")\")"
   ]
  },
  {
   "cell_type": "markdown",
   "metadata": {},
   "source": [
    "**Important NOTE**. Accessing a value through the key of a dictionary requires that the pair key-value one searches for is present in the dictionary. If the searched key is not present the interpreter crashes out throwing a KeyError as follows:"
   ]
  },
  {
   "cell_type": "code",
   "execution_count": 2,
   "metadata": {},
   "outputs": [
    {
     "name": "stdout",
     "output_type": "stream",
     "text": [
      "1\n"
     ]
    },
    {
     "ename": "KeyError",
     "evalue": "'seven'",
     "output_type": "error",
     "traceback": [
      "\u001b[0;31m---------------------------------------------------------------------------\u001b[0m",
      "\u001b[0;31mKeyError\u001b[0m                                  Traceback (most recent call last)",
      "Input \u001b[0;32mIn [2]\u001b[0m, in \u001b[0;36m<cell line: 4>\u001b[0;34m()\u001b[0m\n\u001b[1;32m      1\u001b[0m myDict \u001b[38;5;241m=\u001b[39m {\u001b[38;5;124m\"\u001b[39m\u001b[38;5;124mone\u001b[39m\u001b[38;5;124m\"\u001b[39m : \u001b[38;5;241m1\u001b[39m, \u001b[38;5;124m\"\u001b[39m\u001b[38;5;124mtwo\u001b[39m\u001b[38;5;124m\"\u001b[39m : \u001b[38;5;241m2\u001b[39m, \u001b[38;5;124m\"\u001b[39m\u001b[38;5;124mthree\u001b[39m\u001b[38;5;124m\"\u001b[39m : \u001b[38;5;241m3\u001b[39m}\n\u001b[1;32m      3\u001b[0m \u001b[38;5;28mprint\u001b[39m(myDict[\u001b[38;5;124m\"\u001b[39m\u001b[38;5;124mone\u001b[39m\u001b[38;5;124m\"\u001b[39m])\n\u001b[0;32m----> 4\u001b[0m \u001b[38;5;28mprint\u001b[39m(\u001b[43mmyDict\u001b[49m\u001b[43m[\u001b[49m\u001b[38;5;124;43m\"\u001b[39;49m\u001b[38;5;124;43mseven\u001b[39;49m\u001b[38;5;124;43m\"\u001b[39;49m\u001b[43m]\u001b[49m)\n",
      "\u001b[0;31mKeyError\u001b[0m: 'seven'"
     ]
    }
   ],
   "source": [
    "myDict = {\"one\" : 1, \"two\" : 2, \"three\" : 3}\n",
    "\n",
    "print(myDict[\"one\"])\n",
    "print(myDict[\"seven\"])\n"
   ]
  },
  {
   "cell_type": "markdown",
   "metadata": {},
   "source": [
    "This could be avoided by checking that the key is present in the dictionary beforehand:"
   ]
  },
  {
   "cell_type": "code",
   "execution_count": 3,
   "metadata": {},
   "outputs": [
    {
     "name": "stdout",
     "output_type": "stream",
     "text": [
      "key: one value: 1\n",
      "key seven not found in dictionary\n"
     ]
    }
   ],
   "source": [
    "myDict = {\"one\" : 1, \"two\" : 2, \"three\" : 3}\n",
    "\n",
    "search_keys = [\"one\", \"seven\"]\n",
    "\n",
    "for s in search_keys:\n",
    "    if s in myDict:\n",
    "        print(\"key:\", s, \"value:\", myDict[s])\n",
    "    else:\n",
    "        print(\"key\", s, \"not found in dictionary\")\n",
    "        "
   ]
  },
  {
   "cell_type": "markdown",
   "metadata": {},
   "source": [
    "or by using the dictionary method **get** that has two inputs: the key and a default value to return in case key is not present in the dictionary:"
   ]
  },
  {
   "cell_type": "code",
   "execution_count": 21,
   "metadata": {},
   "outputs": [
    {
     "name": "stdout",
     "output_type": "stream",
     "text": [
      "key: one value: 1\n",
      "key: seven value: not found\n"
     ]
    }
   ],
   "source": [
    "myDict = {\"one\" : 1, \"two\" : 2, \"three\" : 3}\n",
    "\n",
    "search_keys = [\"one\", \"seven\"]\n",
    "\n",
    "for s in search_keys:\n",
    "    print(\"key:\", s, \"value:\", myDict.get(s, \"not found\"))"
   ]
  },
  {
   "cell_type": "markdown",
   "metadata": {},
   "source": [
    "## Exercises\n",
    "\n",
    "1. Given the following two lists of integers: \n",
    "[1, 13, 22, 7, 43, 81, 77, 12, 15,21, 84,100] and [44,32,7, 100, 81, 13, 1, 21, 71]:\n",
    "    1. Sort the two lists\n",
    "    2. Create a third list as intersection of the two lists (i.e. an element is in the intersection if it is present in both lists).  \n",
    "    3. Print the three lists.\n",
    "\n",
    "<div class=\"tggle\" onclick=\"toggleVisibility('ex1');\">Show/Hide Solution</div>\n",
    "<div id=\"ex1\" style=\"display:none;\">"
   ]
  },
  {
   "cell_type": "code",
   "execution_count": 23,
   "metadata": {},
   "outputs": [
    {
     "name": "stdout",
     "output_type": "stream",
     "text": [
      "L1:     [1, 7, 12, 13, 15, 21, 22, 43, 77, 81, 84, 100]\n",
      "L2:     [1, 7, 13, 21, 32, 44, 71, 81, 100]\n",
      "inters: [1, 7, 13, 21, 81, 100]\n",
      "\n",
      "--------------------------\n",
      "L1:     [1, 1, 7, 9, 9, 9, 9, 12, 15, 21, 44, 77, 81, 84, 100]\n",
      "L2:     [1, 7, 9, 13, 21, 21, 32, 44, 71, 81, 100]\n",
      "inters: [1, 1, 7, 9, 9, 9, 9, 21, 44, 81, 100]\n",
      "\n",
      "\n",
      " ------ Second solution --------\n",
      "L1:     [1, 1, 7, 9, 9, 9, 9, 12, 15, 21, 44, 77, 81, 84, 100]\n",
      "L2:     [1, 7, 9, 13, 21, 21, 32, 44, 71, 81, 100]\n",
      "inters: [1, 7, 9, 21, 44, 81, 100]\n"
     ]
    }
   ],
   "source": [
    "\"\"\"First solution, prints multiple times repeated elements in L1\"\"\"\n",
    "\n",
    "L1 = [1, 13, 22, 7, 43, 81, 77, 12, 15,21, 84,100]\n",
    "L2 = [44,32,7, 100, 81, 13, 1, 21, 71]\n",
    "\n",
    "L1.sort()\n",
    "L2.sort()\n",
    "intersection = [x for x in L1 if x in L2]\n",
    "\n",
    "print(\"L1:    \", L1)\n",
    "print(\"L2:    \", L2)\n",
    "print(\"inters:\", intersection)\n",
    "\n",
    "L1 = [1, 9, 1, 7, 44, 9, 9, 9, 81, 77, 12, 15,21, 84,100]\n",
    "L2 = [44, 32, 21, 7, 100, 81, 13, 9, 1, 21, 71]\n",
    "\n",
    "print(\"\\n--------------------------\")\n",
    "L1.sort()\n",
    "L2.sort()\n",
    "intersection = [x for x in L1 if x in L2]\n",
    "print(\"L1:    \", L1)\n",
    "print(\"L2:    \", L2)\n",
    "print(\"inters:\", intersection)\n",
    "\n",
    "print(\"\\n\\n ------ Second solution --------\")\n",
    "\"\"\"Second solution, does not print multiple times repeated elements in L1\"\"\"\n",
    "print(\"L1:    \", L1)\n",
    "print(\"L2:    \", L2)\n",
    "\n",
    "intersection2 = [L1[x] for x in range(len(L1)) if L1[x] in L2 and L1[x] not in  L1[x+1:]]\n",
    "print(\"inters:\", intersection2)\n",
    "\n"
   ]
  },
  {
   "cell_type": "markdown",
   "metadata": {},
   "source": [
    "</div>\n",
    "\n",
    "2. given the following text: \n",
    "     1. Count how many times each word appear (use a dictionary)\n",
    "     2. how many \"di\" appears?\n",
    "     3. put in a dictionary all the indexes of the occurrences of the following three characters: è, d, i (i.e. the key of the dictionary is the sequence and the value is the list of all positions at which the four-mers appear).\n",
    "\n",
    "```\n",
    "text = \"\"\"Sono in tutto quattro, affidate a personaggi molto diversi tra loro e riguardanti aspetti diversi\n",
    "della vicenda biografica di Dante; come anche quelle del Purgatorio, hanno in comune il carattere poco chiaro \n",
    "e oscuro, che renderà necessaria la chiosa di Cacciaguida nel Canto XVII del Paradiso.\n",
    "La prima è quella di Ciacco (VI), che risponde alle domande di Dante sul destino politico di Firenze e spiega \n",
    "che Bianchi e Neri si combatteranno, coi Bianchi che dapprima prevarranno ma poi saranno cacciati dai Neri di \n",
    "lì a pochi anni, alludendo al colpo di mano operato da Carlo di Valois che rovescerà i Bianchi nel 1301 e \n",
    "provocherà indirettamente l'esilio di Dante. La seconda, più diretta, è affidata a Farinata Degli Uberti (X), \n",
    "che profetizza a Dante non l'esilio in sé ma la sconfitta nella battaglia della Lastra che nel 1304 impedirà \n",
    "definitivamente ai fuoriusciti fiorentini di rientrare in città (quindi Dante saprà quanto pesa l'arte di non \n",
    "poter tornare, come accadde ai Ghibellini del tempo del dannato). La terza è messa in bocca a Brunetto Latini \n",
    "(XV), l'ex-maestro di Dante che parla in tono più affettuoso ma non meno oscuro, predicendo che le sue buone \n",
    "azioni gli procureranno l'invidia e l'ostilità dei fiorentini, Bianchi e Neri, ma lui sarà lontano e non potrà \n",
    "subire la loro irosa vendetta. Infine quella di Vanni Fucci (XXIV), la più enigmatica di tutte, che allude \n",
    "alla presa di Pistoia (ultima roccaforte dei Bianchi) da parte del signore di Lunigiana Moroello Malaspina, \n",
    "paragonato a un fulmine avvolto da nere nubi che scatenerà una tempesta sul territorio pistoiese, tale da \n",
    "squarciare le nubi e colpire ogni Guelfo Bianco; Moroello sarà evocato, secondo Vanni, da Marte, dio della \n",
    "guerra nonché primo protettore della città di Firenze (il suicida del finale del Canto XIII aveva detto che il \n",
    "dio pagano, per questo, avrebbe sempre rattristato i fiorentini con la sua arte, cioè la guerra).\n",
    "\"\"\"\n",
    "```"
   ]
  },
  {
   "cell_type": "markdown",
   "metadata": {},
   "source": [
    "output\n",
    "\n",
    "```\n",
    "'di' apperars: 17\n",
    "{'è': [297, 676, 1003, 1858],\n",
    " 'd': [26,  50,  75,  89,  96, ...]\n",
    " 'i': [...]\n",
    "```"
   ]
  },
  {
   "cell_type": "markdown",
   "metadata": {},
   "source": [
    "<div class=\"tggle\" onclick=\"toggleVisibility('ex2-sc2');\">Show/Hide Solution</div>\n",
    "<div id=\"ex2-sc2\" style=\"display:none;\">"
   ]
  },
  {
   "cell_type": "code",
   "execution_count": 4,
   "metadata": {},
   "outputs": [
    {
     "name": "stdout",
     "output_type": "stream",
     "text": [
      "'di' apperars: 16\n"
     ]
    },
    {
     "data": {
      "text/plain": [
       "{'è': [296, 672, 996, 1843],\n",
       " 'd': [26,\n",
       "  50,\n",
       "  75,\n",
       "  89,\n",
       "  96,\n",
       "  107,\n",
       "  121,\n",
       "  124,\n",
       "  148,\n",
       "  219,\n",
       "  245,\n",
       "  257,\n",
       "  275,\n",
       "  283,\n",
       "  305,\n",
       "  328,\n",
       "  336,\n",
       "  341,\n",
       "  344,\n",
       "  347,\n",
       "  357,\n",
       "  374,\n",
       "  445,\n",
       "  490,\n",
       "  499,\n",
       "  521,\n",
       "  524,\n",
       "  536,\n",
       "  552,\n",
       "  561,\n",
       "  618,\n",
       "  640,\n",
       "  643,\n",
       "  657,\n",
       "  664,\n",
       "  678,\n",
       "  694,\n",
       "  725,\n",
       "  782,\n",
       "  812,\n",
       "  816,\n",
       "  858,\n",
       "  884,\n",
       "  887,\n",
       "  918,\n",
       "  947,\n",
       "  948,\n",
       "  965,\n",
       "  975,\n",
       "  979,\n",
       "  1046,\n",
       "  1049,\n",
       "  1110,\n",
       "  1115,\n",
       "  1164,\n",
       "  1181,\n",
       "  1266,\n",
       "  1286,\n",
       "  1324,\n",
       "  1341,\n",
       "  1354,\n",
       "  1383,\n",
       "  1395,\n",
       "  1404,\n",
       "  1416,\n",
       "  1479,\n",
       "  1549,\n",
       "  1626,\n",
       "  1635,\n",
       "  1644,\n",
       "  1648,\n",
       "  1684,\n",
       "  1696,\n",
       "  1715,\n",
       "  1718,\n",
       "  1729,\n",
       "  1750,\n",
       "  1762],\n",
       " 'i': [5,\n",
       "  25,\n",
       "  42,\n",
       "  51,\n",
       "  56,\n",
       "  70,\n",
       "  79,\n",
       "  87,\n",
       "  90,\n",
       "  95,\n",
       "  103,\n",
       "  111,\n",
       "  117,\n",
       "  122,\n",
       "  160,\n",
       "  169,\n",
       "  179,\n",
       "  199,\n",
       "  232,\n",
       "  240,\n",
       "  246,\n",
       "  252,\n",
       "  256,\n",
       "  272,\n",
       "  273,\n",
       "  284,\n",
       "  292,\n",
       "  306,\n",
       "  309,\n",
       "  316,\n",
       "  323,\n",
       "  345,\n",
       "  361,\n",
       "  368,\n",
       "  370,\n",
       "  375,\n",
       "  378,\n",
       "  389,\n",
       "  398,\n",
       "  403,\n",
       "  410,\n",
       "  413,\n",
       "  431,\n",
       "  434,\n",
       "  439,\n",
       "  450,\n",
       "  471,\n",
       "  485,\n",
       "  488,\n",
       "  492,\n",
       "  497,\n",
       "  500,\n",
       "  510,\n",
       "  515,\n",
       "  537,\n",
       "  562,\n",
       "  568,\n",
       "  585,\n",
       "  588,\n",
       "  593,\n",
       "  616,\n",
       "  619,\n",
       "  635,\n",
       "  637,\n",
       "  641,\n",
       "  661,\n",
       "  665,\n",
       "  677,\n",
       "  688,\n",
       "  698,\n",
       "  705,\n",
       "  718,\n",
       "  739,\n",
       "  741,\n",
       "  744,\n",
       "  761,\n",
       "  779,\n",
       "  808,\n",
       "  813,\n",
       "  819,\n",
       "  821,\n",
       "  823,\n",
       "  833,\n",
       "  839,\n",
       "  843,\n",
       "  845,\n",
       "  848,\n",
       "  854,\n",
       "  856,\n",
       "  859,\n",
       "  862,\n",
       "  871,\n",
       "  875,\n",
       "  882,\n",
       "  885,\n",
       "  919,\n",
       "  952,\n",
       "  956,\n",
       "  961,\n",
       "  963,\n",
       "  1004,\n",
       "  1027,\n",
       "  1029,\n",
       "  1047,\n",
       "  1065,\n",
       "  1074,\n",
       "  1111,\n",
       "  1136,\n",
       "  1139,\n",
       "  1143,\n",
       "  1160,\n",
       "  1163,\n",
       "  1165,\n",
       "  1175,\n",
       "  1177,\n",
       "  1183,\n",
       "  1186,\n",
       "  1192,\n",
       "  1194,\n",
       "  1197,\n",
       "  1202,\n",
       "  1209,\n",
       "  1216,\n",
       "  1245,\n",
       "  1257,\n",
       "  1272,\n",
       "  1275,\n",
       "  1287,\n",
       "  1293,\n",
       "  1299,\n",
       "  1303,\n",
       "  1310,\n",
       "  1315,\n",
       "  1320,\n",
       "  1325,\n",
       "  1355,\n",
       "  1358,\n",
       "  1362,\n",
       "  1368,\n",
       "  1385,\n",
       "  1388,\n",
       "  1393,\n",
       "  1409,\n",
       "  1417,\n",
       "  1422,\n",
       "  1424,\n",
       "  1444,\n",
       "  1467,\n",
       "  1490,\n",
       "  1527,\n",
       "  1531,\n",
       "  1535,\n",
       "  1539,\n",
       "  1557,\n",
       "  1568,\n",
       "  1576,\n",
       "  1583,\n",
       "  1593,\n",
       "  1633,\n",
       "  1645,\n",
       "  1669,\n",
       "  1691,\n",
       "  1697,\n",
       "  1700,\n",
       "  1707,\n",
       "  1712,\n",
       "  1714,\n",
       "  1723,\n",
       "  1740,\n",
       "  1741,\n",
       "  1742,\n",
       "  1760,\n",
       "  1763,\n",
       "  1804,\n",
       "  1811,\n",
       "  1814,\n",
       "  1820,\n",
       "  1822,\n",
       "  1841]}"
      ]
     },
     "execution_count": 4,
     "metadata": {},
     "output_type": "execute_result"
    }
   ],
   "source": [
    "\n",
    "text = \"\"\"Sono in tutto quattro, affidate a personaggi molto diversi tra loro e riguardanti aspetti diversi\n",
    "della vicenda biografica di Dante; come anche quelle del Purgatorio, hanno in comune il carattere poco chiaro\n",
    "e oscuro, che renderà necessaria la chiosa di Cacciaguida nel Canto XVII del Paradiso.\n",
    "La prima è quella di Ciacco (VI), che risponde alle domande di Dante sul destino politico di Firenze e spiega\n",
    "che Bianchi e Neri si combatteranno, coi Bianchi che dapprima prevarranno ma poi saranno cacciati dai Neri di\n",
    "lì a pochi anni, alludendo al colpo di mano operato da Carlo di Valois che rovescerà i Bianchi nel 1301 e\n",
    "provocherà indirettamente l'esilio di Dante. La seconda, più diretta, è affidata a Farinata Degli Uberti (X),\n",
    "che profetizza a Dante non l'esilio in sé ma la sconfitta nella battaglia della Lastra che nel 1304 impedirà\n",
    "definitivamente ai fuoriusciti fiorentini di rientrare in città (quindi Dante saprà quanto pesa l'arte di non\n",
    "poter tornare, come accadde ai Ghibellini del tempo del dannato). La terza è messa in bocca a Brunetto Latini\n",
    "(XV), l'ex-maestro di Dante che parla in tono più affettuoso ma non meno oscuro, predicendo che le sue buone\n",
    "azioni gli procureranno l'invidia e l'ostilità dei fiorentini, Bianchi e Neri, ma lui sarà lontano e non potrà\n",
    "subire la loro irosa vendetta. Infine quella di Vanni Fucci (XXIV), la più enigmatica di tutte, che allude\n",
    "alla presa di Pistoia (ultima roccaforte dei Bianchi) da parte del signore di Lunigiana Moroello Malaspina,\n",
    "paragonato a un fulmine avvolto da nere nubi che scatenerà una tempesta sul territorio pistoiese, tale da\n",
    "squarciare le nubi e colpire ogni Guelfo Bianco; Moroello sarà evocato, secondo Vanni, da Marte, dio della\n",
    "guerra nonché primo protettore della città di Firenze (il suicida del finale del Canto XIII aveva detto che il\n",
    "dio pagano, per questo, avrebbe sempre rattristato i fiorentini con la sua arte, cioè la guerra).\n",
    "\"\"\"\n",
    "\n",
    "text = text.replace(\"\\n\",\"\")\n",
    "text = text.replace(\",\",\"\")\n",
    "text = text.replace(\";\",\"\")\n",
    "text = text.replace(\":\",\"\")\n",
    "text = text.replace(\".\",\"\")\n",
    "text = text.replace(\"(\",\"\")\n",
    "text = text.replace(\")\",\"\")\n",
    "text = text.lower()\n",
    "\n",
    "word = dict()\n",
    "\n",
    "for w in text.split(\" \"):\n",
    "    if w in word:\n",
    "        word[w] += 1\n",
    "    else:\n",
    "        word[w] = 1\n",
    "\n",
    "\n",
    "print(\"'di' apperars:\",word[\"di\"])\n",
    "\n",
    "\n",
    "count = {\"è\":[], \"d\":[], \"i\":[]}\n",
    "\n",
    "current_position = 0\n",
    "for w in text:\n",
    "    if w in count:\n",
    "        count[w].append(current_position)\n",
    "    current_position += 1\n",
    "count"
   ]
  },
  {
   "cell_type": "markdown",
   "metadata": {},
   "source": [
    "</div>\n",
    "\n",
    "\n",
    "\n",
    "3. Given the string \"nOBody Said iT was eAsy, No oNe Ever saId it WoulD be tHis hArd…\"\n",
    "    1. Create a list with all the letters that are capitalized (use str.isupper)\n",
    "    2. Print the list\n",
    "    3. Use the string method **join** to concatenate all the letters in a string, using \"\\*\" as separator.\n",
    "    The syntax of join is str.join(list) and it outputs a string with all the elements in list joined with the character in str (es. \"+\".join([1,2,3]) returns \"1+2+3\"). \n",
    "    \n",
    "The expected output:\n"
   ]
  },
  {
   "cell_type": "markdown",
   "metadata": {},
   "source": [
    "```\n",
    "['O', 'B', 'S', 'T', 'A', 'N', 'N', 'E', 'I', 'W', 'D', 'H', 'A']\n",
    "O*B*S*T*A*N*N*E*I*W*D*H*A\n",
    "```"
   ]
  },
  {
   "cell_type": "markdown",
   "metadata": {},
   "source": [
    "<div class=\"tggle\" onclick=\"toggleVisibility('ex2');\">Show/Hide Solution</div>\n",
    "<div id=\"ex2\" style=\"display:none;\">"
   ]
  },
  {
   "cell_type": "code",
   "execution_count": 44,
   "metadata": {},
   "outputs": [
    {
     "name": "stdout",
     "output_type": "stream",
     "text": [
      "['O', 'B', 'S', 'T', 'A', 'N', 'N', 'E', 'I', 'W', 'D', 'H', 'A']\n",
      "O*B*S*T*A*N*N*E*I*W*D*H*A\n"
     ]
    }
   ],
   "source": [
    "text = \"nOBody Said iT was eAsy, No oNe Ever saId it WoulD be tHis hArd…\"\n",
    "initials = [x for x in text if x.isupper()]\n",
    "\n",
    "print(initials)\n",
    "print(\"*\".join(initials))"
   ]
  },
  {
   "cell_type": "markdown",
   "metadata": {},
   "source": [
    "</div>\n",
    "\n",
    "5. Given the following list of animal correlations:\n",
    "```\n",
    "animalCorr = [[\"dog\", \"cow\", 0.2], [\"dog\", \"wolf\", 0.9], \n",
    "[\"cat\", \"tiger\", 0.8],[\"dog\", \"cat\",0.4], [\"cat\", \"lynx\",0.76]]\n",
    "```\n",
    "where each sublist [\"animal 1\", \"animal 2\", corr] represents a correlation between *animal1* and *animal2* with correlation *corr*, create another list containing only the elements having an high correlation (i.e. > 0.75). Print this list."
   ]
  },
  {
   "cell_type": "markdown",
   "metadata": {},
   "source": [
    "Expected result:\n",
    "```\n",
    "[['dog', 'wolf', 0.9], ['cat', 'tiger', 0.8], ['cat', 'lynx', 0.76]]\n",
    "```"
   ]
  },
  {
   "cell_type": "markdown",
   "metadata": {},
   "source": [
    "<div class=\"tggle\" onclick=\"toggleVisibility('ex3');\">Show/Hide Solution</div>\n",
    "<div id=\"ex3\" style=\"display:none;\">"
   ]
  },
  {
   "cell_type": "code",
   "execution_count": 46,
   "metadata": {},
   "outputs": [
    {
     "name": "stdout",
     "output_type": "stream",
     "text": [
      "[['dog', 'cow', 0.2], ['dog', 'wolf', 0.9], ['cat', 'tiger', 0.8], ['dog', 'cat', 0.4], ['cat', 'lynx', 0.76]] \n",
      "\n",
      "[['dog', 'wolf', 0.9], ['cat', 'tiger', 0.8], ['cat', 'lynx', 0.76]]\n"
     ]
    }
   ],
   "source": [
    "animalCorr = [[\"dog\", \"cow\", 0.2], [\"dog\", \"wolf\", 0.9], \n",
    "[\"cat\", \"tiger\", 0.8],[\"dog\", \"cat\",0.4], [\"cat\", \"lynx\",0.76]]\n",
    "\n",
    "highlyCorr = [x for x in animalCorr if x[2] > 0.75]\n",
    "\n",
    "print(animalCorr, \"\\n\")\n",
    "print(highlyCorr)"
   ]
  },
  {
   "cell_type": "markdown",
   "metadata": {},
   "source": [
    "</div>\n",
    "6. You are given a list of covid deaths and cases for some countries, download the [file here](https://drive.google.com/file/d/1gXYblEtUd2rCdyeG4oVfpEyCZi6x7Tt0/view?usp=sharing):\n",
    "\n",
    "load it with:\n",
    "\n",
    "```\n",
    "data = []\n",
    "f = open(\"Covid_simple.csv\", \"r\")\n",
    "data = f.readlines()\n",
    "f.close()\n",
    "```\n",
    "In the first row you have the header, other lines are the data, like:\n",
    "\n",
    "```\n",
    "Country,Total_cases,Total_Deaths,Population\n",
    "USA,\"98,166,904\",\"1,084,282\",\"334,805,269\"\n",
    "India,\"44,587,307\",\"528,629\",\"1,406,631,776\"\n",
    "France,\"35,342,950\",\"155,078\",\"65,584,518\"\n",
    "Brazil,\"34,706,757\",\"686,027\",\"215,353,593\"\n",
    "Germany,\"33,312,373\",\"149,948\",\"83,883,596\"\n",
    "S. Korea,\"24,769,101\",\"28,406\",\"51,329,899\"\n",
    "UK,\"23,621,952\",\"189,919\",\"68,497,907\"\n",
    "......\n",
    "```\n",
    "Create a dictionary with key the country, and as values a list containing total_cases, total deaths and the population.  \n",
    "**pay attention, numbers are not in a good format (there is a , in the number, fix it before converting it into a integer)**\n",
    "\n",
    "Qurery the number of deaths in Italy, and print it.  \n",
    "Print the percentage of total cases over the population for 5 random countries.  \n",
    "Print the precentage of total deaths over the population for 5 random countires.\n",
    "\n",
    "\n",
    "<div class=\"tggle\" onclick=\"toggleVisibility('ex6');\">Show/Hide Solution</div>\n",
    "<div id=\"ex6\" style=\"display:none;\">"
   ]
  },
  {
   "cell_type": "code",
   "execution_count": 72,
   "metadata": {},
   "outputs": [
    {
     "name": "stdout",
     "output_type": "stream",
     "text": [
      "Italy [22432803, 177054, 60262770]\n",
      "Kazakhstan 0.07255740067856135 0.0007128336031322607\n",
      "Finland 0.23275415124501347 0.0010766954217492114\n",
      "Morocco 0.03348802507288587 0.00043094552062867745\n",
      "Bulgaria 0.18389249213649833 0.005510039524606051\n",
      "Lithuania 0.46929790946264577 0.003501511059815727\n"
     ]
    }
   ],
   "source": [
    "data = []\n",
    "f = open(\"Covid_simple.csv\", \"r\")\n",
    "data = f.readlines()\n",
    "f.close()\n",
    "\n",
    "\n",
    "data_dict = dict()\n",
    "for row in data[1:]:\n",
    "    row_clean = row.rstrip(\"\\n\").split(\"\\\"\")\n",
    "    tmp = [row_clean[0][:-1],row_clean[1],row_clean[3],row_clean[5]]\n",
    "    tot_cases = int(tmp[1].replace(\",\",\"\"))\n",
    "    tot_deaths = int(tmp[2].replace(\",\",\"\"))\n",
    "    pop = int(tmp[3].replace(\",\",\"\"))\n",
    "    data_dict[tmp[0]] = [tot_cases,tot_deaths,pop]   \n",
    "\n",
    "print(\"Italy\",data_dict[\"Italy\"])\n",
    "\n",
    "countries = ['Kazakhstan', 'Finland', 'Morocco', 'Bulgaria', 'Lithuania']\n",
    "for key in countries:\n",
    "    print(key, data_dict[key][0]/data_dict[key][-1],data_dict[key][1]/data_dict[key][-1])"
   ]
  },
  {
   "cell_type": "markdown",
   "metadata": {},
   "source": [
    "</div>\n",
    "\n",
    "### Module 1 – Self Test\n",
    "\n",
    "Great job getting this far! \n",
    "You’ve already learned **variables**, **numbers**, **strings**, **lists**, **tuples**, **sets**, **conditionals**, **loops**, and **dictionaries**.  \n",
    "That’s an impressive foundation — with this knowledge, you’re ready to tackle **half of the Module 1 exam**!\n",
    "\n",
    "Below, you’ll find a **practice exercise** inspired by the real exam.\n",
    "\n",
    "If you’ve followed the lessons and completed the exercises, you’ve got everything you need to solve it.  \n",
    "Treat this as your **personal challenge** — a way to prove to yourself how much you’ve learned! \n",
    "\n",
    "Let’s see what you can do. Ready? Go! \n",
    "\n",
    "1. Communication Analysis with Dictionaries\n",
    "\n",
    "In this exercise, you will analyze communication data between users using **Python dictionaries**.  \n",
    "You are provided with two datasets:\n",
    "- A list of **calls** between users (with timestamps, caller, callee, and duration).  \n",
    "- A list of **SMS messages** between users (with timestamps, sender, and recipient).\n",
    "\n",
    "Your goal is to process this information using **nested dictionaries** that efficiently store and retrieve relationships between users.\n",
    "\n",
    "\n",
    "**Part 1: Call Analysis**\n",
    "\n",
    "Using the provided `calls` dataset:\n",
    "\n",
    "- **Find the longest call** between two users.  \n",
    "   - Ignore negative or zero durations.  \n",
    "   - Return the pair `(caller, callee)` and the corresponding `duration`.\n",
    "\n",
    "- **Aggregate total call durations** for each unique pair `(caller, callee)`.  \n",
    "   - Example: if user A calls user B three times with durations 10, 20, and 30 seconds,  \n",
    "     your output should contain `(A, B): 60`.  \n",
    "   - Use a dictionary where the key is a tuple `(caller, callee)` and the value is the total duration.\n",
    "\n",
    "\n",
    "**Part 2: SMS Cross-Interaction**\n",
    "\n",
    "Using the provided `sms` dataset:\n",
    "\n",
    "- **Identify user pairs who both call and text each other.**  \n",
    "   - A valid pair is one where user A calls user B *and* at least one SMS is exchanged between A and B (in either direction).  \n",
    "   - Output all such pairs in any convenient format, e.g., a list of tuples.\n",
    "\n",
    "\n",
    "**Hints**\n",
    "\n",
    "- Use **dictionaries of dictionaries** to represent relationships efficiently:\n",
    "  ```python\n",
    "  calls_dict[(caller, callee)] = total_duration\n",
    "  sms_pairs = {(sender, recipient), ...}\n",
    "\n",
    "```\n",
    "calls = \"\"\"timestamp,caller,callee,duration\n",
    "184,300,301,121\n",
    "3920,512,299,670\n",
    "5623,301,300,504\n",
    "9252,401,457,-1\n",
    "15466,512,0,5\n",
    "15497,512,0,28\n",
    "26400,19,47,619\n",
    "31312,687,310,11\n",
    "36265,300,301,74\n",
    "37049,634,681,20\n",
    "37663,466,183,2\n",
    "37760,225,574,5\n",
    "38151,584,582,0\n",
    "38192,584,582,28\n",
    "38277,466,183,3\n",
    "38892,584,582,11\n",
    "40020,466,42,55\n",
    "40307,480,210,0\n",
    "46698,267,269,0\n",
    "46716,269,267,112\n",
    "47697,678,470,18\n",
    "48457,222,471,9\n",
    "48684,222,471,2\n",
    "48810,222,471,201\n",
    "48972,152,405,110\n",
    "49704,471,222,38\n",
    "50727,289,578,5\n",
    "50766,289,578,4\n",
    "51682,289,578,1\n",
    "53004,90,91,111\n",
    "55017,269,267,67\n",
    "55162,267,269,9\n",
    "55423,669,283,83\n",
    "56687,289,578,2\n",
    "57599,42,466,45\n",
    "58643,139,546,743\n",
    "58753,139,546,743\n",
    "60310,474,639,169\n",
    "61083,289,578,2\n",
    "61919,19,47,74\"\"\"\n",
    "```\n",
    "\n",
    "```\n",
    "sms = \"\"\"timestamp,sender,recipient\n",
    "18,370,512\n",
    "37,512,370\n",
    "126,370,512\n",
    "134,0,512\n",
    "312,137,136\n",
    "353,278,335\n",
    "389,136,137\n",
    "451,137,136\n",
    "571,512,370\n",
    "591,370,512\n",
    "637,512,370\n",
    "643,512,0\n",
    "668,136,137\n",
    "673,370,512\n",
    "697,370,512\n",
    "829,137,136\n",
    "1147,512,370\n",
    "1230,370,512\n",
    "1448,370,512\n",
    "1798,512,370\n",
    "2179,299,237\n",
    "2499,0,512\n",
    "2578,663,519\n",
    "2795,512,0\n",
    "2970,0,512\n",
    "3348,512,0\n",
    "3354,512,299\n",
    "3385,299,512\n",
    "3464,0,512\n",
    "3488,512,299\n",
    "3517,512,0\n",
    "3521,299,512\n",
    "3549,512,299\n",
    "3581,299,512\n",
    "3629,0,512\n",
    "3918,512,299\n",
    "4602,0,512\n",
    "4711,512,0\n",
    "4720,512,0\n",
    "4789,512,0\n",
    "4832,0,512\n",
    "4918,512,0\n",
    "4940,0,512\n",
    "5131,0,512\n",
    "5307,370,512\n",
    "5344,370,512\n",
    "5388,512,0\n",
    "5455,512,370\n",
    "5508,370,512\n",
    "5608,300,301\n",
    "5882,512,0\n",
    "5888,512,0\n",
    "5915,0,512\"\"\"\n",
    "```\n",
    "\n",
    "    \n",
    "<div class=\"tggle\" onclick=\"toggleVisibility('exdif1');\">Show/Hide Solution</div>\n",
    "<div id=\"exdif1\" style=\"display:none;\">"
   ]
  },
  {
   "cell_type": "code",
   "execution_count": null,
   "metadata": {},
   "outputs": [
    {
     "name": "stdout",
     "output_type": "stream",
     "text": [
      "EX1: Find the longest call between two users\n",
      "Longest call 139 546 743\n",
      "EX2: Find the longest call between two users.\n",
      "The longest call is between users (139, 546) with length 743\n",
      "EX3: Identify user pairs who both call and text each other\n",
      "[(512, 0), (512, 299), (300, 301)]\n"
     ]
    }
   ],
   "source": [
    "calls = \"\"\"timestamp,caller,callee,duration\n",
    "184,300,301,121\n",
    "3920,512,299,670\n",
    "5623,301,300,504\n",
    "9252,401,457,-1\n",
    "15466,512,0,5\n",
    "15497,512,0,28\n",
    "26400,19,47,619\n",
    "31312,687,310,11\n",
    "36265,300,301,74\n",
    "37049,634,681,20\n",
    "37663,466,183,2\n",
    "37760,225,574,5\n",
    "38151,584,582,0\n",
    "38192,584,582,28\n",
    "38277,466,183,3\n",
    "38892,584,582,11\n",
    "40020,466,42,55\n",
    "40307,480,210,0\n",
    "46698,267,269,0\n",
    "46716,269,267,112\n",
    "47697,678,470,18\n",
    "48457,222,471,9\n",
    "48684,222,471,2\n",
    "48810,222,471,201\n",
    "48972,152,405,110\n",
    "49704,471,222,38\n",
    "50727,289,578,5\n",
    "50766,289,578,4\n",
    "51682,289,578,1\n",
    "53004,90,91,111\n",
    "55017,269,267,67\n",
    "55162,267,269,9\n",
    "55423,669,283,83\n",
    "56687,289,578,2\n",
    "57599,42,466,45\n",
    "58643,139,546,743\n",
    "60310,474,639,169\n",
    "61083,289,578,2\n",
    "61919,19,47,74\"\"\"\n",
    "sms = \"\"\"timestamp,sender,recipient\n",
    "18,370,512\n",
    "37,512,370\n",
    "126,370,512\n",
    "134,0,512\n",
    "312,137,136\n",
    "353,278,335\n",
    "389,136,137\n",
    "451,137,136\n",
    "571,512,370\n",
    "591,370,512\n",
    "637,512,370\n",
    "643,512,0\n",
    "668,136,137\n",
    "673,370,512\n",
    "697,370,512\n",
    "829,137,136\n",
    "1147,512,370\n",
    "1230,370,512\n",
    "1448,370,512\n",
    "1798,512,370\n",
    "2179,299,237\n",
    "2499,0,512\n",
    "2578,663,519\n",
    "2795,512,0\n",
    "2970,0,512\n",
    "3348,512,0\n",
    "3354,512,299\n",
    "3385,299,512\n",
    "3464,0,512\n",
    "3488,512,299\n",
    "3517,512,0\n",
    "3521,299,512\n",
    "3549,512,299\n",
    "3581,299,512\n",
    "3629,0,512\n",
    "3918,512,299\n",
    "4602,0,512\n",
    "4711,512,0\n",
    "4720,512,0\n",
    "4789,512,0\n",
    "4832,0,512\n",
    "4918,512,0\n",
    "4940,0,512\n",
    "5131,0,512\n",
    "5307,370,512\n",
    "5344,370,512\n",
    "5388,512,0\n",
    "5455,512,370\n",
    "5508,370,512\n",
    "5608,300,301\n",
    "5882,512,0\n",
    "5888,512,0\n",
    "5915,0,512\"\"\"\n",
    "\n",
    "\n",
    "calls = calls.split(\"\\n\")[1:]\n",
    " \n",
    "\n",
    "max_call = 0\n",
    "id_A = None\n",
    "id_B = None\n",
    "for row in calls:\n",
    "    timestamp, caller, callee, dur = row.split(\",\")\n",
    "    \n",
    "    if int(dur)>max_call:\n",
    "        id_A = int(caller)\n",
    "        id_B = int(callee)\n",
    "        max_call = int(dur)\n",
    "        \n",
    "        \n",
    "print(\"EX1: Find the longest call between two users\")\n",
    "print(\"Longest call\",id_A,id_B,max_call)\n",
    "        \n",
    "dict_calls = dict()\n",
    "for row in calls:\n",
    "    timestamp, caller, callee, dur = row.split(\",\")\n",
    "    \n",
    "    key = (int(caller),int(callee))\n",
    "    if key in dict_calls:\n",
    "        dict_calls[key] += int(dur)\n",
    "    else:\n",
    "        dict_calls[key] = int(dur)   \n",
    "        \n",
    "max_length = 0\n",
    "for i,j in dict_calls.items():\n",
    "    if j > max_length:\n",
    "        max_length = j\n",
    "        user_pair = i\n",
    "\n",
    "print(\"EX2: Find the longest call between two users.\")\n",
    "print(\"The longest call is between users\", user_pair, \"with length\", max_length)\n",
    "\n",
    "sms = sms.split(\"\\n\")[1:]\n",
    "common_users = []\n",
    "for row in sms:\n",
    "    \n",
    "    timestamp,sender,recipient = row.split(\",\")\n",
    "    key = (int(sender),int(recipient))\n",
    "    if key in dict_calls:\n",
    "        if key not in common_users:\n",
    "            common_users.append(key)\n",
    "print(\"EX3: Identify user pairs who both call and text each other\")   \n",
    "print(common_users)"
   ]
  },
  {
   "cell_type": "markdown",
   "metadata": {},
   "source": [
    "</div>\n",
    "Below, you can find a smarter and cleaner solution!\n",
    "Can you spot the differences between the first and the second version?\n",
    "\n",
    "\n",
    "<div class=\"tggle\" onclick=\"toggleVisibility('exdif1_1');\">Show/Hide Solution</div>\n",
    "<div id=\"exdif1_1\" style=\"display:none;\">"
   ]
  },
  {
   "cell_type": "code",
   "execution_count": null,
   "metadata": {},
   "outputs": [
    {
     "name": "stdout",
     "output_type": "stream",
     "text": [
      "EX1: Find the longest single call\n",
      "Longest call: 139 546 743\n",
      "\n",
      "EX2: Find the pair with the longest total call duration\n",
      "The longest total call is between users (139, 546) with length 743\n",
      "\n",
      "EX3: Identify user pairs who both call and text each other\n",
      "[(0, 512), (512, 299), (300, 301)]\n"
     ]
    }
   ],
   "source": [
    "calls = \"\"\"timestamp,caller,callee,duration\n",
    "184,300,301,121\n",
    "3920,512,299,670\n",
    "5623,301,300,504\n",
    "9252,401,457,-1\n",
    "15466,512,0,5\n",
    "15497,512,0,28\n",
    "26400,19,47,619\n",
    "31312,687,310,11\n",
    "36265,300,301,74\n",
    "37049,634,681,20\n",
    "37663,466,183,2\n",
    "37760,225,574,5\n",
    "38151,584,582,0\n",
    "38192,584,582,28\n",
    "38277,466,183,3\n",
    "38892,584,582,11\n",
    "40020,466,42,55\n",
    "40307,480,210,0\n",
    "46698,267,269,0\n",
    "46716,269,267,112\n",
    "47697,678,470,18\n",
    "48457,222,471,9\n",
    "48684,222,471,2\n",
    "48810,222,471,201\n",
    "48972,152,405,110\n",
    "49704,471,222,38\n",
    "50727,289,578,5\n",
    "50766,289,578,4\n",
    "51682,289,578,1\n",
    "53004,90,91,111\n",
    "55017,269,267,67\n",
    "55162,267,269,9\n",
    "55423,669,283,83\n",
    "56687,289,578,2\n",
    "57599,42,466,45\n",
    "58643,139,546,743\n",
    "60310,474,639,169\n",
    "61083,289,578,2\n",
    "61919,19,47,74\"\"\"\n",
    "\n",
    "sms = \"\"\"timestamp,sender,recipient\n",
    "18,370,512\n",
    "37,512,370\n",
    "126,370,512\n",
    "134,0,512\n",
    "312,137,136\n",
    "353,278,335\n",
    "389,136,137\n",
    "451,137,136\n",
    "571,512,370\n",
    "591,370,512\n",
    "637,512,370\n",
    "643,512,0\n",
    "668,136,137\n",
    "673,370,512\n",
    "697,370,512\n",
    "829,137,136\n",
    "1147,512,370\n",
    "1230,370,512\n",
    "1448,370,512\n",
    "1798,512,370\n",
    "2179,299,237\n",
    "2499,0,512\n",
    "2578,663,519\n",
    "2795,512,0\n",
    "2970,0,512\n",
    "3348,512,0\n",
    "3354,512,299\n",
    "3385,299,512\n",
    "3464,0,512\n",
    "3488,512,299\n",
    "3517,512,0\n",
    "3521,299,512\n",
    "3549,512,299\n",
    "3581,299,512\n",
    "3629,0,512\n",
    "3918,512,299\n",
    "4602,0,512\n",
    "4711,512,0\n",
    "4720,512,0\n",
    "4789,512,0\n",
    "4832,0,512\n",
    "4918,512,0\n",
    "4940,0,512\n",
    "5131,0,512\n",
    "5307,370,512\n",
    "5344,370,512\n",
    "5388,512,0\n",
    "5455,512,370\n",
    "5508,370,512\n",
    "5608,300,301\n",
    "5882,512,0\n",
    "5888,512,0\n",
    "5915,0,512\"\"\"\n",
    "\n",
    "# Clean and split\n",
    "calls = [row for row in calls.split(\"\\n\")[1:] if row.strip()]\n",
    "sms = [row for row in sms.split(\"\\n\")[1:] if row.strip()]\n",
    "\n",
    "# EX1 – Longest single call\n",
    "max_call = 0\n",
    "id_A = id_B = None\n",
    "\n",
    "for row in calls:\n",
    "    timestamp, caller, callee, dur = row.split(\",\")\n",
    "    dur = int(dur)\n",
    "    if dur <= 0:\n",
    "        continue\n",
    "    if dur > max_call:\n",
    "        max_call = dur\n",
    "        id_A, id_B = int(caller), int(callee)\n",
    "\n",
    "print(\"EX1: Find the longest single call\")\n",
    "print(\"Longest call:\", id_A, id_B, max_call)\n",
    "\n",
    "# EX2 – Longest total call time between a pair\n",
    "dict_calls = {}\n",
    "for row in calls:\n",
    "    timestamp, caller, callee, dur = row.split(\",\")\n",
    "    dur = int(dur)\n",
    "    if dur <= 0:\n",
    "        continue\n",
    "    key = (int(caller), int(callee))\n",
    "    dict_calls[key] = dict_calls.get(key, 0) + dur\n",
    "\n",
    "max_length = 0\n",
    "user_pair = None\n",
    "for pair, total in dict_calls.items():\n",
    "    if total > max_length:\n",
    "        max_length = total\n",
    "        user_pair = pair\n",
    "\n",
    "print(\"\\nEX2: Find the pair with the longest total call duration\")\n",
    "print(\"The longest total call is between users\", user_pair, \"with length\", max_length)\n",
    "\n",
    "# EX3 – Identify user pairs who both call and text each other\n",
    "common_users = []\n",
    "for row in sms:\n",
    "    timestamp, sender, recipient = row.split(\",\")\n",
    "    key = (int(sender), int(recipient))\n",
    "    if key in dict_calls or key[::-1] in dict_calls:\n",
    "        if key not in common_users and key[::-1] not in common_users:\n",
    "            common_users.append(key)\n",
    "\n",
    "print(\"\\nEX3: Identify user pairs who both call and text each other\")\n",
    "print(common_users)\n"
   ]
  },
  {
   "cell_type": "markdown",
   "metadata": {},
   "source": [
    "</div>\n",
    "\n",
    "**Keep Practicing!**\n",
    "\n",
    "If you had any trouble solving the previous exercise or don’t feel fully confident yet,  \n",
    "try working on the **“difficult” exercises** from the earlier practical sessions!  \n",
    "By now, you should have all the skills you need to solve them.\n",
    "\n",
    "**P.S.** If you’re still struggling, don’t worry — you can always **ask me for help**,  \n",
    "or visit the **tutor laboratories** to get extra support and clarify any open questions.\n",
    "\n",
    "\n",
    "## Exercises Difficult\n",
    "\n",
    "1. Binary Search\n",
    "\n",
    "You are given a list of integers `nums`, sorted in **ascending order**, and an integer `target`.\n",
    "\n",
    "Your task is to **write a function** that looks for `target` inside `nums`.  \n",
    "If the number is found, return its **index**.  \n",
    "If it’s not found, return **-1**.\n",
    "\n",
    "#### 🧠 How does *binary search* work?\n",
    "\n",
    "Instead of checking every element one by one, binary search uses a **“divide and check”** approach:\n",
    "\n",
    "- Look at the **middle** element of the list.  \n",
    "- If it’s the number you’re looking for → ✅ done!  \n",
    "- If your number is **smaller**, keep searching only in the **left half** of the list.  \n",
    "- If it’s **larger**, keep searching only in the **right half**.  \n",
    "- Repeat until you find the number or there’s nothing left to check.\n",
    "\n",
    "This method is very efficient because it eliminates half of the remaining elements at each step.\n",
    "\n",
    "\n",
    "#### Important rule:\n",
    "You **cannot** use Python’s built-in functions like `.find()` or `.index()`.  \n",
    "You must implement the search **manually** using a loop and comparisons.\n",
    "\n",
    "\n",
    "<div class=\"tggle\" onclick=\"toggleVisibility('ex701');\">Show/Hide Solution</div>\n",
    "<div id=\"ex701\" style=\"display:none;\">"
   ]
  },
  {
   "cell_type": "code",
   "execution_count": 8,
   "metadata": {},
   "outputs": [
    {
     "name": "stdout",
     "output_type": "stream",
     "text": [
      "Target found at index 4\n"
     ]
    }
   ],
   "source": [
    "nums = [-1, 0, 3, 5, 9, 12]\n",
    "target = 9\n",
    "\n",
    "left = 0\n",
    "right = len(nums) - 1\n",
    "found_index = -1\n",
    "\n",
    "while left <= right:\n",
    "    mid = (left + right) // 2\n",
    "    if nums[mid] == target:\n",
    "        found_index = mid\n",
    "        break                     # Stop searching once the value is found\n",
    "    elif nums[mid] < target:\n",
    "        left = mid + 1            # Keep searching in the right half\n",
    "    else:\n",
    "        right = mid - 1           # Keep searching in the left half\n",
    "\n",
    "# After the loop, check the result\n",
    "if found_index != -1:\n",
    "    print(\"Target found at index\", found_index)\n",
    "else:\n",
    "    print(\"Target not found\")\n"
   ]
  },
  {
   "cell_type": "markdown",
   "metadata": {},
   "source": [
    "</div>\n",
    "\n"
   ]
  },
  {
   "cell_type": "code",
   "execution_count": null,
   "metadata": {},
   "outputs": [],
   "source": []
  }
 ],
 "metadata": {
  "celltoolbar": "Edit Metadata",
  "kernelspec": {
   "display_name": "etn",
   "language": "python",
   "name": "python3"
  },
  "language_info": {
   "codemirror_mode": {
    "name": "ipython",
    "version": 3
   },
   "file_extension": ".py",
   "mimetype": "text/x-python",
   "name": "python",
   "nbconvert_exporter": "python",
   "pygments_lexer": "ipython3",
   "version": "3.12.6"
  }
 },
 "nbformat": 4,
 "nbformat_minor": 2
}
