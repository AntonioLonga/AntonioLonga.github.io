{
 "cells": [
  {
   "cell_type": "markdown",
   "metadata": {},
   "source": [
    "# Module 1, Practical 2\n",
    "\n",
    "In this practical we will start interacting more with Python, practicing on how to handle data, functions and methods. We will see several built-in data types and then dive deeper into the data type **string**.\n",
    "\n",
    "## Modules\n",
    "\n",
    "Python modules are simply text files having the extension **.py** (e.g. ```exercise.py```). When you were writing the code in the IDE in the previous practical, you were in fact implementing a **module**. \n",
    "\n",
    "As said in the previous practical, once you implemented and saved the code of the module, you can execute it by typing \n",
    "\n",
    "```python3 exercise1.py```\n",
    "\n",
    "(which **in Windows** might be ```python exercise1.py```, just make sure you are using python 3.x) or, in Visual Studio Code, by right clicking on the code panel and selecting **Run Python File in Terminal**.\n"
   ]
  },
  {
   "cell_type": "markdown",
   "metadata": {},
   "source": [
    "For instance **math** is a module, and it has many functions:\n",
    "\n",
    "1. math.sqrt() -> square root  \n",
    "2. math.cos() -> cosine  \n",
    "3. math.log() -> log (base E)\n",
    "\n",
    "We have to import the module **before** use it, with:"
   ]
  },
  {
   "cell_type": "code",
   "execution_count": 1,
   "metadata": {},
   "outputs": [],
   "source": [
    "import math"
   ]
  },
  {
   "cell_type": "markdown",
   "metadata": {},
   "source": [
    "**let's try** \n",
    "\n",
    "Write a program that compute the square root of 4:"
   ]
  },
  {
   "cell_type": "code",
   "execution_count": 3,
   "metadata": {},
   "outputs": [
    {
     "name": "stdout",
     "output_type": "stream",
     "text": [
      "2.0\n"
     ]
    }
   ],
   "source": [
    "import math\n",
    "\n",
    "res = math.sqrt(4)\n",
    "print(res)"
   ]
  },
  {
   "cell_type": "markdown",
   "metadata": {},
   "source": [
    "**your turn**  \n",
    "1. Take in input a number, print the square root, the log and the cosine.\n",
    "\n",
    "\n",
    "<div class=\"tggle\" onclick=\"toggleVisibility('ex1');\">Show/Hide Solution</div>\n",
    "<div id=\"ex1\" style=\"display:none;\">"
   ]
  },
  {
   "cell_type": "code",
   "execution_count": 5,
   "metadata": {},
   "outputs": [
    {
     "name": "stdout",
     "output_type": "stream",
     "text": [
      "7.0710678118654755 3.912023005428146 0.9649660284921133\n"
     ]
    }
   ],
   "source": [
    "import math\n",
    "\n",
    "input_value = input(\"insert a number \")\n",
    "input_value = int(input_value)\n",
    "\n",
    "sq = math.sqrt(input_value)\n",
    "log = math.log(input_value)\n",
    "cos = math.cos(input_value)\n",
    "\n",
    "print(sq,log,cos)\n"
   ]
  },
  {
   "cell_type": "markdown",
   "metadata": {},
   "source": [
    "</div>\n",
    "\n",
    "2. Why those codes are not working? "
   ]
  },
  {
   "cell_type": "code",
   "execution_count": null,
   "metadata": {},
   "outputs": [],
   "source": [
    "#########################\n",
    "# 1\n",
    "res = math.sqrt(4)\n",
    "import math\n",
    "print(res)\n",
    "\n",
    "#########################\n",
    "# 2\n",
    "import math\n",
    "input_val = input(\"insert a number\")\n",
    "res = math.sqrt(input_val)\n",
    "print(res)"
   ]
  },
  {
   "cell_type": "markdown",
   "metadata": {},
   "source": [
    "<div class=\"alert alert-warning\">\n",
    "    \n",
    "**Note**\n",
    "\n",
    "When importing modules we do not need to specify the extension \".py\" of the file. \n",
    "\n",
    "</div>\n",
    "\n",
    "## Objects\n",
    "\n",
    "Python understands very well objects, and in fact everything is an object in Python. \n",
    "\n",
    "Objects have **properties** (characteristic features) and **methods** (things they can do). For example, an object *car* could be defined to have the **properties** *model, make, color, number of doors, position* etc., and the **methods** *steer right, steer left, accelerate, break, stop, change gear, repaint,*... whose application might affect the state of the object.\n",
    "\n",
    "According to Python's official documentation: \n",
    "\n",
    "\"Objects are Python's abstraction for data. All data in a Python program is represented by objects or by relations between objects.\"\n",
    "\n",
    "All you need to know for now is that in Python objects have an **identifier (ID)** (i.e. their name), a **type** (numbers, text, collections,...) and a **value** (the actual data represented by the objects). Once an object has been created the *identifier* and the *type* never change, while its *value* can either change (**mutable objects**) or stay constant (**immutable objects**).\n",
    "\n",
    "Python provides the following built-in data types:\n",
    "\n",
    "![img0](img/pract2/types.png)\n",
    "\n",
    "\n",
    "We will stick with the simplest ones for now, but later on we will dive deeper into all of them.\n",
    "\n",
    "## Variables\n",
    "\n",
    "Variables are just **references to objects**, in other words they are the **name** given to an object. Variables can be **assigned** to objects by using the assignment operator ```=```.\n",
    "\n",
    "The instruction \n"
   ]
  },
  {
   "cell_type": "markdown",
   "metadata": {},
   "source": []
  },
  {
   "cell_type": "code",
   "execution_count": 6,
   "metadata": {},
   "outputs": [],
   "source": [
    "sides = 4"
   ]
  },
  {
   "cell_type": "markdown",
   "metadata": {},
   "source": [
    "might represent the number of sides of a square. What happens when we execute it in Python? An object is created, it is given an identifier, its **type** is set to \"int\" (an integer number), its **value** to 4 and a **name** *sides* is placed in the current namespace to point to that object, so that after that instruction we can access that object through its name. The type of an object can be accessed with the function **type()** and the identifier with the function **id()**: "
   ]
  },
  {
   "cell_type": "code",
   "execution_count": 7,
   "metadata": {},
   "outputs": [
    {
     "name": "stdout",
     "output_type": "stream",
     "text": [
      "<class 'int'>\n",
      "140314339279184\n"
     ]
    }
   ],
   "source": [
    "sides = 4\n",
    "print( type(sides) )\n",
    "print( id(sides) )"
   ]
  },
  {
   "cell_type": "markdown",
   "metadata": {},
   "source": [
    "Consider now the following code:"
   ]
  },
  {
   "cell_type": "code",
   "execution_count": 8,
   "metadata": {},
   "outputs": [
    {
     "name": "stdout",
     "output_type": "stream",
     "text": [
      "value: 4  type: <class 'int'>  id: 140314339279184\n",
      "value: 5  type: <class 'int'>  id: 140314339279216\n"
     ]
    }
   ],
   "source": [
    "sides = 4 #a square \n",
    "print (\"value:\", sides, \" type:\", type(sides), \" id:\", id(sides))\n",
    "sides = 5 #a pentagon\n",
    "print (\"value:\", sides, \" type:\", type(sides), \" id:\", id(sides))\n"
   ]
  },
  {
   "cell_type": "markdown",
   "metadata": {},
   "source": [
    "The value of the variable sides has been changed from 4 to 5, but as stated in the table above, the type ```int``` is **immutable**. **Luckily, this did not prevent us to change the value of sides from 4 to 5.** What happened behind the scenes when we executed the instruction sides = 5 is that a new object has been created of type int (5 is still an integer) and it has been made accessible with the same name *sides*, but since it is a different object (i.e. the integer 5). As a poof of this, **check that the that the identifier printed above is actually different.** \n",
    "\n",
    "<div class=\"alert alert-info\">\n",
    "\n",
    "**Note:** \n",
    "You do not have to really worry about what happens behind the scenes, as the Python interpreter will take care of these aspects for you, but it is nice to know what it does.\n",
    "</div>\n",
    "\n",
    "You can even change the type of a variable during execution but that is normally a **bad idea** as it makes understanding the code more complicated and leaves more room for errors.\n",
    "\n",
    "Python allows you to do (**but, please, REFRAIN FROM DOING SO!**):"
   ]
  },
  {
   "cell_type": "code",
   "execution_count": 9,
   "metadata": {},
   "outputs": [
    {
     "name": "stdout",
     "output_type": "stream",
     "text": [
      "value: 4  type: <class 'int'>  id: 140314339279184\n",
      "value: four  type: <class 'str'>  id: 140313851926128\n"
     ]
    }
   ],
   "source": [
    "sides = 4 #a square\n",
    "print (\"value:\", sides, \" type:\", type(sides), \" id:\", id(sides))\n",
    "sides = \"four\" #the sides in text format\n",
    "print (\"value:\", sides, \" type:\", type(sides), \" id:\", id(sides))"
   ]
  },
  {
   "cell_type": "markdown",
   "metadata": {},
   "source": [
    "<div class=\"alert alert-warning\">\n",
    "\n",
    "**IMPORTANT NOTE:** \n",
    "You can choose the name that you like for your variables (I advise to pick something reminding their meaning), but you need to adhere to some simple rules.\n",
    "\n",
    "\n",
    "1. Names can only contain upper/lower case digits (```A-Z```, ```a-z```), numbers (```0-9```) or underscores ```_```;\n",
    "\n",
    "\n",
    "2. Names cannot start with a number;\n",
    "\n",
    "\n",
    "3. Names cannot be equal to reserved keywords:\n",
    "\n",
    "![](img/pract2/keywords.png)\n",
    "\n",
    "\n",
    "</div>\n"
   ]
  },
  {
   "cell_type": "markdown",
   "metadata": {},
   "source": [
    "## Numeric types\n",
    "\n",
    "We already mentioned that numbers are **immutable objects**. Python provides different numeric types: integers, booleans, reals (floats) and even complex numbers and fractions (but we will not get into those).\n",
    "\n",
    "### Integers \n",
    "\n",
    "Their range of values is limited only by the memory available. As we have already seen, python provides also a set of standard operators to work with numbers:\n",
    "\n",
    "\n",
    "**let's try**\n",
    "1. Given two integer, try sum (+), subtractions (-), integer division (//), multiplication (*), power(**), division (/)\n",
    "\n",
    "\n",
    "<div class=\"tggle\" onclick=\"toggleVisibility('ex2');\">Show/Hide Solution</div>\n",
    "<div id=\"ex2\" style=\"display:none;\">"
   ]
  },
  {
   "cell_type": "code",
   "execution_count": 12,
   "metadata": {},
   "outputs": [
    {
     "name": "stdout",
     "output_type": "stream",
     "text": [
      "11\n",
      "3\n",
      "1\n",
      "28\n",
      "2401\n",
      "1.75\n"
     ]
    }
   ],
   "source": [
    "a = 7\n",
    "b = 4\n",
    "\n",
    "print(a + b) # 11\n",
    "print(a - b) # 3\n",
    "print(a // b) # integer division: 1\n",
    "print(a * b) # 28\n",
    "print(a ** b) # power: 2401\n",
    "print(a / b) # division 1.75"
   ]
  },
  {
   "cell_type": "markdown",
   "metadata": {},
   "source": [
    "</div>\n",
    "\n",
    "2. what is the type of a/b?\n",
    "\n",
    "<div class=\"tggle\" onclick=\"toggleVisibility('ex3');\">Show/Hide Solution</div>\n",
    "<div id=\"ex3\" style=\"display:none;\">"
   ]
  },
  {
   "cell_type": "code",
   "execution_count": 13,
   "metadata": {},
   "outputs": [
    {
     "name": "stdout",
     "output_type": "stream",
     "text": [
      "a <class 'int'>\n",
      "b <class 'int'>\n",
      "c <class 'float'>\n"
     ]
    }
   ],
   "source": [
    "a = 7\n",
    "b = 7\n",
    "c = a/b\n",
    "print(\"a\",type(a))\n",
    "print(\"b\",type(b))\n",
    "print(\"c\",type(c))"
   ]
  },
  {
   "cell_type": "markdown",
   "metadata": {},
   "source": [
    "</div>\n",
    "\n",
    "Note that in the latter case the result is no more an integer, but a float (we will get to that later).\n",
    "\n",
    "### Booleans \n",
    "\n",
    "These objects are used for the boolean algebra. Truth values are represented with the keywords ```True``` and ```False``` in Python. A boolean object can only have value ```True``` or ```False```. We can convert booleans into integers with the builtin function ```int```. Any integer can be converted into a boolean (and vice-versa) with: "
   ]
  },
  {
   "cell_type": "code",
   "execution_count": 14,
   "metadata": {},
   "outputs": [
    {
     "name": "stdout",
     "output_type": "stream",
     "text": [
      "a:  True  b:  False  c:  True  d:  True  t:  1  f:  0\n"
     ]
    }
   ],
   "source": [
    "a = bool(1)\n",
    "b = bool(0)\n",
    "c = bool(72)\n",
    "d = bool(-5)\n",
    "t = int(True)\n",
    "f = int(False)\n",
    "\n",
    "print(\"a: \", a, \" b: \", b, \" c: \", c, \" d: \", d , \" t: \", t, \" f: \", f)"
   ]
  },
  {
   "cell_type": "markdown",
   "metadata": {},
   "source": [
    "any integer is evaluated to true, except 0. Note that, the truth values ```True``` and ```False``` respectively behave like the integers 1 and 0.\n",
    "\n",
    "We can operate on boolean values with the boolean operators ```and```, ```or```, ```not```. Recall boolean algebra for their use: "
   ]
  },
  {
   "cell_type": "code",
   "execution_count": 16,
   "metadata": {},
   "outputs": [
    {
     "name": "stdout",
     "output_type": "stream",
     "text": [
      "T:  True  F: False\n",
      "T and F:  False\n",
      "T and T:  True\n",
      "F and F:  False\n",
      "not T:  False\n",
      "not F:  True\n",
      "T or F:  True\n",
      "T or T:  True\n",
      "F or F:  False\n"
     ]
    }
   ],
   "source": [
    "T = True\n",
    "F = False\n",
    "\n",
    "print (\"T: \", T, \" F:\", F)\n",
    "\n",
    "print (\"T and F: \", T and F) #False\n",
    "print (\"T and T: \", T and T) #True\n",
    "print (\"F and F: \", F and F) #False\n",
    "print (\"not T: \", not T) # False\n",
    "print (\"not F: \", not F) # True\n",
    "print (\"T or F: \", T or F) # True\n",
    "print (\"T or T: \", T or T) # True\n",
    "print (\"F or F: \", F or F) # False\n"
   ]
  },
  {
   "cell_type": "markdown",
   "metadata": {},
   "source": [
    "Numeric comparators are operators that return a boolean value. Here are some examples:\n",
    "\n",
    "![img1](img/pract2/comparators.png)\n",
    "\n",
    "\n"
   ]
  },
  {
   "cell_type": "markdown",
   "metadata": {},
   "source": [
    "**Example**: Given a variable a = 10 and a variable b = 77, let's swap their values (i.e. at the end a will be equal to 77 and b to 10). Let's also check the values at the beginning and at the end."
   ]
  },
  {
   "cell_type": "code",
   "execution_count": 17,
   "metadata": {},
   "outputs": [
    {
     "name": "stdout",
     "output_type": "stream",
     "text": [
      "a:  10  b: 77\n",
      "is a equal to 10? True\n",
      "is b equal to 77? True\n",
      "a:  77  b: 10\n",
      "is a equal to 10? False\n",
      "is a equal to 77? True\n",
      "is b equal to 10? True\n",
      "is b equal to 77? False\n"
     ]
    }
   ],
   "source": [
    "a = 10\n",
    "b =  77\n",
    "print(\"a: \", a, \" b:\", b)\n",
    "print(\"is a equal to 10?\", a == 10)\n",
    "print(\"is b equal to 77?\", b == 77)\n",
    "\n",
    "TMP = b  #we need to store the value of b safely\n",
    "b = a    #ok, the old value of b is gone... is it?\n",
    "a = TMP  #a gets the old value of b... :-)\n",
    "\n",
    "print(\"a: \", a, \" b:\", b)\n",
    "print(\"is a equal to 10?\", a == 10)\n",
    "print(\"is a equal to 77?\", a == 77)\n",
    "print(\"is b equal to 10?\", b == 10)\n",
    "print(\"is b equal to 77?\", b == 77)\n",
    "\n"
   ]
  },
  {
   "cell_type": "markdown",
   "metadata": {},
   "source": [
    "### Real numbers\n",
    "\n",
    "Python stores real numbers (floating point numbers) in 64 bits of information divided in sign, exponent and mantissa. \n",
    "\n",
    "\n",
    "**Let's try**\n",
    "\n",
    "1) Calculate the area of circle (radius = 9.15m) recalling that $area= \\Pi*R^2$:\n",
    "\n",
    "**note** do you remember the Pi value? if not just use math.pi\n",
    "\n",
    "\n",
    "<div class=\"tggle\" onclick=\"toggleVisibility('ex4');\">Show/Hide Solution</div>\n",
    "<div id=\"ex4\" style=\"display:none;\">"
   ]
  },
  {
   "cell_type": "code",
   "execution_count": 20,
   "metadata": {},
   "outputs": [
    {
     "name": "stdout",
     "output_type": "stream",
     "text": [
      "263.02199094017146\n"
     ]
    }
   ],
   "source": [
    "import math\n",
    "\n",
    "R = 9.15\n",
    "Pi = math.pi\n",
    "Area = Pi*(R**2)\n",
    "print (Area)"
   ]
  },
  {
   "cell_type": "markdown",
   "metadata": {},
   "source": [
    "</div>\n",
    "\n",
    "2. Write a program to compute: $\\dfrac{\\sqrt{x+3}}{(x+2)^3}$, with x = 0.000003.\n",
    "Result = 0.21650548492311453\n",
    "\n",
    "<div class=\"tggle\" onclick=\"toggleVisibility('ex5');\">Show/Hide Solution</div>\n",
    "<div id=\"ex5\" style=\"display:none;\">"
   ]
  },
  {
   "cell_type": "code",
   "execution_count": 26,
   "metadata": {},
   "outputs": [
    {
     "name": "stdout",
     "output_type": "stream",
     "text": [
      "-0.21650548492311453\n"
     ]
    }
   ],
   "source": [
    "import math\n",
    "\n",
    "x = 0.000003\n",
    "res = - math.sqrt(x+3)/((x+2)**3)\n",
    "print(res)"
   ]
  },
  {
   "cell_type": "markdown",
   "metadata": {},
   "source": [
    "</div>\n",
    "## Strings \n",
    "\n",
    "Strings are **immutable objects** (note the actual type is **str**) used by python to handle text data. Strings are sequences of *unicode code points* that can represent characters, but also formatting information (e.g. '\\\\n' for new line). **Unlike other programming languages, python does not have the data type character, which is represented as a string of length 1**.\n",
    "\n",
    "There are several ways to define a string:\n"
   ]
  },
  {
   "cell_type": "code",
   "execution_count": null,
   "metadata": {},
   "outputs": [],
   "source": [
    "S = \"my first string, in double quotes\"\n",
    "\n",
    "S1 = 'my second string, in single quotes'\n",
    "\n",
    "S2 = '''my third string is \n",
    "in triple quotes\n",
    "therefore it can span several lines'''\n",
    "\n",
    "S3 = \"\"\"my fourth string, in triple double-quotes\n",
    "can also span\n",
    "several lines\"\"\"\n",
    "\n",
    "print(S, '\\n') #let's add a new line at the end of the string with \\n\n",
    "print(S1,'\\n')\n",
    "print(S2, '\\n')\n",
    "print(S3, '\\n')"
   ]
  },
  {
   "cell_type": "markdown",
   "metadata": {},
   "source": [
    "To put special characters like ',\" and so on you need to \"escape them\" (i.e. write them following a back-slash).\n",
    "\n",
    "![img3](img/pract2/escapes.png)\n",
    "\n",
    "**Example**:\n",
    "Let's print a string containing a quote and double quote (i.e. ' and \")."
   ]
  },
  {
   "cell_type": "code",
   "execution_count": null,
   "metadata": {},
   "outputs": [],
   "source": [
    "myString = \"This is how I \\'quote\\' and \\\"double quote\\\" things in strings\"\n",
    "print(myString)"
   ]
  },
  {
   "cell_type": "markdown",
   "metadata": {},
   "source": [
    "Strings can be converted to and from numbers with the functions ```str()```, ```int()``` or ```float()```.\n",
    "\n",
    "**Example**:\n",
    "Let's define a string *myString* with the value \"47001\" and convert it into an int. Try adding one and print the result."
   ]
  },
  {
   "cell_type": "code",
   "execution_count": null,
   "metadata": {},
   "outputs": [],
   "source": [
    "my_string = \"47001\"\n",
    "print(my_string, \" has type \", type(my_string))\n",
    "\n",
    "my_int = int(my_string)\n",
    "\n",
    "print(my_int, \" has type \", type(my_int))\n",
    "\n",
    "my_int = my_int + 1   #adds one\n",
    "\n",
    "my_string = my_string + \"1\" #cannot add 1 (we need to use a string). \n",
    "                          #This will append 1 at the end of the string\n",
    "\n",
    "print(my_int)\n",
    "print(my_string)"
   ]
  },
  {
   "cell_type": "markdown",
   "metadata": {},
   "source": [
    "Be careful though that if the string cannot be converted into an integer, then you get an error"
   ]
  },
  {
   "cell_type": "code",
   "execution_count": null,
   "metadata": {},
   "outputs": [],
   "source": [
    "my_wrong_number = \"13a\"\n",
    "\n",
    "N = int(my_wrong_number)\n",
    "\n",
    "print(N)"
   ]
  },
  {
   "cell_type": "markdown",
   "metadata": {},
   "source": [
    "Python defines some operators to work with strings. Recall the slides shown during the lecture:\n",
    "\n",
    "![img4](img/pract2/stringoperators.png)\n"
   ]
  },
  {
   "cell_type": "markdown",
   "metadata": {},
   "source": [
    "**Example**\n",
    "\n",
    "let's print \"Ciao\" 100 times..."
   ]
  },
  {
   "cell_type": "code",
   "execution_count": 1,
   "metadata": {},
   "outputs": [
    {
     "name": "stdout",
     "output_type": "stream",
     "text": [
      "CiaoCiaoCiaoCiaoCiaoCiaoCiaoCiaoCiaoCiaoCiaoCiaoCiaoCiaoCiaoCiaoCiaoCiaoCiaoCiaoCiaoCiaoCiaoCiaoCiaoCiaoCiaoCiaoCiaoCiaoCiaoCiaoCiaoCiaoCiaoCiaoCiaoCiaoCiaoCiaoCiaoCiaoCiaoCiaoCiaoCiaoCiaoCiaoCiaoCiaoCiaoCiaoCiaoCiaoCiaoCiaoCiaoCiaoCiaoCiaoCiaoCiaoCiaoCiaoCiaoCiaoCiaoCiaoCiaoCiaoCiaoCiaoCiaoCiaoCiaoCiaoCiaoCiaoCiaoCiaoCiaoCiaoCiaoCiaoCiaoCiaoCiaoCiaoCiaoCiaoCiaoCiaoCiaoCiaoCiaoCiaoCiaoCiaoCiaoCiao\n"
     ]
    }
   ],
   "source": [
    "my_string = \"Ciao\"\n",
    "my_100_times_string = my_string*100\n",
    "print(my_100_times_string)"
   ]
  },
  {
   "cell_type": "markdown",
   "metadata": {},
   "source": [
    "let's concatenate two (or more) strings"
   ]
  },
  {
   "cell_type": "code",
   "execution_count": null,
   "metadata": {},
   "outputs": [],
   "source": [
    "my_string1 = \"Ciao, \"\n",
    "my_string2 = \"How\"\n",
    "\n",
    "my_combination = my_string1 + my_string2\n",
    "print(my_combination)"
   ]
  },
  {
   "cell_type": "code",
   "execution_count": 2,
   "metadata": {},
   "outputs": [
    {
     "name": "stdout",
     "output_type": "stream",
     "text": [
      "Ciao, How are you?\n"
     ]
    }
   ],
   "source": [
    "my_string1 = \"Ciao, \"\n",
    "my_string2 = \"how\"\n",
    "my_string3 = \" \"\n",
    "my_string4 = \"are you?\"\n",
    "\n",
    "res = my_string1 + my_string2 + my_string3 + my_string4\n",
    "print(res)"
   ]
  },
  {
   "cell_type": "markdown",
   "metadata": {},
   "source": [
    "let's create a toy example:"
   ]
  },
  {
   "cell_type": "code",
   "execution_count": 3,
   "metadata": {},
   "outputs": [
    {
     "name": "stdout",
     "output_type": "stream",
     "text": [
      "True\n",
      "False\n"
     ]
    }
   ],
   "source": [
    "my_input_string = \"Hi, How are you? Do you want a beer?\"\n",
    "\n",
    "# add a new line\n",
    "my_input_string = my_input_string + \"\\n\"\n",
    "\n",
    "# verify if the string contains \"How\"\n",
    "print(\"How\" in my_input_string)\n",
    "# remember that it is case sensitive...\n",
    "print(\"how\" in my_input_string)\n"
   ]
  },
  {
   "cell_type": "markdown",
   "metadata": {},
   "source": [
    "We can access strings at specific positions (indexing) or get a substring starting from a position S to a position E. The only thing to remember is that numbering starts from 0. The```i```-th character of a string can be accessed as ```str[i-1]```. Substrings can be accessed as ```str[S:E]```, optionally a third parameter can be specified to set the step (i.e. ```str[S:E:STEP]```). \n",
    "\n",
    "<div class=\"alert alert-warning\">\n",
    "\n",
    "**Important note.**\n",
    "Remember that when you do str[S:E], **S is inclusive, while E is exclusive** (see S[0:6] below).\n",
    "\n",
    "</div>\n",
    "\n",
    "\n",
    "![img5](img/pract2/slicingstring.png)\n",
    "\n",
    "Let's see these aspects in action with an example:"
   ]
  },
  {
   "cell_type": "code",
   "execution_count": 5,
   "metadata": {},
   "outputs": [
    {
     "name": "stdout",
     "output_type": "stream",
     "text": [
      "Luther College\n",
      "L\n",
      "h\n",
      "e\n",
      "Luther\n",
      "College\n",
      "Lte olg\n",
      "uhrClee\n"
     ]
    }
   ],
   "source": [
    "S = \"Luther College\"\n",
    "\n",
    "print(S) #print the whole string\n",
    "print(S[0]) #first character\n",
    "print(S[3]) #fourth character\n",
    "print(S[-1]) #last character\n",
    "print(S[0:6]) #first six characters\n",
    "print(S[-7:]) #final seven characters\n",
    "print(S[0:len(S):2]) #every other character starting from the first\n",
    "print(S[1:len(S):2]) #every other character starting from the second"
   ]
  },
  {
   "cell_type": "markdown",
   "metadata": {},
   "source": [
    "### Methods for the str object\n",
    "\n",
    "The object ```str``` has some methods that can be applied to it (remember methods are things you can do on objects). Recall from the lecture that the main methods are:\n",
    "\n",
    "![img6](img/pract2/strmethods.png)"
   ]
  },
  {
   "cell_type": "markdown",
   "metadata": {},
   "source": [
    "<div class=\"alert alert-warning\">\n",
    "**IMPORTANT NOTE**:\n",
    "Since Strings are immutable, every operation that changes the string actually produces a new *str* object  having the modified string as value. \n",
    "</div>"
   ]
  },
  {
   "cell_type": "markdown",
   "metadata": {},
   "source": [
    "**lets play with methods**\n",
    "\n",
    "upper and lower are easy"
   ]
  },
  {
   "cell_type": "code",
   "execution_count": 7,
   "metadata": {},
   "outputs": [
    {
     "name": "stdout",
     "output_type": "stream",
     "text": [
      "original string\t Trento\n",
      "upper string   \t TRENTO\n"
     ]
    }
   ],
   "source": [
    "my_string = \"Trento\"\n",
    "\n",
    "print(\"original string\\t\",my_string)\n",
    "print(\"upper string   \\t\",my_string.upper())"
   ]
  },
  {
   "cell_type": "code",
   "execution_count": 9,
   "metadata": {},
   "outputs": [
    {
     "name": "stdout",
     "output_type": "stream",
     "text": [
      "original string\t TrENtO\n",
      "lower string   \t trento\n"
     ]
    }
   ],
   "source": [
    "my_string = \"TrENtO\"\n",
    "\n",
    "print(\"original string\\t\",my_string)\n",
    "print(\"lower string   \\t\",my_string.lower())"
   ]
  },
  {
   "cell_type": "markdown",
   "metadata": {},
   "source": [
    "as you can see, methods are applied to object!!!    \n",
    "object **.method(parameters)**\n",
    "\n",
    "in our case... sting.method()\n",
    "\n",
    "methods like upper and lower do not take any parameter! \n",
    "\n",
    "Others like strip or find take also parameters...\n",
    "\n",
    "**let's see this in practice**"
   ]
  },
  {
   "cell_type": "code",
   "execution_count": 13,
   "metadata": {},
   "outputs": [
    {
     "name": "stdout",
     "output_type": "stream",
     "text": [
      "Hi how are you?\n"
     ]
    }
   ],
   "source": [
    "my_string = \">Hi how are you?>\"\n",
    "\n",
    "my_modified_sting = my_string.strip(\">\")\n",
    "print(my_modified_sting)"
   ]
  },
  {
   "cell_type": "markdown",
   "metadata": {},
   "source": [
    "we can do it only to the left **lstrip** or to the right **rstrip**"
   ]
  },
  {
   "cell_type": "code",
   "execution_count": 17,
   "metadata": {},
   "outputs": [
    {
     "name": "stdout",
     "output_type": "stream",
     "text": [
      " This is TRENTO!\n"
     ]
    }
   ],
   "source": [
    "my_string = \"><> This is TRENTO! das\"\n",
    "\n",
    "fixed_left = my_string.lstrip(\"><>\")\n",
    "fixed = fixed_left.rstrip(\" das\")\n",
    "\n",
    "print(fixed)"
   ]
  },
  {
   "cell_type": "markdown",
   "metadata": {},
   "source": [
    "The replace method is really intuitive... "
   ]
  },
  {
   "cell_type": "code",
   "execution_count": 18,
   "metadata": {},
   "outputs": [
    {
     "name": "stdout",
     "output_type": "stream",
     "text": [
      "My name is Antonio\n"
     ]
    }
   ],
   "source": [
    "text = \"My name is Pablo\"\n",
    "\n",
    "new_text = text.replace(\"Pablo\",\"Antonio\")\n",
    "\n",
    "print(new_text)"
   ]
  },
  {
   "cell_type": "markdown",
   "metadata": {},
   "source": [
    "**startwith endswith**"
   ]
  },
  {
   "cell_type": "code",
   "execution_count": 21,
   "metadata": {},
   "outputs": [
    {
     "name": "stdout",
     "output_type": "stream",
     "text": [
      "True\n",
      "True\n",
      "False\n",
      "\n",
      "\n",
      "True\n",
      "True\n",
      "False\n"
     ]
    }
   ],
   "source": [
    "text = \"This is Trento\"\n",
    "\n",
    "# startwith\n",
    "print(text.startswith(\"Thi\"))\n",
    "print(text.startswith(\"This\"))\n",
    "print(text.startswith(\"Thiss\"))\n",
    "print(\"\\n\")\n",
    "# endwith\n",
    "print(text.endswith(\"nto\"))\n",
    "print(text.endswith(\"rento\"))\n",
    "print(text.endswith(\"rrento\"))\n",
    "\n"
   ]
  },
  {
   "cell_type": "markdown",
   "metadata": {},
   "source": [
    "**find**"
   ]
  },
  {
   "cell_type": "code",
   "execution_count": 24,
   "metadata": {},
   "outputs": [
    {
     "name": "stdout",
     "output_type": "stream",
     "text": [
      "3\n",
      "0\n",
      "-1\n"
     ]
    }
   ],
   "source": [
    "text = \"We are learning python3, we are also bla bla bla\"\n",
    "\n",
    "print(text.find(\"are\")) # the first occorence\n",
    "print(text.find(\"We\"))\n",
    "print(text.find(\"WE\")) # not present"
   ]
  },
  {
   "cell_type": "markdown",
   "metadata": {},
   "source": [
    "**rfind**"
   ]
  },
  {
   "cell_type": "code",
   "execution_count": 28,
   "metadata": {},
   "outputs": [
    {
     "name": "stdout",
     "output_type": "stream",
     "text": [
      "28\n"
     ]
    }
   ],
   "source": [
    "text = \"We are learning python3, we are also bla bla bla\"\n",
    "\n",
    "print(text.rfind(\"are\"))"
   ]
  },
  {
   "cell_type": "code",
   "execution_count": 31,
   "metadata": {},
   "outputs": [
    {
     "name": "stdout",
     "output_type": "stream",
     "text": [
      "are\n"
     ]
    }
   ],
   "source": [
    "# is it true?\n",
    "print(text[28:28+len(\"are\")])"
   ]
  },
  {
   "cell_type": "markdown",
   "metadata": {},
   "source": [
    "yes it worked :) \n",
    "\n",
    "\n",
    "**count** just counts "
   ]
  },
  {
   "cell_type": "code",
   "execution_count": 36,
   "metadata": {},
   "outputs": [
    {
     "name": "stdout",
     "output_type": "stream",
     "text": [
      "15\n",
      "4\n",
      "3\n"
     ]
    }
   ],
   "source": [
    "text = \"Tfasjskdlftrentojasdjfkasjdjskdlfjasdlfjasdjfasdjaklsfaskljkljfdasaklantonioflasdfjklajdfwiojasflkfjasdllucakfjdiosjtalkjcjsadlfjlasd\"\n",
    "\n",
    "print(text.count(\"f\"))\n",
    "print(text.count(\"t\"))\n",
    "print(text.count(\"sk\"))\n"
   ]
  },
  {
   "cell_type": "markdown",
   "metadata": {},
   "source": [
    "## Exercises\n",
    "\n",
    "1. Given the following string on two lines:\n",
    "\n",
    "```\n",
    "text = \"\"\"Nobody said it was easy\n",
    "No one ever said it would be this hard\"\"\"\n",
    "```\n",
    "write some python code that \n",
    "\n",
    "a) prints the whole string; b)prints the first and last character; c) prints the first 10 characters; d) prints from the 19th character to the e) pints the string all in capital letters. \n",
    "\n",
    "<div class=\"tggle\" onclick=\"toggleVisibility('exs0');\">Show/Hide Solution</div>\n",
    "<div id=\"exs0\" style=\"display:none;\">"
   ]
  },
  {
   "cell_type": "code",
   "execution_count": 34,
   "metadata": {
    "scrolled": true
   },
   "outputs": [
    {
     "name": "stdout",
     "output_type": "stream",
     "text": [
      "Nobody said it was easy\n",
      "No one ever said it would be this hard\n",
      "\n",
      "1st char:  N  last char:  d\n",
      "1st 10 chars: Nobody sai\n",
      "\n",
      "Characters from 19 to 31:\n",
      " easy\n",
      "No one \n",
      "\n",
      "All upper case:\n",
      "NOBODY SAID IT WAS EASY\n",
      "NO ONE EVER SAID IT WOULD BE THIS HARD\n",
      "\n",
      "Nobody said it was easy\n",
      "No one ever said it would be this hard\n",
      "\n",
      "NOBODY SAID IT WAS EASY\n",
      "NO ONE EVER SAID IT WOULD BE THIS HARD\n",
      "\n",
      "text and upper_text are equal:  False\n",
      "\n",
      "Newline?  True\n"
     ]
    }
   ],
   "source": [
    "text = \"\"\"Nobody said it was easy\n",
    "No one ever said it would be this hard\"\"\"\n",
    "# a) prints the whole text\n",
    "print(text)\n",
    "\n",
    "\n",
    "#some empty space...\n",
    "print(\"\")\n",
    "\n",
    "# b) 1st and last character\n",
    "print(\"1st char: \", text[0], \" last char: \", text[-1])\n",
    "\n",
    "#c) the 1st 10 characters:\n",
    "print(\"1st 10 chars:\", text[0:10])\n",
    "\n",
    "#d) from the 19th to the 31st char\n",
    "print(\"\\nCharacters from 19 to 31:\")\n",
    "print(text[18:31])\n",
    "print(\"\\nAll upper case:\")\n",
    "upper_text = text.upper()\n",
    "print(upper_text) #equivalent to: print(text.upper())\n",
    "print(\"\")\n",
    "#NOTE THAT:\n",
    "print(text)\n",
    "print(\"\")\n",
    "#is different from\n",
    "print(upper_text)\n",
    "print(\"\")\n",
    "#as confirmed by python:\n",
    "print(\"text and upper_text are equal: \", text == upper_text)\n",
    "\n",
    "print(\"\")\n",
    "print(\"Newline? \", \"\\n\" in text)"
   ]
  },
  {
   "cell_type": "markdown",
   "metadata": {},
   "source": [
    "</div>\n",
    "\n",
    "2. given the input string S = \"a 1 b 2 c 3\", replace each digit(1,2,3) with \"DIGIT\" and each character with \"CHARACTER\n",
    "\n",
    "<div class=\"tggle\" onclick=\"toggleVisibility('exs2');\">Show/Hide Solution</div>\n",
    "<div id=\"exs2\" style=\"display:none;\">"
   ]
  },
  {
   "cell_type": "code",
   "execution_count": 35,
   "metadata": {},
   "outputs": [
    {
     "name": "stdout",
     "output_type": "stream",
     "text": [
      "CHARACTER DIGIT CHARACTER DIGIT CHARACTER DIGIT\n"
     ]
    }
   ],
   "source": [
    "stringa = \"a 1 b 2 c 3\"\n",
    "\n",
    "digit = \"DIGIT\"\n",
    "character = \"CHARACTER\"\n",
    "\n",
    "risultato = stringa.replace(\"1\", digit)\n",
    "risultato = risultato.replace(\"2\", digit)\n",
    "risultato = risultato.replace(\"3\", digit)\n",
    "risultato = risultato.replace(\"a\", character)\n",
    "risultato = risultato.replace(\"b\", character)\n",
    "risultato = risultato.replace(\"c\", character)\n",
    "\n",
    "print(risultato)     "
   ]
  },
  {
   "cell_type": "markdown",
   "metadata": {},
   "source": [
    "</div>\n",
    "\n",
    "3. Compute 1/7 in Python, you ll get a float, store the result in a variable, verify if:\n",
    "\n",
    "\n",
    "a)It contains the number 9 b)The first six decimal are equal to the next six.\n",
    "\n",
    "Hint: convert the float into string\n",
    "\n",
    "\n",
    "<div class=\"tggle\" onclick=\"toggleVisibility('exs3');\">Show/Hide Solution</div>\n",
    "<div id=\"exs3\" style=\"display:none;\">"
   ]
  },
  {
   "cell_type": "code",
   "execution_count": 32,
   "metadata": {},
   "outputs": [
    {
     "name": "stdout",
     "output_type": "stream",
     "text": [
      "0.14285714285714285\n",
      "0.14285714285714285\n",
      "False\n",
      "True\n"
     ]
    }
   ],
   "source": [
    "valore = 1.0 / 7.0\n",
    "print(valore)                        # 0.14285714285714285\n",
    "\n",
    "valore_come_stringa = str(valore)\n",
    "print(valore_come_stringa)           # \"0.14285714285714285\"\n",
    "\n",
    "print(\"9\" in valore_come_stringa)    # False\n",
    "\n",
    "indice_punto = valore_come_stringa.find(\".\")\n",
    "primi_sei_decimali = valore_come_stringa[indice_punto + 1 : indice_punto + 1 + 6]\n",
    "secondi_sei_decimali = valore_come_stringa[indice_punto + 1 + 6 : indice_punto + 1 + 6 + 6]\n",
    "print(primi_sei_decimali == secondi_sei_decimali)    # True"
   ]
  },
  {
   "cell_type": "markdown",
   "metadata": {},
   "source": [
    "</div>\n",
    "4. You’ve got some money, so you decide to buy two models of supercars. Since you already know accidents are on the way, for each model you will buy as many cars as there are characters in each model name.\n",
    "\n",
    "Write some code which stores in the string s the number of cars you will buy.\n",
    "\n",
    "**for instance**\n",
    "```\n",
    "car1 = \"Ferrari\"\n",
    "car2 = \"Tesla\"\n",
    "```\n",
    "\n",
    "then the result is:\n",
    "```\n",
    "I'll buy 7 Ferrari and 5 tesla\n",
    "```\n",
    "\n",
    "<div class=\"tggle\" onclick=\"toggleVisibility('exs4');\">Show/Hide Solution</div>\n",
    "<div id=\"exs4\" style=\"display:none;\">"
   ]
  },
  {
   "cell_type": "code",
   "execution_count": 36,
   "metadata": {},
   "outputs": [
    {
     "name": "stdout",
     "output_type": "stream",
     "text": [
      "I will buy 6 Jaguar and 7 Ferrari supercars\n"
     ]
    }
   ],
   "source": [
    "car1, car2 = 'Jaguar','Ferrari'        # I will buy 6 Jaguar and 7 Ferrari supercars\n",
    "#car1, car2 = 'Porsche','Lamborghini'  # I will buy 7 Porsche and 11 Lamborghini supercars\n",
    "\n",
    "# write here\n",
    "s = 'I will buy %s %s and %s %s supercars' % (len(car1), car1, len(car2), car2)\n",
    "print(s)"
   ]
  },
  {
   "cell_type": "markdown",
   "metadata": {},
   "source": [
    "</div>\n",
    "\n",
    "5. Given a small sequenze of biological stuff\n",
    "```\n",
    "bio_stuff = \"\"\"SER A 96 77.253 20.522 75.007\n",
    "VAL A 97 76.066 22.304 71.921\n",
    "PRO A 98 77.731 23.371 68.681\n",
    "SER A 99 80.136 26.246 68.973\n",
    "GLN A 100 79.039 29.534 67.364\n",
    "LYS A 101 81.787 32.022 68.157\"\"\"\n",
    "```\n",
    "\n",
    "we know that the first, second and third colums are not important, then we know that the 4th 5th and 6th columns represent x,y,z of something. \n",
    "you have to:\n",
    "\n",
    "a) extract x,y and z of the second row and save them into variables, b) do the same for the third colum c) compute the distance.\n",
    "$d((x,y,z),(x',y',z')) = \\sqrt{(x-x')^2 + (y-y')^2 + (z-z')^2}$\n",
    "\n",
    "\n",
    "<div class=\"tggle\" onclick=\"toggleVisibility('exs5');\">Show/Hide Solution</div>\n",
    "<div id=\"exs5\" style=\"display:none;\">"
   ]
  },
  {
   "cell_type": "code",
   "execution_count": 1,
   "metadata": {},
   "outputs": [
    {
     "name": "stdout",
     "output_type": "stream",
     "text": [
      "29 59 89\n",
      "VAL A 97 76.066 22.304 71.921\n",
      "76.066 22.304 71.921\n",
      "PRO A 98 77.731 23.371 68.681\n",
      "77.731 23.371 68.681\n",
      "3.7958284998139775\n"
     ]
    }
   ],
   "source": [
    "structure_chain_a = \"\"\"SER A 96 77.253 20.522 75.007\n",
    "VAL A 97 76.066 22.304 71.921\n",
    "PRO A 98 77.731 23.371 68.681\n",
    "SER A 99 80.136 26.246 68.973\n",
    "GLN A 100 79.039 29.534 67.364\n",
    "LYS A 101 81.787 32.022 68.157\"\"\"\n",
    "\n",
    "# let me use a shorter name :) \n",
    "chain = structure_chain_a\n",
    "\n",
    "index_first_newline = chain.find(\"\\n\")\n",
    "index_second_newline = chain[index_first_newline + 1:].find(\"\\n\") + len(chain[:index_first_newline + 1])\n",
    "index_third_newline = chain[index_second_newline + 1:].find(\"\\n\") + len(chain[:index_second_newline + 1])\n",
    "print(index_first_newline, index_second_newline, index_third_newline)\n",
    "\n",
    "second_row = chain[index_first_newline + 1 : index_second_newline]\n",
    "print(second_row)                      # \"VAL A 97 76.066 22.304 71.921\"\n",
    "                                         #           |    | |    | |    |\n",
    "                                         #  01234567890123456789012345678\n",
    "                                         #  0         1         2\n",
    "\n",
    "x = second_row[9:15]\n",
    "y = second_row[16:22]\n",
    "z = second_row[23:]\n",
    "print(x, y, z)\n",
    "# NOTE: they are strings\n",
    "\n",
    "\n",
    "third_row = chain[index_second_newline + 1 : index_third_newline]\n",
    "print(third_row)                        # \"PRO A 98 77.731 23.371 68.681\"\n",
    "                                         #           |    | |    | |    |\n",
    "                                         #  01234567890123456789012345678\n",
    "                                         #  0         1         2\n",
    "\n",
    "x_prime = third_row[9:15]\n",
    "y_prime = third_row[16:22]\n",
    "z_prime = third_row[23:]\n",
    "print(x_prime, y_prime, z_prime)\n",
    "# NOTE: they are strings\n",
    "\n",
    "# convert variables into float,\n",
    "x, y, z = float(x), float(y), float(z)\n",
    "x_prime, y_prime, z_prime = float(x_prime), float(y_prime), float(z_prime)\n",
    "\n",
    "diff_x = x - x_prime\n",
    "diff_y = y - y_prime\n",
    "diff_z = z - z_prime\n",
    "\n",
    "distanza = (diff_x**2 + diff_y**2 + diff_z**2)**0.5\n",
    "print(distanza)"
   ]
  },
  {
   "cell_type": "markdown",
   "metadata": {},
   "source": [
    "</div>\n",
    "\n",
    "6. Given in input\n",
    "\n",
    "```\n",
    "str = \"14, 625, 498.002\"\n",
    "```\n",
    "\n",
    "a) convert each comma in a dot, and print it b)convert each dot in comma, and print it c)replace each dot in comma and each comma in dot.\n",
    "\n",
    "\n",
    "\n",
    "<div class=\"tggle\" onclick=\"toggleVisibility('exs6');\">Show/Hide Solution</div>\n",
    "<div id=\"exs6\" style=\"display:none;\">"
   ]
  },
  {
   "cell_type": "code",
   "execution_count": 40,
   "metadata": {},
   "outputs": [
    {
     "name": "stdout",
     "output_type": "stream",
     "text": [
      "14, 625, 498.002\n",
      "14. 625. 498.002\n",
      "14, 625, 498,002\n",
      "14. 625. 498,002\n"
     ]
    }
   ],
   "source": [
    "str1 = \"14, 625, 498.002\"\n",
    "print(str1)\n",
    "str2 = str1.replace(\",\",\".\")\n",
    "print(str2)\n",
    "\n",
    "str3 = str1.replace(\".\",\",\")\n",
    "print(str3)\n",
    "\n",
    "str1 = str1.replace(',', 'third ')\n",
    "str1 = str1.replace('.', ',')\n",
    "str1 = str1.replace('third ', '.')\n",
    "     \n",
    "print(str1)"
   ]
  },
  {
   "cell_type": "markdown",
   "metadata": {},
   "source": [
    "</div>\n",
    "7. Calculate the zeros of the equation $ax^2-b = 0$ where a = 10 and b = 1. Hint: use math.sqrt or ** 0.5. Finally check that substituting the obtained value of x in the equation gives zero. \n",
    "\n",
    "<div class=\"tggle\" onclick=\"toggleVisibility('exs7');\">Show/Hide Solution</div>\n",
    "<div id=\"exs7\" style=\"display:none;\">"
   ]
  },
  {
   "cell_type": "code",
   "execution_count": 39,
   "metadata": {
    "scrolled": true
   },
   "outputs": [
    {
     "name": "stdout",
     "output_type": "stream",
     "text": [
      "10X**2 - 1 = 0 for X: 0.31622776601683794\n",
      "True\n"
     ]
    }
   ],
   "source": [
    "import math\n",
    "\n",
    "A = 10\n",
    "B = 1\n",
    "\n",
    "X = math.sqrt(B/A)\n",
    "\n",
    "print(\"10X**2 - 1 = 0 for X:\", X)\n",
    "print(10*X**2 -1 == 0)"
   ]
  },
  {
   "cell_type": "markdown",
   "metadata": {},
   "source": [
    "8. What is a palindrome?  \n",
    "A **palindrome** is a word, phrase, or sequence of characters that reads **the same forwards and backwards**, ignoring spaces, punctuation, or letter case.  \n",
    "Examples:\n",
    "- `racecar`\n",
    "- `level`\n",
    "- `madam`\n",
    "- `A man a plan a canal Panama` (ignoring spaces and case)\n",
    "\n",
    "**Task**  \n",
    "Write a program that:\n",
    "- Reads **one string** from the input.\n",
    "- Checks whether it is a **palindrome**.\n",
    "- Prints an appropriate message, for example:\n",
    "  - `\"It is a palindrome.\"`\n",
    "  - `\"It is not a palindrome.\"`\n",
    "\n",
    "\n",
    "\n",
    "\n",
    "<div class=\"tggle\" onclick=\"toggleVisibility('ex8');\">Show/Hide Solution</div>\n",
    "<div id=\"ex8\" style=\"display:none;\">\n"
   ]
  },
  {
   "cell_type": "code",
   "execution_count": 20,
   "metadata": {},
   "outputs": [
    {
     "name": "stdout",
     "output_type": "stream",
     "text": [
      "It is a palindrome.\n"
     ]
    }
   ],
   "source": [
    "# Read one string (assume already lowercase and only letters)\n",
    "s = input(\"Enter a string: \")\n",
    "\n",
    "# Reverse the string manually\n",
    "reversed_s = \"\"\n",
    "for ch in s:\n",
    "    reversed_s = ch + reversed_s\n",
    "\n",
    "# Check if it is a palindrome\n",
    "if s == reversed_s:\n",
    "    print(\"It is a palindrome.\")\n",
    "else:\n",
    "    print(\"It is not a palindrome.\")\n"
   ]
  },
  {
   "cell_type": "markdown",
   "metadata": {},
   "source": [
    "</div>\n",
    "\n",
    "## Exercises Difficult\n",
    "\n",
    "1. What is an anagram?\n",
    "Two words or phrases are **anagrams** if they contain **exactly the same letters, but possibly in a different order**, ignoring spaces, punctuation, or letter case.  \n",
    "Examples:\n",
    "- `listen` and `silent`\n",
    "- `evil` and `vile`\n",
    "- `restful` and `fluster`\n",
    "\n",
    "**Task**  \n",
    "Write a program that:\n",
    "- Reads **two strings** from the input.\n",
    "- Checks whether they are **anagrams** of each other.\n",
    "- Prints an appropriate message, for example:\n",
    "  - `\"They are anagrams.\"`\n",
    "  - `\"They are not anagrams.\"`\n",
    "\n",
    "\n",
    "\n",
    "<div class=\"tggle\" onclick=\"toggleVisibility('ex1hard');\">Show/Hide Solution</div>\n",
    "<div id=\"ex1hard\" style=\"display:none;\">"
   ]
  },
  {
   "cell_type": "code",
   "execution_count": 19,
   "metadata": {},
   "outputs": [
    {
     "name": "stdout",
     "output_type": "stream",
     "text": [
      "They are not anagrams.\n"
     ]
    }
   ],
   "source": [
    "s1 = input(\"Enter the first string: \")\n",
    "s2 = input(\"Enter the second string: \")\n",
    "\n",
    "# assume s1 and s2 are already lowercase and contain only letters\n",
    "\n",
    "# sort characters of s1\n",
    "list1 = list(s1)\n",
    "for i in range(len(list1)):\n",
    "    for j in range(i + 1, len(list1)):\n",
    "        if list1[j] < list1[i]:\n",
    "            list1[i], list1[j] = list1[j], list1[i]\n",
    "\n",
    "# sort characters of s2\n",
    "list2 = list(s2)\n",
    "for i in range(len(list2)):\n",
    "    for j in range(i + 1, len(list2)):\n",
    "        if list2[j] < list2[i]:\n",
    "            list2[i], list2[j] = list2[j], list2[i]\n",
    "\n",
    "# compare sorted lists\n",
    "if list1 == list2:\n",
    "    print(\"They are anagrams.\")\n",
    "else:\n",
    "    print(\"They are not anagrams.\")\n"
   ]
  },
  {
   "cell_type": "markdown",
   "metadata": {},
   "source": [
    "</div>\n",
    "\n",
    "2. You have a stick of total length 1. \n",
    "- Drop the stick and let it break at a random point (chosen uniformly along its length).\n",
    "- Take the longer of the two resulting pieces and drop it again, breaking it at a random point (uniformly along that piece).\n",
    "\n",
    "At the end you have three pieces whose total length is still 1.\n",
    "\n",
    "Write a Python program to estimate the probability that these three pieces can form a triangle. (to get uniformly ranmdom numbers use `random.uniform(a,b)`. PS: remember to import the module `random` )\n",
    "\n",
    "**Hint 1** Triangle condition: Three line segments of total length 1 can form a triangle if and only if no single piece is at least 0.5 units long (this is equivalent to the triangle inequality).\n",
    "\n",
    "**Hint 2** Estimating probabilities: When an exact formula is hard to find, we can approximate a probability by repeated random experiments. (number of sucessful trials divided by total number of trials)\n",
    "\n",
    "\n",
    "<div class=\"tggle\" onclick=\"toggleVisibility('ex2hard');\">Show/Hide Solution</div>\n",
    "<div id=\"ex2hard\" style=\"display:none;\">"
   ]
  },
  {
   "cell_type": "code",
   "execution_count": 16,
   "metadata": {},
   "outputs": [
    {
     "name": "stdout",
     "output_type": "stream",
     "text": [
      "0.3875\n"
     ]
    }
   ],
   "source": [
    "import random\n",
    "\n",
    "N_SIMUL = 100000\n",
    "\n",
    "count = 0\n",
    "\n",
    "for i in range(N_SIMUL):\n",
    "    first_drop = random.uniform(0,1)\n",
    "    \n",
    "    longest = max(first_drop,1-first_drop)\n",
    "    \n",
    "    second_drop = random.uniform(0,longest)\n",
    "    \n",
    "    if max(second_drop,longest-second_drop,min(first_drop,1-first_drop)) < 0.5:\n",
    "        count+=1\n",
    "\n",
    "print(count / N_SIMUL)"
   ]
  },
  {
   "cell_type": "markdown",
   "metadata": {},
   "source": [
    "</div>\n",
    "\n",
    "3. We want to explore **how the number of simulations influences the accuracy of a probability estimate**.\n",
    "\n",
    "- **Your task**\n",
    "  - Run your probability-estimation experiment for different numbers of simulations  \n",
    "    (for example: `10`, `100`, `1_000`, `10_000`, `100_000`).\n",
    "  - For each case, compute:\n",
    "    - the **mean** estimated probability\n",
    "    - the **standard deviation** of the estimates\n",
    "  - Store these results in three lists or arrays:\n",
    "    - `x` – number of simulations  \n",
    "    - `means` – mean probability for each `x`  \n",
    "    - `stds` – standard deviation for each `x`\n",
    "\n",
    "- **Hints for plotting with `matplotlib`**\n",
    "  - Create a figure with `plt.figure(figsize=(6,4))`.\n",
    "  - Plot the means as a curve with markers using  \n",
    "    ```python\n",
    "    plt.plot(x, means, marker='o', label='Mean')\n",
    "    ```\n",
    "  - Shade the region representing ±1 standard deviation using  \n",
    "    ```python\n",
    "    plt.fill_between(x, lower_values, upper_values,\n",
    "                     color='blue', alpha=0.2, label='± std')\n",
    "    ```\n",
    "    where `lower_values` and `upper_values` represent mean − std and mean + std.\n",
    "  - Set a **logarithmic x-axis** to better display the wide range of simulation counts:  \n",
    "    ```python\n",
    "    plt.xscale('log')\n",
    "    ```\n",
    "  - Add axis labels, a title, a legend, and a grid to improve readability:\n",
    "    ```python\n",
    "    plt.xlabel('Number of simulations')\n",
    "    plt.ylabel('Mean probability')\n",
    "    plt.title('Estimated probability vs number of simulations')\n",
    "    plt.legend()\n",
    "    plt.grid(True, which=\"both\", ls=\"--\", linewidth=0.5)\n",
    "    ```\n",
    "\n",
    "- **Goal**\n",
    "  - Produce a figure similar to the example below, showing how increasing the number of simulations reduces the variability of the probability estimate.\n",
    "\n",
    "  ![img22](img/modul2_exDiff_simulation_std_plot.png)\n",
    "\n",
    "\n",
    "\n",
    "\n",
    "<div class=\"tggle\" onclick=\"toggleVisibility('ex3hard');\">Show/Hide Solution</div>\n",
    "<div id=\"ex3hard\" style=\"display:none;\">\n"
   ]
  },
  {
   "cell_type": "code",
   "execution_count": 17,
   "metadata": {},
   "outputs": [
    {
     "data": {
      "image/png": "[encoded data removed]",
      "text/plain": [
       "<Figure size 600x400 with 1 Axes>"
      ]
     },
     "metadata": {},
     "output_type": "display_data"
    }
   ],
   "source": [
    "import random\n",
    "import numpy as np\n",
    "\n",
    "res = dict()\n",
    "for N_SIMUL in [10,100,1000,10000,100000]:\n",
    "    tmp = []\n",
    "    for repeat in range(20):\n",
    "        count = 0\n",
    "\n",
    "        for i in range(N_SIMUL):\n",
    "            first_drop = random.uniform(0,1)\n",
    "            \n",
    "            longest = max(first_drop,1-first_drop)\n",
    "            \n",
    "            second_drop = random.uniform(0,longest)\n",
    "            \n",
    "            if max(second_drop,longest-second_drop,min(first_drop,1-first_drop)) < 0.5:\n",
    "                count+=1\n",
    "\n",
    "        tmp.append(count / N_SIMUL)\n",
    "        \n",
    "    res[N_SIMUL] = (np.mean(tmp), np.std(tmp))\n",
    "    \n",
    "    \n",
    "x = list(res.keys())\n",
    "means = [v[0] for v in res.values()]\n",
    "stds = [v[1] for v in res.values()]\n",
    "import matplotlib.pyplot as plt\n",
    "\n",
    "# Create the plot\n",
    "plt.figure(figsize=(6,4))\n",
    "plt.plot(x, means, marker='o', label='Mean')\n",
    "plt.fill_between(x,\n",
    "                 [m - s for m, s in zip(means, stds)],\n",
    "                 [m + s for m, s in zip(means, stds)],\n",
    "                 color='blue', alpha=0.2, label='±1 std')\n",
    "\n",
    "plt.xscale('log')\n",
    "plt.xlabel('Number of simulations')\n",
    "plt.ylabel('Mean probability')\n",
    "plt.title('Estimated probability vs number of simulations')\n",
    "plt.legend()\n",
    "plt.grid(True, which=\"both\", ls=\"--\", linewidth=0.5)\n",
    "plt.show()"
   ]
  },
  {
   "cell_type": "markdown",
   "metadata": {},
   "source": [
    "</div>"
   ]
  },
  {
   "cell_type": "code",
   "execution_count": null,
   "metadata": {},
   "outputs": [],
   "source": []
  },
  {
   "cell_type": "code",
   "execution_count": null,
   "metadata": {},
   "outputs": [],
   "source": []
  },
  {
   "cell_type": "code",
   "execution_count": null,
   "metadata": {},
   "outputs": [],
   "source": []
  }
 ],
 "metadata": {
  "celltoolbar": "Edit Metadata",
  "kernelspec": {
   "display_name": "etn",
   "language": "python",
   "name": "python3"
  },
  "language_info": {
   "codemirror_mode": {
    "name": "ipython",
    "version": 3
   },
   "file_extension": ".py",
   "mimetype": "text/x-python",
   "name": "python",
   "nbconvert_exporter": "python",
   "pygments_lexer": "ipython3",
   "version": "3.12.6"
  },
  "toc": {
   "base_numbering": 1,
   "nav_menu": {},
   "number_sections": false,
   "sideBar": true,
   "skip_h1_title": false,
   "title_cell": "Table of Contents",
   "title_sidebar": "Contents",
   "toc_cell": false,
   "toc_position": {},
   "toc_section_display": true,
   "toc_window_display": false
  }
 },
 "nbformat": 4,
 "nbformat_minor": 2
}
